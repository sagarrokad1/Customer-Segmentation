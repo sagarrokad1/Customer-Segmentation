{
  "nbformat": 4,
  "nbformat_minor": 0,
  "metadata": {
    "colab": {
      "name": "Copy of Self Notebook Of Online Retail Customer Segmentation - Capstone Project.ipynb",
      "provenance": [],
      "collapsed_sections": [
        "Y06xIdG26kRF"
      ],
      "include_colab_link": true
    },
    "kernelspec": {
      "display_name": "Python 3",
      "language": "python",
      "name": "python3"
    },
    "language_info": {
      "codemirror_mode": {
        "name": "ipython",
        "version": 3
      },
      "file_extension": ".py",
      "mimetype": "text/x-python",
      "name": "python",
      "nbconvert_exporter": "python",
      "pygments_lexer": "ipython3",
      "version": "3.6.6"
    }
  },
  "cells": [
    {
      "cell_type": "markdown",
      "metadata": {
        "id": "view-in-github",
        "colab_type": "text"
      },
      "source": [
        "<a href=\"https://colab.research.google.com/github/sagarrokad1/Customer-Segmentation/blob/main/Self_Notebook_Of_Online_Retail_Customer_Segmentation_Capstone_Project.ipynb\" target=\"_parent\"><img src=\"https://colab.research.google.com/assets/colab-badge.svg\" alt=\"Open In Colab\"/></a>"
      ]
    },
    {
      "cell_type": "markdown",
      "metadata": {
        "id": "tOGC-qoyhJeX"
      },
      "source": [
        "# <b><u> Project Title : Extraction/identification of major topics & themes discussed in news articles. </u></b>"
      ]
    },
    {
      "cell_type": "markdown",
      "metadata": {
        "id": "Y06xIdG26kRF"
      },
      "source": [
        "## <b> Problem Description </b>\n",
        "\n",
        "### In this project, your task is to identify major customer segments on a transnational data set which contains all the transactions occurring between 01/12/2010 and 09/12/2011 for a UK-based and registered non-store online retail.The company mainly sells unique all-occasion gifts. Many customers of the company are wholesalers."
      ]
    },
    {
      "cell_type": "markdown",
      "metadata": {
        "id": "AlLxAtlziMbP"
      },
      "source": [
        "## <b> Data Description </b>\n",
        "\n",
        "### <b>Attribute Information: </b>\n",
        "\n",
        "* ### InvoiceNo: Invoice number. Nominal, a 6-digit integral number uniquely assigned to each transaction. If this code starts with letter 'c', it indicates a cancellation.\n",
        "* ### StockCode: Product (item) code. Nominal, a 5-digit integral number uniquely assigned to each distinct product.\n",
        "* ### Description: Product (item) name. Nominal.\n",
        "* ### Quantity: The quantities of each product (item) per transaction. Numeric.\n",
        "* ### InvoiceDate: Invice Date and time. Numeric, the day and time when each transaction was generated.\n",
        "* ### UnitPrice: Unit price. Numeric, Product price per unit in sterling.\n",
        "* ### CustomerID: Customer number. Nominal, a 5-digit integral number uniquely assigned to each customer.\n",
        "* ### Country: Country name. Nominal, the name of the country where each customer resides."
      ]
    },
    {
      "cell_type": "markdown",
      "metadata": {
        "id": "b62-xi05qjuB"
      },
      "source": [
        "## **Loading Libraries & Data**"
      ]
    },
    {
      "cell_type": "code",
      "metadata": {
        "id": "dByMsuzT8Tnw"
      },
      "source": [
        "import numpy as np\n",
        "import pandas as pd\n",
        "import random\n",
        "import seaborn as sns\n",
        "import matplotlib.pyplot as plt\n",
        "import matplotlib.pylab as pylab\n",
        "import datetime as dt\n",
        "import squarify\n",
        "from sklearn.cluster import KMeans\n",
        "sns.set_style(\"whitegrid\")\n",
        "%matplotlib inline"
      ],
      "execution_count": 1,
      "outputs": []
    },
    {
      "cell_type": "code",
      "metadata": {
        "id": "UYMxH50eKH9S",
        "colab": {
          "base_uri": "https://localhost:8080/"
        },
        "outputId": "c5aacafd-0794-484c-f0eb-f6f85df443ea"
      },
      "source": [
        "#mounting drive\n",
        "from google.colab import drive\n",
        "drive.mount('/content/drive')"
      ],
      "execution_count": 2,
      "outputs": [
        {
          "output_type": "stream",
          "text": [
            "Drive already mounted at /content/drive; to attempt to forcibly remount, call drive.mount(\"/content/drive\", force_remount=True).\n"
          ],
          "name": "stdout"
        }
      ]
    },
    {
      "cell_type": "code",
      "metadata": {
        "id": "rh-CQOfTKOEV"
      },
      "source": [
        "#Loading Dataset\n",
        "df= pd.read_csv('/content/drive/MyDrive/AlmaBetter/Capstone Projects/Customer Segmentation - Sagar Rokad/Data/Online-Retail.csv')"
      ],
      "execution_count": 3,
      "outputs": []
    },
    {
      "cell_type": "code",
      "metadata": {
        "colab": {
          "base_uri": "https://localhost:8080/",
          "height": 202
        },
        "id": "Ku0CZdv0K8no",
        "outputId": "fd3e6129-a09b-47db-c789-15f5246a1692"
      },
      "source": [
        "df.head()"
      ],
      "execution_count": 4,
      "outputs": [
        {
          "output_type": "execute_result",
          "data": {
            "text/html": [
              "<div>\n",
              "<style scoped>\n",
              "    .dataframe tbody tr th:only-of-type {\n",
              "        vertical-align: middle;\n",
              "    }\n",
              "\n",
              "    .dataframe tbody tr th {\n",
              "        vertical-align: top;\n",
              "    }\n",
              "\n",
              "    .dataframe thead th {\n",
              "        text-align: right;\n",
              "    }\n",
              "</style>\n",
              "<table border=\"1\" class=\"dataframe\">\n",
              "  <thead>\n",
              "    <tr style=\"text-align: right;\">\n",
              "      <th></th>\n",
              "      <th>InvoiceNo</th>\n",
              "      <th>StockCode</th>\n",
              "      <th>Description</th>\n",
              "      <th>Quantity</th>\n",
              "      <th>InvoiceDate</th>\n",
              "      <th>UnitPrice</th>\n",
              "      <th>CustomerID</th>\n",
              "      <th>Country</th>\n",
              "    </tr>\n",
              "  </thead>\n",
              "  <tbody>\n",
              "    <tr>\n",
              "      <th>0</th>\n",
              "      <td>536365</td>\n",
              "      <td>85123A</td>\n",
              "      <td>WHITE HANGING HEART T-LIGHT HOLDER</td>\n",
              "      <td>6</td>\n",
              "      <td>12/1/2010 8:26</td>\n",
              "      <td>2.55</td>\n",
              "      <td>17850.0</td>\n",
              "      <td>United Kingdom</td>\n",
              "    </tr>\n",
              "    <tr>\n",
              "      <th>1</th>\n",
              "      <td>536365</td>\n",
              "      <td>71053</td>\n",
              "      <td>WHITE METAL LANTERN</td>\n",
              "      <td>6</td>\n",
              "      <td>12/1/2010 8:26</td>\n",
              "      <td>3.39</td>\n",
              "      <td>17850.0</td>\n",
              "      <td>United Kingdom</td>\n",
              "    </tr>\n",
              "    <tr>\n",
              "      <th>2</th>\n",
              "      <td>536365</td>\n",
              "      <td>84406B</td>\n",
              "      <td>CREAM CUPID HEARTS COAT HANGER</td>\n",
              "      <td>8</td>\n",
              "      <td>12/1/2010 8:26</td>\n",
              "      <td>2.75</td>\n",
              "      <td>17850.0</td>\n",
              "      <td>United Kingdom</td>\n",
              "    </tr>\n",
              "    <tr>\n",
              "      <th>3</th>\n",
              "      <td>536365</td>\n",
              "      <td>84029G</td>\n",
              "      <td>KNITTED UNION FLAG HOT WATER BOTTLE</td>\n",
              "      <td>6</td>\n",
              "      <td>12/1/2010 8:26</td>\n",
              "      <td>3.39</td>\n",
              "      <td>17850.0</td>\n",
              "      <td>United Kingdom</td>\n",
              "    </tr>\n",
              "    <tr>\n",
              "      <th>4</th>\n",
              "      <td>536365</td>\n",
              "      <td>84029E</td>\n",
              "      <td>RED WOOLLY HOTTIE WHITE HEART.</td>\n",
              "      <td>6</td>\n",
              "      <td>12/1/2010 8:26</td>\n",
              "      <td>3.39</td>\n",
              "      <td>17850.0</td>\n",
              "      <td>United Kingdom</td>\n",
              "    </tr>\n",
              "  </tbody>\n",
              "</table>\n",
              "</div>"
            ],
            "text/plain": [
              "  InvoiceNo StockCode  ... CustomerID         Country\n",
              "0    536365    85123A  ...    17850.0  United Kingdom\n",
              "1    536365     71053  ...    17850.0  United Kingdom\n",
              "2    536365    84406B  ...    17850.0  United Kingdom\n",
              "3    536365    84029G  ...    17850.0  United Kingdom\n",
              "4    536365    84029E  ...    17850.0  United Kingdom\n",
              "\n",
              "[5 rows x 8 columns]"
            ]
          },
          "metadata": {},
          "execution_count": 4
        }
      ]
    },
    {
      "cell_type": "code",
      "metadata": {
        "colab": {
          "base_uri": "https://localhost:8080/",
          "height": 202
        },
        "id": "c0fLHccoLJnU",
        "outputId": "2d4946a3-ed51-400b-9a6d-84f938f84b19"
      },
      "source": [
        "df.tail()"
      ],
      "execution_count": 5,
      "outputs": [
        {
          "output_type": "execute_result",
          "data": {
            "text/html": [
              "<div>\n",
              "<style scoped>\n",
              "    .dataframe tbody tr th:only-of-type {\n",
              "        vertical-align: middle;\n",
              "    }\n",
              "\n",
              "    .dataframe tbody tr th {\n",
              "        vertical-align: top;\n",
              "    }\n",
              "\n",
              "    .dataframe thead th {\n",
              "        text-align: right;\n",
              "    }\n",
              "</style>\n",
              "<table border=\"1\" class=\"dataframe\">\n",
              "  <thead>\n",
              "    <tr style=\"text-align: right;\">\n",
              "      <th></th>\n",
              "      <th>InvoiceNo</th>\n",
              "      <th>StockCode</th>\n",
              "      <th>Description</th>\n",
              "      <th>Quantity</th>\n",
              "      <th>InvoiceDate</th>\n",
              "      <th>UnitPrice</th>\n",
              "      <th>CustomerID</th>\n",
              "      <th>Country</th>\n",
              "    </tr>\n",
              "  </thead>\n",
              "  <tbody>\n",
              "    <tr>\n",
              "      <th>541904</th>\n",
              "      <td>581587</td>\n",
              "      <td>22613</td>\n",
              "      <td>PACK OF 20 SPACEBOY NAPKINS</td>\n",
              "      <td>12</td>\n",
              "      <td>12/9/2011 12:50</td>\n",
              "      <td>0.85</td>\n",
              "      <td>12680.0</td>\n",
              "      <td>France</td>\n",
              "    </tr>\n",
              "    <tr>\n",
              "      <th>541905</th>\n",
              "      <td>581587</td>\n",
              "      <td>22899</td>\n",
              "      <td>CHILDREN'S APRON DOLLY GIRL</td>\n",
              "      <td>6</td>\n",
              "      <td>12/9/2011 12:50</td>\n",
              "      <td>2.10</td>\n",
              "      <td>12680.0</td>\n",
              "      <td>France</td>\n",
              "    </tr>\n",
              "    <tr>\n",
              "      <th>541906</th>\n",
              "      <td>581587</td>\n",
              "      <td>23254</td>\n",
              "      <td>CHILDRENS CUTLERY DOLLY GIRL</td>\n",
              "      <td>4</td>\n",
              "      <td>12/9/2011 12:50</td>\n",
              "      <td>4.15</td>\n",
              "      <td>12680.0</td>\n",
              "      <td>France</td>\n",
              "    </tr>\n",
              "    <tr>\n",
              "      <th>541907</th>\n",
              "      <td>581587</td>\n",
              "      <td>23255</td>\n",
              "      <td>CHILDRENS CUTLERY CIRCUS PARADE</td>\n",
              "      <td>4</td>\n",
              "      <td>12/9/2011 12:50</td>\n",
              "      <td>4.15</td>\n",
              "      <td>12680.0</td>\n",
              "      <td>France</td>\n",
              "    </tr>\n",
              "    <tr>\n",
              "      <th>541908</th>\n",
              "      <td>581587</td>\n",
              "      <td>22138</td>\n",
              "      <td>BAKING SET 9 PIECE RETROSPOT</td>\n",
              "      <td>3</td>\n",
              "      <td>12/9/2011 12:50</td>\n",
              "      <td>4.95</td>\n",
              "      <td>12680.0</td>\n",
              "      <td>France</td>\n",
              "    </tr>\n",
              "  </tbody>\n",
              "</table>\n",
              "</div>"
            ],
            "text/plain": [
              "       InvoiceNo StockCode  ... CustomerID  Country\n",
              "541904    581587     22613  ...    12680.0   France\n",
              "541905    581587     22899  ...    12680.0   France\n",
              "541906    581587     23254  ...    12680.0   France\n",
              "541907    581587     23255  ...    12680.0   France\n",
              "541908    581587     22138  ...    12680.0   France\n",
              "\n",
              "[5 rows x 8 columns]"
            ]
          },
          "metadata": {},
          "execution_count": 5
        }
      ]
    },
    {
      "cell_type": "code",
      "metadata": {
        "colab": {
          "base_uri": "https://localhost:8080/"
        },
        "id": "BBIGstsuNGjW",
        "outputId": "aa16365a-12e3-4fa6-fd4d-1696af3ee393"
      },
      "source": [
        "df.shape"
      ],
      "execution_count": 6,
      "outputs": [
        {
          "output_type": "execute_result",
          "data": {
            "text/plain": [
              "(541909, 8)"
            ]
          },
          "metadata": {},
          "execution_count": 6
        }
      ]
    },
    {
      "cell_type": "code",
      "metadata": {
        "colab": {
          "base_uri": "https://localhost:8080/"
        },
        "id": "JIx0i97lMZJ1",
        "outputId": "0d8d658d-dc3a-497a-86f3-7653aad4d624"
      },
      "source": [
        "df.info()"
      ],
      "execution_count": 7,
      "outputs": [
        {
          "output_type": "stream",
          "text": [
            "<class 'pandas.core.frame.DataFrame'>\n",
            "RangeIndex: 541909 entries, 0 to 541908\n",
            "Data columns (total 8 columns):\n",
            " #   Column       Non-Null Count   Dtype  \n",
            "---  ------       --------------   -----  \n",
            " 0   InvoiceNo    541909 non-null  object \n",
            " 1   StockCode    541909 non-null  object \n",
            " 2   Description  540455 non-null  object \n",
            " 3   Quantity     541909 non-null  int64  \n",
            " 4   InvoiceDate  541909 non-null  object \n",
            " 5   UnitPrice    541909 non-null  float64\n",
            " 6   CustomerID   406829 non-null  float64\n",
            " 7   Country      541909 non-null  object \n",
            "dtypes: float64(2), int64(1), object(5)\n",
            "memory usage: 33.1+ MB\n"
          ],
          "name": "stdout"
        }
      ]
    },
    {
      "cell_type": "code",
      "metadata": {
        "colab": {
          "base_uri": "https://localhost:8080/"
        },
        "id": "SMqINTOUsIpx",
        "outputId": "c0135d2a-31d5-4c84-b192-6288069e859e"
      },
      "source": [
        "df.isnull().sum()"
      ],
      "execution_count": 8,
      "outputs": [
        {
          "output_type": "execute_result",
          "data": {
            "text/plain": [
              "InvoiceNo           0\n",
              "StockCode           0\n",
              "Description      1454\n",
              "Quantity            0\n",
              "InvoiceDate         0\n",
              "UnitPrice           0\n",
              "CustomerID     135080\n",
              "Country             0\n",
              "dtype: int64"
            ]
          },
          "metadata": {},
          "execution_count": 8
        }
      ]
    },
    {
      "cell_type": "code",
      "metadata": {
        "id": "NFhadKulZYhB"
      },
      "source": [
        "df['InvoiceDate']=pd.to_datetime(df['InvoiceDate'])"
      ],
      "execution_count": 9,
      "outputs": []
    },
    {
      "cell_type": "code",
      "metadata": {
        "id": "jRf6psv-lKpY"
      },
      "source": [
        "#dropping redundant values\n",
        "df.drop_duplicates(inplace = True)"
      ],
      "execution_count": 10,
      "outputs": []
    },
    {
      "cell_type": "code",
      "metadata": {
        "colab": {
          "base_uri": "https://localhost:8080/"
        },
        "id": "YGd30EhhlKnt",
        "outputId": "23a4fcce-18af-47f7-c461-11495e4ea24c"
      },
      "source": [
        "df.shape"
      ],
      "execution_count": 11,
      "outputs": [
        {
          "output_type": "execute_result",
          "data": {
            "text/plain": [
              "(536641, 8)"
            ]
          },
          "metadata": {},
          "execution_count": 11
        }
      ]
    },
    {
      "cell_type": "markdown",
      "metadata": {
        "id": "YJZannGqspAi"
      },
      "source": [
        "**Top 10 Ordering Countries**"
      ]
    },
    {
      "cell_type": "code",
      "metadata": {
        "colab": {
          "base_uri": "https://localhost:8080/",
          "height": 462
        },
        "id": "4i9V3XbmsTcr",
        "outputId": "240c2874-d38c-4b95-f81c-f8aa7d5d30c4"
      },
      "source": [
        "df.Country.value_counts().head(10).plot.bar(figsize=(10,6))"
      ],
      "execution_count": 12,
      "outputs": [
        {
          "output_type": "execute_result",
          "data": {
            "text/plain": [
              "<matplotlib.axes._subplots.AxesSubplot at 0x7f7917349f50>"
            ]
          },
          "metadata": {},
          "execution_count": 12
        },
        {
          "output_type": "display_data",
          "data": {
            "image/png": "[encoded data removed]",
            "text/plain": [
              "<Figure size 720x432 with 1 Axes>"
            ]
          },
          "metadata": {
            "needs_background": "light"
          }
        }
      ]
    },
    {
      "cell_type": "markdown",
      "metadata": {
        "id": "Cm7ePrV0sGo_"
      },
      "source": [
        "**Bottom 10 Ordering Countries**"
      ]
    },
    {
      "cell_type": "code",
      "metadata": {
        "colab": {
          "base_uri": "https://localhost:8080/",
          "height": 490
        },
        "id": "kfxYBpxHsK2S",
        "outputId": "debf9d57-e3c8-44db-e922-8830a57493b5"
      },
      "source": [
        "df.Country.value_counts().tail(10).plot.bar(figsize=(10,6))"
      ],
      "execution_count": 13,
      "outputs": [
        {
          "output_type": "execute_result",
          "data": {
            "text/plain": [
              "<matplotlib.axes._subplots.AxesSubplot at 0x7f791724ad10>"
            ]
          },
          "metadata": {},
          "execution_count": 13
        },
        {
          "output_type": "display_data",
          "data": {
            "image/png": "[encoded data removed]",
            "text/plain": [
              "<Figure size 720x432 with 1 Axes>"
            ]
          },
          "metadata": {
            "needs_background": "light"
          }
        }
      ]
    },
    {
      "cell_type": "markdown",
      "metadata": {
        "id": "cU2tb4LMtsDX"
      },
      "source": [
        "**No. of Unique Customers**"
      ]
    },
    {
      "cell_type": "code",
      "metadata": {
        "colab": {
          "base_uri": "https://localhost:8080/"
        },
        "id": "wUikaURyst4f",
        "outputId": "1eae3c2e-4690-4fae-c818-3e129ceb468e"
      },
      "source": [
        "len(df.CustomerID.unique())"
      ],
      "execution_count": 14,
      "outputs": [
        {
          "output_type": "execute_result",
          "data": {
            "text/plain": [
              "4373"
            ]
          },
          "metadata": {},
          "execution_count": 14
        }
      ]
    },
    {
      "cell_type": "markdown",
      "metadata": {
        "id": "_QKfOkFLsZdb"
      },
      "source": [
        "**No. of unique products and stock codes**"
      ]
    },
    {
      "cell_type": "code",
      "metadata": {
        "colab": {
          "base_uri": "https://localhost:8080/"
        },
        "id": "61CLg3MUt39V",
        "outputId": "e98e0c62-c2ec-4fab-830d-4165fa6bcc67"
      },
      "source": [
        "#Find number of unique items in stock\n",
        "print(f\"Number of unique item stock codes: {len(df.StockCode.unique())}\")\n",
        "print(f\"Number of unique item descriptions: {len(df.Description.unique())}\")"
      ],
      "execution_count": 15,
      "outputs": [
        {
          "output_type": "stream",
          "text": [
            "Number of unique item stock codes: 4070\n",
            "Number of unique item descriptions: 4224\n"
          ],
          "name": "stdout"
        }
      ]
    },
    {
      "cell_type": "markdown",
      "metadata": {
        "id": "XKdRQRKeupO_"
      },
      "source": [
        "**The count of unique stock unit ids and their descriptions should have matched but they do not. This implies some stock units might have more than one descriptions. Let us examine the reasons behind this data quality issue:**"
      ]
    },
    {
      "cell_type": "code",
      "metadata": {
        "colab": {
          "base_uri": "https://localhost:8080/",
          "height": 202
        },
        "id": "ApcgvWVFuhGh",
        "outputId": "bb6b6a55-540d-4a24-f1c6-e3ec88125126"
      },
      "source": [
        "#Find out the stock units that have more than one description\n",
        "dfStockDesc = df.groupby([\"StockCode\",\"Description\"]).count().reset_index()\n",
        "dfStockDesc.StockCode.value_counts()[dfStockDesc.StockCode.value_counts()>1].reset_index().head()"
      ],
      "execution_count": 16,
      "outputs": [
        {
          "output_type": "execute_result",
          "data": {
            "text/html": [
              "<div>\n",
              "<style scoped>\n",
              "    .dataframe tbody tr th:only-of-type {\n",
              "        vertical-align: middle;\n",
              "    }\n",
              "\n",
              "    .dataframe tbody tr th {\n",
              "        vertical-align: top;\n",
              "    }\n",
              "\n",
              "    .dataframe thead th {\n",
              "        text-align: right;\n",
              "    }\n",
              "</style>\n",
              "<table border=\"1\" class=\"dataframe\">\n",
              "  <thead>\n",
              "    <tr style=\"text-align: right;\">\n",
              "      <th></th>\n",
              "      <th>index</th>\n",
              "      <th>StockCode</th>\n",
              "    </tr>\n",
              "  </thead>\n",
              "  <tbody>\n",
              "    <tr>\n",
              "      <th>0</th>\n",
              "      <td>20713</td>\n",
              "      <td>8</td>\n",
              "    </tr>\n",
              "    <tr>\n",
              "      <th>1</th>\n",
              "      <td>23084</td>\n",
              "      <td>7</td>\n",
              "    </tr>\n",
              "    <tr>\n",
              "      <th>2</th>\n",
              "      <td>21830</td>\n",
              "      <td>6</td>\n",
              "    </tr>\n",
              "    <tr>\n",
              "      <th>3</th>\n",
              "      <td>85175</td>\n",
              "      <td>6</td>\n",
              "    </tr>\n",
              "    <tr>\n",
              "      <th>4</th>\n",
              "      <td>23131</td>\n",
              "      <td>5</td>\n",
              "    </tr>\n",
              "  </tbody>\n",
              "</table>\n",
              "</div>"
            ],
            "text/plain": [
              "   index  StockCode\n",
              "0  20713          8\n",
              "1  23084          7\n",
              "2  21830          6\n",
              "3  85175          6\n",
              "4  23131          5"
            ]
          },
          "metadata": {},
          "execution_count": 16
        }
      ]
    },
    {
      "cell_type": "markdown",
      "metadata": {
        "id": "LRw-F_oKvIBM"
      },
      "source": [
        "**Now, let us examine how a single unit code has multiple description:**"
      ]
    },
    {
      "cell_type": "code",
      "metadata": {
        "colab": {
          "base_uri": "https://localhost:8080/"
        },
        "id": "-Q9hsVNguu3w",
        "outputId": "7491796b-50de-43c4-cc72-56176e42ea0b"
      },
      "source": [
        "df[df['StockCode'] == \n",
        "         dfStockDesc.StockCode.value_counts()\n",
        "         [dfStockDesc.StockCode.value_counts()>1].reset_index()\n",
        "         ['index'][8]]['Description'].unique()"
      ],
      "execution_count": 17,
      "outputs": [
        {
          "output_type": "execute_result",
          "data": {
            "text/plain": [
              "array(['HYACINTH BULB T-LIGHT CANDLES', 'Dotcom set',\n",
              "       'wrongly sold as sets', '?sold as sets?', 'check'], dtype=object)"
            ]
          },
          "metadata": {},
          "execution_count": 17
        }
      ]
    },
    {
      "cell_type": "markdown",
      "metadata": {
        "id": "e7lRYazmvSCH"
      },
      "source": [
        "**We notice that this description is a manually entered field and thus has discrepancies and inconsistencies. However, since the objective of this task is customer segmentation, we avoid exploring and resolving this issue further**"
      ]
    },
    {
      "cell_type": "code",
      "metadata": {
        "colab": {
          "base_uri": "https://localhost:8080/",
          "height": 294
        },
        "id": "Xd-CsYUfsPn5",
        "outputId": "1e293eb6-62e2-43f1-842c-c9f8614f116b"
      },
      "source": [
        "df.describe()"
      ],
      "execution_count": 18,
      "outputs": [
        {
          "output_type": "execute_result",
          "data": {
            "text/html": [
              "<div>\n",
              "<style scoped>\n",
              "    .dataframe tbody tr th:only-of-type {\n",
              "        vertical-align: middle;\n",
              "    }\n",
              "\n",
              "    .dataframe tbody tr th {\n",
              "        vertical-align: top;\n",
              "    }\n",
              "\n",
              "    .dataframe thead th {\n",
              "        text-align: right;\n",
              "    }\n",
              "</style>\n",
              "<table border=\"1\" class=\"dataframe\">\n",
              "  <thead>\n",
              "    <tr style=\"text-align: right;\">\n",
              "      <th></th>\n",
              "      <th>Quantity</th>\n",
              "      <th>UnitPrice</th>\n",
              "      <th>CustomerID</th>\n",
              "    </tr>\n",
              "  </thead>\n",
              "  <tbody>\n",
              "    <tr>\n",
              "      <th>count</th>\n",
              "      <td>536641.000000</td>\n",
              "      <td>536641.000000</td>\n",
              "      <td>401604.000000</td>\n",
              "    </tr>\n",
              "    <tr>\n",
              "      <th>mean</th>\n",
              "      <td>9.620029</td>\n",
              "      <td>4.632656</td>\n",
              "      <td>15281.160818</td>\n",
              "    </tr>\n",
              "    <tr>\n",
              "      <th>std</th>\n",
              "      <td>219.130156</td>\n",
              "      <td>97.233118</td>\n",
              "      <td>1714.006089</td>\n",
              "    </tr>\n",
              "    <tr>\n",
              "      <th>min</th>\n",
              "      <td>-80995.000000</td>\n",
              "      <td>-11062.060000</td>\n",
              "      <td>12346.000000</td>\n",
              "    </tr>\n",
              "    <tr>\n",
              "      <th>25%</th>\n",
              "      <td>1.000000</td>\n",
              "      <td>1.250000</td>\n",
              "      <td>13939.000000</td>\n",
              "    </tr>\n",
              "    <tr>\n",
              "      <th>50%</th>\n",
              "      <td>3.000000</td>\n",
              "      <td>2.080000</td>\n",
              "      <td>15145.000000</td>\n",
              "    </tr>\n",
              "    <tr>\n",
              "      <th>75%</th>\n",
              "      <td>10.000000</td>\n",
              "      <td>4.130000</td>\n",
              "      <td>16784.000000</td>\n",
              "    </tr>\n",
              "    <tr>\n",
              "      <th>max</th>\n",
              "      <td>80995.000000</td>\n",
              "      <td>38970.000000</td>\n",
              "      <td>18287.000000</td>\n",
              "    </tr>\n",
              "  </tbody>\n",
              "</table>\n",
              "</div>"
            ],
            "text/plain": [
              "            Quantity      UnitPrice     CustomerID\n",
              "count  536641.000000  536641.000000  401604.000000\n",
              "mean        9.620029       4.632656   15281.160818\n",
              "std       219.130156      97.233118    1714.006089\n",
              "min    -80995.000000  -11062.060000   12346.000000\n",
              "25%         1.000000       1.250000   13939.000000\n",
              "50%         3.000000       2.080000   15145.000000\n",
              "75%        10.000000       4.130000   16784.000000\n",
              "max     80995.000000   38970.000000   18287.000000"
            ]
          },
          "metadata": {},
          "execution_count": 18
        }
      ]
    },
    {
      "cell_type": "markdown",
      "metadata": {
        "id": "J-ShEGPTvt8Q"
      },
      "source": [
        "*   We see 10 goods being sold on an average with a standard deviation of around 200. Also, the minimum quantity includes a negative value, this implies that the dataset includes returned items as well, a common scenario in retail domain.\n",
        "\n",
        "\n",
        "*  The unit price field echoes the similar observations as Quantity variable.\n",
        "\n",
        "\n",
        "\n",
        "\n",
        "\n"
      ]
    },
    {
      "cell_type": "markdown",
      "metadata": {
        "id": "T_aiiaWtAAFz"
      },
      "source": [
        "### **Negative Values**"
      ]
    },
    {
      "cell_type": "code",
      "metadata": {
        "colab": {
          "base_uri": "https://localhost:8080/",
          "height": 202
        },
        "id": "KMJpCOAhAE2_",
        "outputId": "ee327d12-5210-46af-eec4-3c33b85edbc3"
      },
      "source": [
        "cancelled_orders = df[df['InvoiceNo'].astype(str).str.contains('C')]\n",
        "cancelled_orders.head()"
      ],
      "execution_count": 19,
      "outputs": [
        {
          "output_type": "execute_result",
          "data": {
            "text/html": [
              "<div>\n",
              "<style scoped>\n",
              "    .dataframe tbody tr th:only-of-type {\n",
              "        vertical-align: middle;\n",
              "    }\n",
              "\n",
              "    .dataframe tbody tr th {\n",
              "        vertical-align: top;\n",
              "    }\n",
              "\n",
              "    .dataframe thead th {\n",
              "        text-align: right;\n",
              "    }\n",
              "</style>\n",
              "<table border=\"1\" class=\"dataframe\">\n",
              "  <thead>\n",
              "    <tr style=\"text-align: right;\">\n",
              "      <th></th>\n",
              "      <th>InvoiceNo</th>\n",
              "      <th>StockCode</th>\n",
              "      <th>Description</th>\n",
              "      <th>Quantity</th>\n",
              "      <th>InvoiceDate</th>\n",
              "      <th>UnitPrice</th>\n",
              "      <th>CustomerID</th>\n",
              "      <th>Country</th>\n",
              "    </tr>\n",
              "  </thead>\n",
              "  <tbody>\n",
              "    <tr>\n",
              "      <th>141</th>\n",
              "      <td>C536379</td>\n",
              "      <td>D</td>\n",
              "      <td>Discount</td>\n",
              "      <td>-1</td>\n",
              "      <td>2010-12-01 09:41:00</td>\n",
              "      <td>27.50</td>\n",
              "      <td>14527.0</td>\n",
              "      <td>United Kingdom</td>\n",
              "    </tr>\n",
              "    <tr>\n",
              "      <th>154</th>\n",
              "      <td>C536383</td>\n",
              "      <td>35004C</td>\n",
              "      <td>SET OF 3 COLOURED  FLYING DUCKS</td>\n",
              "      <td>-1</td>\n",
              "      <td>2010-12-01 09:49:00</td>\n",
              "      <td>4.65</td>\n",
              "      <td>15311.0</td>\n",
              "      <td>United Kingdom</td>\n",
              "    </tr>\n",
              "    <tr>\n",
              "      <th>235</th>\n",
              "      <td>C536391</td>\n",
              "      <td>22556</td>\n",
              "      <td>PLASTERS IN TIN CIRCUS PARADE</td>\n",
              "      <td>-12</td>\n",
              "      <td>2010-12-01 10:24:00</td>\n",
              "      <td>1.65</td>\n",
              "      <td>17548.0</td>\n",
              "      <td>United Kingdom</td>\n",
              "    </tr>\n",
              "    <tr>\n",
              "      <th>236</th>\n",
              "      <td>C536391</td>\n",
              "      <td>21984</td>\n",
              "      <td>PACK OF 12 PINK PAISLEY TISSUES</td>\n",
              "      <td>-24</td>\n",
              "      <td>2010-12-01 10:24:00</td>\n",
              "      <td>0.29</td>\n",
              "      <td>17548.0</td>\n",
              "      <td>United Kingdom</td>\n",
              "    </tr>\n",
              "    <tr>\n",
              "      <th>237</th>\n",
              "      <td>C536391</td>\n",
              "      <td>21983</td>\n",
              "      <td>PACK OF 12 BLUE PAISLEY TISSUES</td>\n",
              "      <td>-24</td>\n",
              "      <td>2010-12-01 10:24:00</td>\n",
              "      <td>0.29</td>\n",
              "      <td>17548.0</td>\n",
              "      <td>United Kingdom</td>\n",
              "    </tr>\n",
              "  </tbody>\n",
              "</table>\n",
              "</div>"
            ],
            "text/plain": [
              "    InvoiceNo StockCode  ... CustomerID         Country\n",
              "141   C536379         D  ...    14527.0  United Kingdom\n",
              "154   C536383    35004C  ...    15311.0  United Kingdom\n",
              "235   C536391     22556  ...    17548.0  United Kingdom\n",
              "236   C536391     21984  ...    17548.0  United Kingdom\n",
              "237   C536391     21983  ...    17548.0  United Kingdom\n",
              "\n",
              "[5 rows x 8 columns]"
            ]
          },
          "metadata": {},
          "execution_count": 19
        }
      ]
    },
    {
      "cell_type": "code",
      "metadata": {
        "colab": {
          "base_uri": "https://localhost:8080/",
          "height": 48
        },
        "id": "PfppymvUAE0D",
        "outputId": "4acd06e4-b536-4634-f326-3c6a4707d42c"
      },
      "source": [
        "cancelled_orders[cancelled_orders['Quantity']>0]"
      ],
      "execution_count": 20,
      "outputs": [
        {
          "output_type": "execute_result",
          "data": {
            "text/html": [
              "<div>\n",
              "<style scoped>\n",
              "    .dataframe tbody tr th:only-of-type {\n",
              "        vertical-align: middle;\n",
              "    }\n",
              "\n",
              "    .dataframe tbody tr th {\n",
              "        vertical-align: top;\n",
              "    }\n",
              "\n",
              "    .dataframe thead th {\n",
              "        text-align: right;\n",
              "    }\n",
              "</style>\n",
              "<table border=\"1\" class=\"dataframe\">\n",
              "  <thead>\n",
              "    <tr style=\"text-align: right;\">\n",
              "      <th></th>\n",
              "      <th>InvoiceNo</th>\n",
              "      <th>StockCode</th>\n",
              "      <th>Description</th>\n",
              "      <th>Quantity</th>\n",
              "      <th>InvoiceDate</th>\n",
              "      <th>UnitPrice</th>\n",
              "      <th>CustomerID</th>\n",
              "      <th>Country</th>\n",
              "    </tr>\n",
              "  </thead>\n",
              "  <tbody>\n",
              "  </tbody>\n",
              "</table>\n",
              "</div>"
            ],
            "text/plain": [
              "Empty DataFrame\n",
              "Columns: [InvoiceNo, StockCode, Description, Quantity, InvoiceDate, UnitPrice, CustomerID, Country]\n",
              "Index: []"
            ]
          },
          "metadata": {},
          "execution_count": 20
        }
      ]
    },
    {
      "cell_type": "markdown",
      "metadata": {
        "id": "4nzBI7yiANNO"
      },
      "source": [
        "**Since nothing came back when we filtered the cancelled orders by Quantity > 0, this confirms that the negative values mean the order was cancelled.**"
      ]
    },
    {
      "cell_type": "markdown",
      "metadata": {
        "id": "eQ9HrO1nAeaJ"
      },
      "source": [
        "**How many orders were cancelled?**"
      ]
    },
    {
      "cell_type": "code",
      "metadata": {
        "colab": {
          "base_uri": "https://localhost:8080/"
        },
        "id": "X-JLvFjrAEwV",
        "outputId": "4dc034cb-56d6-47bb-91e4-fdf85cead0eb"
      },
      "source": [
        "print(\"There were\", len(cancelled_orders), \"cancelled orders.\")\n",
        "\n",
        "#Calculate the percentage of cancellations by dividing the cancelled orders by the total orders\n",
        "total_orders = df['InvoiceNo'].nunique()\n",
        "number_cancelled = len(cancelled_orders)\n",
        "print('Percentage of orders cancelled: {:.2f}% '.format(number_cancelled / total_orders * 100))"
      ],
      "execution_count": 21,
      "outputs": [
        {
          "output_type": "stream",
          "text": [
            "There were 9251 cancelled orders.\n",
            "Percentage of orders cancelled: 35.72% \n"
          ],
          "name": "stdout"
        }
      ]
    },
    {
      "cell_type": "markdown",
      "metadata": {
        "id": "_3pR9jQ8A6Z7"
      },
      "source": [
        "**9288 or about 36% of the orders were cancelled. Looking deeper into why these orders were cancelled may prevent future cancellations.**"
      ]
    },
    {
      "cell_type": "markdown",
      "metadata": {
        "id": "oPMtukdtA9V3"
      },
      "source": [
        "**Now let's find out what a negative UnitPrice means.**"
      ]
    },
    {
      "cell_type": "code",
      "metadata": {
        "colab": {
          "base_uri": "https://localhost:8080/",
          "height": 110
        },
        "id": "jfZeR-5PAEsO",
        "outputId": "221ab4a9-1203-4398-f5cd-39063c064cd6"
      },
      "source": [
        "df[df['UnitPrice'] < 0]"
      ],
      "execution_count": 22,
      "outputs": [
        {
          "output_type": "execute_result",
          "data": {
            "text/html": [
              "<div>\n",
              "<style scoped>\n",
              "    .dataframe tbody tr th:only-of-type {\n",
              "        vertical-align: middle;\n",
              "    }\n",
              "\n",
              "    .dataframe tbody tr th {\n",
              "        vertical-align: top;\n",
              "    }\n",
              "\n",
              "    .dataframe thead th {\n",
              "        text-align: right;\n",
              "    }\n",
              "</style>\n",
              "<table border=\"1\" class=\"dataframe\">\n",
              "  <thead>\n",
              "    <tr style=\"text-align: right;\">\n",
              "      <th></th>\n",
              "      <th>InvoiceNo</th>\n",
              "      <th>StockCode</th>\n",
              "      <th>Description</th>\n",
              "      <th>Quantity</th>\n",
              "      <th>InvoiceDate</th>\n",
              "      <th>UnitPrice</th>\n",
              "      <th>CustomerID</th>\n",
              "      <th>Country</th>\n",
              "    </tr>\n",
              "  </thead>\n",
              "  <tbody>\n",
              "    <tr>\n",
              "      <th>299983</th>\n",
              "      <td>A563186</td>\n",
              "      <td>B</td>\n",
              "      <td>Adjust bad debt</td>\n",
              "      <td>1</td>\n",
              "      <td>2011-08-12 14:51:00</td>\n",
              "      <td>-11062.06</td>\n",
              "      <td>NaN</td>\n",
              "      <td>United Kingdom</td>\n",
              "    </tr>\n",
              "    <tr>\n",
              "      <th>299984</th>\n",
              "      <td>A563187</td>\n",
              "      <td>B</td>\n",
              "      <td>Adjust bad debt</td>\n",
              "      <td>1</td>\n",
              "      <td>2011-08-12 14:52:00</td>\n",
              "      <td>-11062.06</td>\n",
              "      <td>NaN</td>\n",
              "      <td>United Kingdom</td>\n",
              "    </tr>\n",
              "  </tbody>\n",
              "</table>\n",
              "</div>"
            ],
            "text/plain": [
              "       InvoiceNo StockCode  ... CustomerID         Country\n",
              "299983   A563186         B  ...        NaN  United Kingdom\n",
              "299984   A563187         B  ...        NaN  United Kingdom\n",
              "\n",
              "[2 rows x 8 columns]"
            ]
          },
          "metadata": {},
          "execution_count": 22
        }
      ]
    },
    {
      "cell_type": "markdown",
      "metadata": {
        "id": "ybrV5A_xAzh0"
      },
      "source": [
        "**The description of \"Adjust bad debt\" tells us that this is an adjustment for a customer with insufficient funds or an allowance for a customer who never paid for the order.**"
      ]
    },
    {
      "cell_type": "markdown",
      "metadata": {
        "id": "WmSayzJQCIVK"
      },
      "source": [
        "### **Exploring the Orders**"
      ]
    },
    {
      "cell_type": "markdown",
      "metadata": {
        "id": "BI3Xi3G_8lvj"
      },
      "source": [
        "**What's the average number of orders per customer ?**"
      ]
    },
    {
      "cell_type": "code",
      "metadata": {
        "colab": {
          "base_uri": "https://localhost:8080/",
          "height": 232
        },
        "id": "4Dij2et38lcv",
        "outputId": "e1271d93-37e0-46f5-d5b2-1762bcc9f25d"
      },
      "source": [
        "#Find the unique number of InvoiceNo  per customer\n",
        "groupby_customers = pd.DataFrame(df.groupby('CustomerID')['InvoiceNo'].nunique())\n",
        "groupby_customers.head()"
      ],
      "execution_count": 23,
      "outputs": [
        {
          "output_type": "execute_result",
          "data": {
            "text/html": [
              "<div>\n",
              "<style scoped>\n",
              "    .dataframe tbody tr th:only-of-type {\n",
              "        vertical-align: middle;\n",
              "    }\n",
              "\n",
              "    .dataframe tbody tr th {\n",
              "        vertical-align: top;\n",
              "    }\n",
              "\n",
              "    .dataframe thead th {\n",
              "        text-align: right;\n",
              "    }\n",
              "</style>\n",
              "<table border=\"1\" class=\"dataframe\">\n",
              "  <thead>\n",
              "    <tr style=\"text-align: right;\">\n",
              "      <th></th>\n",
              "      <th>InvoiceNo</th>\n",
              "    </tr>\n",
              "    <tr>\n",
              "      <th>CustomerID</th>\n",
              "      <th></th>\n",
              "    </tr>\n",
              "  </thead>\n",
              "  <tbody>\n",
              "    <tr>\n",
              "      <th>12346.0</th>\n",
              "      <td>2</td>\n",
              "    </tr>\n",
              "    <tr>\n",
              "      <th>12347.0</th>\n",
              "      <td>7</td>\n",
              "    </tr>\n",
              "    <tr>\n",
              "      <th>12348.0</th>\n",
              "      <td>4</td>\n",
              "    </tr>\n",
              "    <tr>\n",
              "      <th>12349.0</th>\n",
              "      <td>1</td>\n",
              "    </tr>\n",
              "    <tr>\n",
              "      <th>12350.0</th>\n",
              "      <td>1</td>\n",
              "    </tr>\n",
              "  </tbody>\n",
              "</table>\n",
              "</div>"
            ],
            "text/plain": [
              "            InvoiceNo\n",
              "CustomerID           \n",
              "12346.0             2\n",
              "12347.0             7\n",
              "12348.0             4\n",
              "12349.0             1\n",
              "12350.0             1"
            ]
          },
          "metadata": {},
          "execution_count": 23
        }
      ]
    },
    {
      "cell_type": "code",
      "metadata": {
        "colab": {
          "base_uri": "https://localhost:8080/",
          "height": 294
        },
        "id": "YyljtGqZCX3A",
        "outputId": "0b9cf212-ff77-4d6b-af7d-066e82f96839"
      },
      "source": [
        "groupby_customers.describe()"
      ],
      "execution_count": 24,
      "outputs": [
        {
          "output_type": "execute_result",
          "data": {
            "text/html": [
              "<div>\n",
              "<style scoped>\n",
              "    .dataframe tbody tr th:only-of-type {\n",
              "        vertical-align: middle;\n",
              "    }\n",
              "\n",
              "    .dataframe tbody tr th {\n",
              "        vertical-align: top;\n",
              "    }\n",
              "\n",
              "    .dataframe thead th {\n",
              "        text-align: right;\n",
              "    }\n",
              "</style>\n",
              "<table border=\"1\" class=\"dataframe\">\n",
              "  <thead>\n",
              "    <tr style=\"text-align: right;\">\n",
              "      <th></th>\n",
              "      <th>InvoiceNo</th>\n",
              "    </tr>\n",
              "  </thead>\n",
              "  <tbody>\n",
              "    <tr>\n",
              "      <th>count</th>\n",
              "      <td>4372.000000</td>\n",
              "    </tr>\n",
              "    <tr>\n",
              "      <th>mean</th>\n",
              "      <td>5.075480</td>\n",
              "    </tr>\n",
              "    <tr>\n",
              "      <th>std</th>\n",
              "      <td>9.338754</td>\n",
              "    </tr>\n",
              "    <tr>\n",
              "      <th>min</th>\n",
              "      <td>1.000000</td>\n",
              "    </tr>\n",
              "    <tr>\n",
              "      <th>25%</th>\n",
              "      <td>1.000000</td>\n",
              "    </tr>\n",
              "    <tr>\n",
              "      <th>50%</th>\n",
              "      <td>3.000000</td>\n",
              "    </tr>\n",
              "    <tr>\n",
              "      <th>75%</th>\n",
              "      <td>5.000000</td>\n",
              "    </tr>\n",
              "    <tr>\n",
              "      <th>max</th>\n",
              "      <td>248.000000</td>\n",
              "    </tr>\n",
              "  </tbody>\n",
              "</table>\n",
              "</div>"
            ],
            "text/plain": [
              "         InvoiceNo\n",
              "count  4372.000000\n",
              "mean      5.075480\n",
              "std       9.338754\n",
              "min       1.000000\n",
              "25%       1.000000\n",
              "50%       3.000000\n",
              "75%       5.000000\n",
              "max     248.000000"
            ]
          },
          "metadata": {},
          "execution_count": 24
        }
      ]
    },
    {
      "cell_type": "markdown",
      "metadata": {
        "id": "BUIbvCm2CbZj"
      },
      "source": [
        "**The average number of orders per customer is 3.**"
      ]
    },
    {
      "cell_type": "markdown",
      "metadata": {
        "id": "m3qz-CqsCmu8"
      },
      "source": [
        "**What's the average number of unqiue items per order and per customer?**"
      ]
    },
    {
      "cell_type": "code",
      "metadata": {
        "colab": {
          "base_uri": "https://localhost:8080/",
          "height": 232
        },
        "id": "w9B4g9VW7zdu",
        "outputId": "8dacca94-d66e-44c8-e6b6-58a7aeaa388e"
      },
      "source": [
        "groupby_ID = pd.DataFrame(df.groupby('CustomerID')['StockCode'].nunique())\n",
        "groupby_ID.columns = ['Number of Items per Customer']\n",
        "groupby_ID.head()"
      ],
      "execution_count": 25,
      "outputs": [
        {
          "output_type": "execute_result",
          "data": {
            "text/html": [
              "<div>\n",
              "<style scoped>\n",
              "    .dataframe tbody tr th:only-of-type {\n",
              "        vertical-align: middle;\n",
              "    }\n",
              "\n",
              "    .dataframe tbody tr th {\n",
              "        vertical-align: top;\n",
              "    }\n",
              "\n",
              "    .dataframe thead th {\n",
              "        text-align: right;\n",
              "    }\n",
              "</style>\n",
              "<table border=\"1\" class=\"dataframe\">\n",
              "  <thead>\n",
              "    <tr style=\"text-align: right;\">\n",
              "      <th></th>\n",
              "      <th>Number of Items per Customer</th>\n",
              "    </tr>\n",
              "    <tr>\n",
              "      <th>CustomerID</th>\n",
              "      <th></th>\n",
              "    </tr>\n",
              "  </thead>\n",
              "  <tbody>\n",
              "    <tr>\n",
              "      <th>12346.0</th>\n",
              "      <td>1</td>\n",
              "    </tr>\n",
              "    <tr>\n",
              "      <th>12347.0</th>\n",
              "      <td>103</td>\n",
              "    </tr>\n",
              "    <tr>\n",
              "      <th>12348.0</th>\n",
              "      <td>22</td>\n",
              "    </tr>\n",
              "    <tr>\n",
              "      <th>12349.0</th>\n",
              "      <td>73</td>\n",
              "    </tr>\n",
              "    <tr>\n",
              "      <th>12350.0</th>\n",
              "      <td>17</td>\n",
              "    </tr>\n",
              "  </tbody>\n",
              "</table>\n",
              "</div>"
            ],
            "text/plain": [
              "            Number of Items per Customer\n",
              "CustomerID                              \n",
              "12346.0                                1\n",
              "12347.0                              103\n",
              "12348.0                               22\n",
              "12349.0                               73\n",
              "12350.0                               17"
            ]
          },
          "metadata": {},
          "execution_count": 25
        }
      ]
    },
    {
      "cell_type": "code",
      "metadata": {
        "colab": {
          "base_uri": "https://localhost:8080/",
          "height": 294
        },
        "id": "4s4h4nRlDBDv",
        "outputId": "58e54190-bfc5-41d3-a1ca-bf71133a535d"
      },
      "source": [
        "groupby_ID.describe()"
      ],
      "execution_count": 26,
      "outputs": [
        {
          "output_type": "execute_result",
          "data": {
            "text/html": [
              "<div>\n",
              "<style scoped>\n",
              "    .dataframe tbody tr th:only-of-type {\n",
              "        vertical-align: middle;\n",
              "    }\n",
              "\n",
              "    .dataframe tbody tr th {\n",
              "        vertical-align: top;\n",
              "    }\n",
              "\n",
              "    .dataframe thead th {\n",
              "        text-align: right;\n",
              "    }\n",
              "</style>\n",
              "<table border=\"1\" class=\"dataframe\">\n",
              "  <thead>\n",
              "    <tr style=\"text-align: right;\">\n",
              "      <th></th>\n",
              "      <th>Number of Items per Customer</th>\n",
              "    </tr>\n",
              "  </thead>\n",
              "  <tbody>\n",
              "    <tr>\n",
              "      <th>count</th>\n",
              "      <td>4372.000000</td>\n",
              "    </tr>\n",
              "    <tr>\n",
              "      <th>mean</th>\n",
              "      <td>61.211116</td>\n",
              "    </tr>\n",
              "    <tr>\n",
              "      <th>std</th>\n",
              "      <td>85.425119</td>\n",
              "    </tr>\n",
              "    <tr>\n",
              "      <th>min</th>\n",
              "      <td>1.000000</td>\n",
              "    </tr>\n",
              "    <tr>\n",
              "      <th>25%</th>\n",
              "      <td>15.000000</td>\n",
              "    </tr>\n",
              "    <tr>\n",
              "      <th>50%</th>\n",
              "      <td>35.000000</td>\n",
              "    </tr>\n",
              "    <tr>\n",
              "      <th>75%</th>\n",
              "      <td>77.000000</td>\n",
              "    </tr>\n",
              "    <tr>\n",
              "      <th>max</th>\n",
              "      <td>1794.000000</td>\n",
              "    </tr>\n",
              "  </tbody>\n",
              "</table>\n",
              "</div>"
            ],
            "text/plain": [
              "       Number of Items per Customer\n",
              "count                   4372.000000\n",
              "mean                      61.211116\n",
              "std                       85.425119\n",
              "min                        1.000000\n",
              "25%                       15.000000\n",
              "50%                       35.000000\n",
              "75%                       77.000000\n",
              "max                     1794.000000"
            ]
          },
          "metadata": {},
          "execution_count": 26
        }
      ]
    },
    {
      "cell_type": "code",
      "metadata": {
        "colab": {
          "base_uri": "https://localhost:8080/",
          "height": 232
        },
        "id": "UrnsABQh7rOH",
        "outputId": "00e92bc2-2a2b-4a82-a5e2-0e33faf9915a"
      },
      "source": [
        "groupby_invoice = pd.DataFrame(df.groupby('InvoiceNo')['StockCode'].nunique())\n",
        "groupby_invoice.columns = ['Number of Items per Order']\n",
        "groupby_invoice.head()"
      ],
      "execution_count": 27,
      "outputs": [
        {
          "output_type": "execute_result",
          "data": {
            "text/html": [
              "<div>\n",
              "<style scoped>\n",
              "    .dataframe tbody tr th:only-of-type {\n",
              "        vertical-align: middle;\n",
              "    }\n",
              "\n",
              "    .dataframe tbody tr th {\n",
              "        vertical-align: top;\n",
              "    }\n",
              "\n",
              "    .dataframe thead th {\n",
              "        text-align: right;\n",
              "    }\n",
              "</style>\n",
              "<table border=\"1\" class=\"dataframe\">\n",
              "  <thead>\n",
              "    <tr style=\"text-align: right;\">\n",
              "      <th></th>\n",
              "      <th>Number of Items per Order</th>\n",
              "    </tr>\n",
              "    <tr>\n",
              "      <th>InvoiceNo</th>\n",
              "      <th></th>\n",
              "    </tr>\n",
              "  </thead>\n",
              "  <tbody>\n",
              "    <tr>\n",
              "      <th>536365</th>\n",
              "      <td>7</td>\n",
              "    </tr>\n",
              "    <tr>\n",
              "      <th>536366</th>\n",
              "      <td>2</td>\n",
              "    </tr>\n",
              "    <tr>\n",
              "      <th>536367</th>\n",
              "      <td>12</td>\n",
              "    </tr>\n",
              "    <tr>\n",
              "      <th>536368</th>\n",
              "      <td>4</td>\n",
              "    </tr>\n",
              "    <tr>\n",
              "      <th>536369</th>\n",
              "      <td>1</td>\n",
              "    </tr>\n",
              "  </tbody>\n",
              "</table>\n",
              "</div>"
            ],
            "text/plain": [
              "           Number of Items per Order\n",
              "InvoiceNo                           \n",
              "536365                             7\n",
              "536366                             2\n",
              "536367                            12\n",
              "536368                             4\n",
              "536369                             1"
            ]
          },
          "metadata": {},
          "execution_count": 27
        }
      ]
    },
    {
      "cell_type": "code",
      "metadata": {
        "colab": {
          "base_uri": "https://localhost:8080/",
          "height": 294
        },
        "id": "259FWfWqCyv7",
        "outputId": "555ffc5c-db54-49fe-d45f-35c11c5af9de"
      },
      "source": [
        "groupby_invoice.describe()"
      ],
      "execution_count": 28,
      "outputs": [
        {
          "output_type": "execute_result",
          "data": {
            "text/html": [
              "<div>\n",
              "<style scoped>\n",
              "    .dataframe tbody tr th:only-of-type {\n",
              "        vertical-align: middle;\n",
              "    }\n",
              "\n",
              "    .dataframe tbody tr th {\n",
              "        vertical-align: top;\n",
              "    }\n",
              "\n",
              "    .dataframe thead th {\n",
              "        text-align: right;\n",
              "    }\n",
              "</style>\n",
              "<table border=\"1\" class=\"dataframe\">\n",
              "  <thead>\n",
              "    <tr style=\"text-align: right;\">\n",
              "      <th></th>\n",
              "      <th>Number of Items per Order</th>\n",
              "    </tr>\n",
              "  </thead>\n",
              "  <tbody>\n",
              "    <tr>\n",
              "      <th>count</th>\n",
              "      <td>25900.000000</td>\n",
              "    </tr>\n",
              "    <tr>\n",
              "      <th>mean</th>\n",
              "      <td>20.510618</td>\n",
              "    </tr>\n",
              "    <tr>\n",
              "      <th>std</th>\n",
              "      <td>42.500488</td>\n",
              "    </tr>\n",
              "    <tr>\n",
              "      <th>min</th>\n",
              "      <td>1.000000</td>\n",
              "    </tr>\n",
              "    <tr>\n",
              "      <th>25%</th>\n",
              "      <td>2.000000</td>\n",
              "    </tr>\n",
              "    <tr>\n",
              "      <th>50%</th>\n",
              "      <td>10.000000</td>\n",
              "    </tr>\n",
              "    <tr>\n",
              "      <th>75%</th>\n",
              "      <td>23.000000</td>\n",
              "    </tr>\n",
              "    <tr>\n",
              "      <th>max</th>\n",
              "      <td>1110.000000</td>\n",
              "    </tr>\n",
              "  </tbody>\n",
              "</table>\n",
              "</div>"
            ],
            "text/plain": [
              "       Number of Items per Order\n",
              "count               25900.000000\n",
              "mean                   20.510618\n",
              "std                    42.500488\n",
              "min                     1.000000\n",
              "25%                     2.000000\n",
              "50%                    10.000000\n",
              "75%                    23.000000\n",
              "max                  1110.000000"
            ]
          },
          "metadata": {},
          "execution_count": 28
        }
      ]
    },
    {
      "cell_type": "code",
      "metadata": {
        "colab": {
          "base_uri": "https://localhost:8080/",
          "height": 711
        },
        "id": "qgBysQyT7cWJ",
        "outputId": "26cc6335-f6e3-4d39-caaa-2404545d703e"
      },
      "source": [
        "#Visualize the distribution of both\n",
        "sns.set_style(\"darkgrid\")\n",
        "fig, ax = plt.subplots(1,2)\n",
        "fig.set_size_inches(20, 10)\n",
        "plt1 = sns.distplot(groupby_invoice['Number of Items per Order'], ax=ax[0], bins=100)\n",
        "plt1.set_xlim(0,200)\n",
        "plt1.set_xlabel(xlabel='Number of Items per Order',fontsize=25)\n",
        "plt2 = sns.distplot(groupby_ID['Number of Items per Customer'], ax=ax[1], bins=100)\n",
        "plt2.set_xlim(0,350)\n",
        "plt2.set_xlabel(xlabel='Number of Items per Customer',fontsize=25)\n",
        "plt.show()"
      ],
      "execution_count": 29,
      "outputs": [
        {
          "output_type": "stream",
          "text": [
            "/usr/local/lib/python3.7/dist-packages/seaborn/distributions.py:2557: FutureWarning: `distplot` is a deprecated function and will be removed in a future version. Please adapt your code to use either `displot` (a figure-level function with similar flexibility) or `histplot` (an axes-level function for histograms).\n",
            "  warnings.warn(msg, FutureWarning)\n",
            "/usr/local/lib/python3.7/dist-packages/seaborn/distributions.py:2557: FutureWarning: `distplot` is a deprecated function and will be removed in a future version. Please adapt your code to use either `displot` (a figure-level function with similar flexibility) or `histplot` (an axes-level function for histograms).\n",
            "  warnings.warn(msg, FutureWarning)\n"
          ],
          "name": "stderr"
        },
        {
          "output_type": "display_data",
          "data": {
            "image/png": "[encoded data removed]",
            "text/plain": [
              "<Figure size 1440x720 with 2 Axes>"
            ]
          },
          "metadata": {}
        }
      ]
    },
    {
      "cell_type": "markdown",
      "metadata": {
        "id": "HrNf0UykEnqq"
      },
      "source": [
        "**We have skewed left distributions for both plots. The average number of items per order is 20.5 and the average number of items per customer is 61.2.**"
      ]
    },
    {
      "cell_type": "markdown",
      "metadata": {
        "id": "USXN0V1cFcmd"
      },
      "source": [
        "#### **What's the total revenue per country?**"
      ]
    },
    {
      "cell_type": "markdown",
      "metadata": {
        "id": "aWa61akB6rgQ"
      },
      "source": [
        "**Let's look at the number of customers by country to get an idea of which countries have the most orders.**"
      ]
    },
    {
      "cell_type": "code",
      "metadata": {
        "colab": {
          "base_uri": "https://localhost:8080/",
          "height": 643
        },
        "id": "tgeOU73_6Y4C",
        "outputId": "68addf46-9f4c-4f00-bf92-f4dabeaa1659"
      },
      "source": [
        "country_df = pd.DataFrame(df.groupby('Country')['CustomerID'].nunique())\n",
        "country_df.columns = ['Number of Customers by Country']\n",
        "country_df.sort_values('Number of Customers by Country', inplace=True, ascending=False)\n",
        "fig, ax = plt.subplots(figsize=(12,6),dpi=100)\n",
        "ax=sns.barplot(x=country_df.index, y=country_df['Number of Customers by Country'])\n",
        "ax.set_xticklabels(ax.get_xticklabels(), rotation=50, ha=\"right\")\n",
        "plt.show()"
      ],
      "execution_count": 30,
      "outputs": [
        {
          "output_type": "display_data",
          "data": {
            "image/png": "[encoded data removed]",
            "text/plain": [
              "<Figure size 1200x600 with 1 Axes>"
            ]
          },
          "metadata": {}
        }
      ]
    },
    {
      "cell_type": "markdown",
      "metadata": {
        "id": "glMvSn1ZG5Rl"
      },
      "source": [
        "**The United Kingdom has significantly more customers than the other countries in our data set, so their total cost should look similar.**"
      ]
    },
    {
      "cell_type": "code",
      "metadata": {
        "id": "K12GxQriHBeB"
      },
      "source": [
        "df['Total_Cost'] = df['Quantity'] * df['UnitPrice']"
      ],
      "execution_count": 31,
      "outputs": []
    },
    {
      "cell_type": "code",
      "metadata": {
        "colab": {
          "base_uri": "https://localhost:8080/",
          "height": 202
        },
        "id": "PeBNZTtaHD5X",
        "outputId": "ef708a8e-2f1e-4864-bec4-b7c7a53f09c2"
      },
      "source": [
        "df.head()"
      ],
      "execution_count": 32,
      "outputs": [
        {
          "output_type": "execute_result",
          "data": {
            "text/html": [
              "<div>\n",
              "<style scoped>\n",
              "    .dataframe tbody tr th:only-of-type {\n",
              "        vertical-align: middle;\n",
              "    }\n",
              "\n",
              "    .dataframe tbody tr th {\n",
              "        vertical-align: top;\n",
              "    }\n",
              "\n",
              "    .dataframe thead th {\n",
              "        text-align: right;\n",
              "    }\n",
              "</style>\n",
              "<table border=\"1\" class=\"dataframe\">\n",
              "  <thead>\n",
              "    <tr style=\"text-align: right;\">\n",
              "      <th></th>\n",
              "      <th>InvoiceNo</th>\n",
              "      <th>StockCode</th>\n",
              "      <th>Description</th>\n",
              "      <th>Quantity</th>\n",
              "      <th>InvoiceDate</th>\n",
              "      <th>UnitPrice</th>\n",
              "      <th>CustomerID</th>\n",
              "      <th>Country</th>\n",
              "      <th>Total_Cost</th>\n",
              "    </tr>\n",
              "  </thead>\n",
              "  <tbody>\n",
              "    <tr>\n",
              "      <th>0</th>\n",
              "      <td>536365</td>\n",
              "      <td>85123A</td>\n",
              "      <td>WHITE HANGING HEART T-LIGHT HOLDER</td>\n",
              "      <td>6</td>\n",
              "      <td>2010-12-01 08:26:00</td>\n",
              "      <td>2.55</td>\n",
              "      <td>17850.0</td>\n",
              "      <td>United Kingdom</td>\n",
              "      <td>15.30</td>\n",
              "    </tr>\n",
              "    <tr>\n",
              "      <th>1</th>\n",
              "      <td>536365</td>\n",
              "      <td>71053</td>\n",
              "      <td>WHITE METAL LANTERN</td>\n",
              "      <td>6</td>\n",
              "      <td>2010-12-01 08:26:00</td>\n",
              "      <td>3.39</td>\n",
              "      <td>17850.0</td>\n",
              "      <td>United Kingdom</td>\n",
              "      <td>20.34</td>\n",
              "    </tr>\n",
              "    <tr>\n",
              "      <th>2</th>\n",
              "      <td>536365</td>\n",
              "      <td>84406B</td>\n",
              "      <td>CREAM CUPID HEARTS COAT HANGER</td>\n",
              "      <td>8</td>\n",
              "      <td>2010-12-01 08:26:00</td>\n",
              "      <td>2.75</td>\n",
              "      <td>17850.0</td>\n",
              "      <td>United Kingdom</td>\n",
              "      <td>22.00</td>\n",
              "    </tr>\n",
              "    <tr>\n",
              "      <th>3</th>\n",
              "      <td>536365</td>\n",
              "      <td>84029G</td>\n",
              "      <td>KNITTED UNION FLAG HOT WATER BOTTLE</td>\n",
              "      <td>6</td>\n",
              "      <td>2010-12-01 08:26:00</td>\n",
              "      <td>3.39</td>\n",
              "      <td>17850.0</td>\n",
              "      <td>United Kingdom</td>\n",
              "      <td>20.34</td>\n",
              "    </tr>\n",
              "    <tr>\n",
              "      <th>4</th>\n",
              "      <td>536365</td>\n",
              "      <td>84029E</td>\n",
              "      <td>RED WOOLLY HOTTIE WHITE HEART.</td>\n",
              "      <td>6</td>\n",
              "      <td>2010-12-01 08:26:00</td>\n",
              "      <td>3.39</td>\n",
              "      <td>17850.0</td>\n",
              "      <td>United Kingdom</td>\n",
              "      <td>20.34</td>\n",
              "    </tr>\n",
              "  </tbody>\n",
              "</table>\n",
              "</div>"
            ],
            "text/plain": [
              "  InvoiceNo StockCode  ...         Country  Total_Cost\n",
              "0    536365    85123A  ...  United Kingdom       15.30\n",
              "1    536365     71053  ...  United Kingdom       20.34\n",
              "2    536365    84406B  ...  United Kingdom       22.00\n",
              "3    536365    84029G  ...  United Kingdom       20.34\n",
              "4    536365    84029E  ...  United Kingdom       20.34\n",
              "\n",
              "[5 rows x 9 columns]"
            ]
          },
          "metadata": {},
          "execution_count": 32
        }
      ]
    },
    {
      "cell_type": "code",
      "metadata": {
        "colab": {
          "base_uri": "https://localhost:8080/",
          "height": 643
        },
        "id": "rH7qnw3VHLvX",
        "outputId": "a62bed8f-0bca-4100-97ec-3e644847d008"
      },
      "source": [
        "fig1, ax1 = plt.subplots(figsize=(12,6),dpi=100)\n",
        "ax1=sns.barplot(x='Country', y='Total_Cost', data=df, estimator=max, ax=ax1)\n",
        "ax1.set_xticklabels(ax1.get_xticklabels(), rotation=50, ha=\"right\")\n",
        "plt.show()"
      ],
      "execution_count": 33,
      "outputs": [
        {
          "output_type": "display_data",
          "data": {
            "image/png": "[encoded data removed]",
            "text/plain": [
              "<Figure size 1200x600 with 1 Axes>"
            ]
          },
          "metadata": {}
        }
      ]
    },
    {
      "cell_type": "markdown",
      "metadata": {
        "id": "zdjpG0JqHQsC"
      },
      "source": [
        "**The UK not only has the most sales revenue, but also the most customers. Since the majority of this data set contains orders from the UK, we can explore the UK market further by finding out what products the customers buy together and any other buying behaviors to improve our sales and targeting strategy.**"
      ]
    },
    {
      "cell_type": "markdown",
      "metadata": {
        "id": "_tmABGMf4d4y"
      },
      "source": [
        "**More than 90% of the customers in the data are from United Kingdom, There is research indicating that customer clusters vary by geography, so we restrict the data to United Kingdom only.**"
      ]
    },
    {
      "cell_type": "code",
      "metadata": {
        "id": "GoclgMDf1pZY"
      },
      "source": [
        "df_retail_uk = df.loc[df['Country'] == 'United Kingdom']"
      ],
      "execution_count": 34,
      "outputs": []
    },
    {
      "cell_type": "code",
      "metadata": {
        "colab": {
          "base_uri": "https://localhost:8080/"
        },
        "id": "ylazt93M4nMM",
        "outputId": "395919b6-c660-47bc-eafb-2e00daa3fbf3"
      },
      "source": [
        "df_retail_uk.shape"
      ],
      "execution_count": 35,
      "outputs": [
        {
          "output_type": "execute_result",
          "data": {
            "text/plain": [
              "(490300, 9)"
            ]
          },
          "metadata": {},
          "execution_count": 35
        }
      ]
    },
    {
      "cell_type": "code",
      "metadata": {
        "id": "vQcNHX5s4p-_"
      },
      "source": [
        "df_uk=df_retail_uk.drop('Country',axis=1)"
      ],
      "execution_count": 36,
      "outputs": []
    },
    {
      "cell_type": "code",
      "metadata": {
        "colab": {
          "base_uri": "https://localhost:8080/",
          "height": 202
        },
        "id": "7_aMnb3r4xUD",
        "outputId": "d0029cab-2da6-467f-a4c9-f92678bec918"
      },
      "source": [
        "df_uk.head()"
      ],
      "execution_count": 37,
      "outputs": [
        {
          "output_type": "execute_result",
          "data": {
            "text/html": [
              "<div>\n",
              "<style scoped>\n",
              "    .dataframe tbody tr th:only-of-type {\n",
              "        vertical-align: middle;\n",
              "    }\n",
              "\n",
              "    .dataframe tbody tr th {\n",
              "        vertical-align: top;\n",
              "    }\n",
              "\n",
              "    .dataframe thead th {\n",
              "        text-align: right;\n",
              "    }\n",
              "</style>\n",
              "<table border=\"1\" class=\"dataframe\">\n",
              "  <thead>\n",
              "    <tr style=\"text-align: right;\">\n",
              "      <th></th>\n",
              "      <th>InvoiceNo</th>\n",
              "      <th>StockCode</th>\n",
              "      <th>Description</th>\n",
              "      <th>Quantity</th>\n",
              "      <th>InvoiceDate</th>\n",
              "      <th>UnitPrice</th>\n",
              "      <th>CustomerID</th>\n",
              "      <th>Total_Cost</th>\n",
              "    </tr>\n",
              "  </thead>\n",
              "  <tbody>\n",
              "    <tr>\n",
              "      <th>0</th>\n",
              "      <td>536365</td>\n",
              "      <td>85123A</td>\n",
              "      <td>WHITE HANGING HEART T-LIGHT HOLDER</td>\n",
              "      <td>6</td>\n",
              "      <td>2010-12-01 08:26:00</td>\n",
              "      <td>2.55</td>\n",
              "      <td>17850.0</td>\n",
              "      <td>15.30</td>\n",
              "    </tr>\n",
              "    <tr>\n",
              "      <th>1</th>\n",
              "      <td>536365</td>\n",
              "      <td>71053</td>\n",
              "      <td>WHITE METAL LANTERN</td>\n",
              "      <td>6</td>\n",
              "      <td>2010-12-01 08:26:00</td>\n",
              "      <td>3.39</td>\n",
              "      <td>17850.0</td>\n",
              "      <td>20.34</td>\n",
              "    </tr>\n",
              "    <tr>\n",
              "      <th>2</th>\n",
              "      <td>536365</td>\n",
              "      <td>84406B</td>\n",
              "      <td>CREAM CUPID HEARTS COAT HANGER</td>\n",
              "      <td>8</td>\n",
              "      <td>2010-12-01 08:26:00</td>\n",
              "      <td>2.75</td>\n",
              "      <td>17850.0</td>\n",
              "      <td>22.00</td>\n",
              "    </tr>\n",
              "    <tr>\n",
              "      <th>3</th>\n",
              "      <td>536365</td>\n",
              "      <td>84029G</td>\n",
              "      <td>KNITTED UNION FLAG HOT WATER BOTTLE</td>\n",
              "      <td>6</td>\n",
              "      <td>2010-12-01 08:26:00</td>\n",
              "      <td>3.39</td>\n",
              "      <td>17850.0</td>\n",
              "      <td>20.34</td>\n",
              "    </tr>\n",
              "    <tr>\n",
              "      <th>4</th>\n",
              "      <td>536365</td>\n",
              "      <td>84029E</td>\n",
              "      <td>RED WOOLLY HOTTIE WHITE HEART.</td>\n",
              "      <td>6</td>\n",
              "      <td>2010-12-01 08:26:00</td>\n",
              "      <td>3.39</td>\n",
              "      <td>17850.0</td>\n",
              "      <td>20.34</td>\n",
              "    </tr>\n",
              "  </tbody>\n",
              "</table>\n",
              "</div>"
            ],
            "text/plain": [
              "  InvoiceNo StockCode  ... CustomerID  Total_Cost\n",
              "0    536365    85123A  ...    17850.0       15.30\n",
              "1    536365     71053  ...    17850.0       20.34\n",
              "2    536365    84406B  ...    17850.0       22.00\n",
              "3    536365    84029G  ...    17850.0       20.34\n",
              "4    536365    84029E  ...    17850.0       20.34\n",
              "\n",
              "[5 rows x 8 columns]"
            ]
          },
          "metadata": {},
          "execution_count": 37
        }
      ]
    },
    {
      "cell_type": "code",
      "metadata": {
        "colab": {
          "base_uri": "https://localhost:8080/"
        },
        "id": "YCEAb-em46oo",
        "outputId": "647d299a-22d6-4e9c-ce00-f94b0d020e36"
      },
      "source": [
        "print(\"Percentage of customers from the UK: \", round(df_uk['CustomerID'].nunique() * 100 / df['CustomerID'].nunique(),2),\"%\" )\n",
        "print(\"Number of transactions: \", df_uk['InvoiceNo'].nunique())\n",
        "print(\"Number of products Bought: \", df_uk['StockCode'].nunique())\n",
        "print(\"Number of customers:\", df_uk['CustomerID'].nunique())"
      ],
      "execution_count": 38,
      "outputs": [
        {
          "output_type": "stream",
          "text": [
            "Percentage of customers from the UK:  90.35 %\n",
            "Number of transactions:  23494\n",
            "Number of products Bought:  4065\n",
            "Number of customers: 3950\n"
          ],
          "name": "stdout"
        }
      ]
    },
    {
      "cell_type": "code",
      "metadata": {
        "colab": {
          "base_uri": "https://localhost:8080/"
        },
        "id": "Vl3aC6KZIahF",
        "outputId": "8f33484b-c9d9-4855-c44c-c5c7933cde5b"
      },
      "source": [
        "#Find minimum invoice date\n",
        "df_uk['InvoiceDate'].min()"
      ],
      "execution_count": 39,
      "outputs": [
        {
          "output_type": "execute_result",
          "data": {
            "text/plain": [
              "Timestamp('2010-12-01 08:26:00')"
            ]
          },
          "metadata": {},
          "execution_count": 39
        }
      ]
    },
    {
      "cell_type": "code",
      "metadata": {
        "colab": {
          "base_uri": "https://localhost:8080/"
        },
        "id": "-6RAuNkYYZqi",
        "outputId": "8b3d44e2-1379-4164-a6e6-ea2dd0fb77eb"
      },
      "source": [
        "#Find maximum invoice date\n",
        "df_uk['InvoiceDate'].max()"
      ],
      "execution_count": 40,
      "outputs": [
        {
          "output_type": "execute_result",
          "data": {
            "text/plain": [
              "Timestamp('2011-12-09 12:49:00')"
            ]
          },
          "metadata": {},
          "execution_count": 40
        }
      ]
    },
    {
      "cell_type": "markdown",
      "metadata": {
        "id": "DndCrhs_otZ-"
      },
      "source": [
        "### **Sales on weekdays**"
      ]
    },
    {
      "cell_type": "code",
      "metadata": {
        "colab": {
          "base_uri": "https://localhost:8080/",
          "height": 523
        },
        "id": "g9uhDcX7Yipk",
        "outputId": "3ae8e1ba-3c0c-47d0-8835-241d4835273c"
      },
      "source": [
        "# Plot amount of sales on days of the week\n",
        "\n",
        "import datetime as dt\n",
        "\n",
        "fig,ax=plt.subplots(1,2)\n",
        "df_uk.InvoiceDate.dt.day_name().value_counts().nlargest(10).plot(kind='bar', figsize=(20,7),ax=fig.axes[0])\n",
        "ax[0].set_title(\"Maximum usage days\")\n",
        "ax[0].set_ylabel('Number of Sales')\n",
        "ax[0].set_xlabel('Date')\n",
        "\n",
        "df_uk.InvoiceDate.dt.hour.value_counts().nlargest(10).plot(kind='bar', figsize=(22,7),ax=fig.axes[1])\n",
        "plt.title(\"Maximum usage hours in a day\")\n",
        "plt.ylabel('Number of Sales')\n",
        "plt.xlabel('Hours')"
      ],
      "execution_count": 41,
      "outputs": [
        {
          "output_type": "execute_result",
          "data": {
            "text/plain": [
              "Text(0.5, 0, 'Hours')"
            ]
          },
          "metadata": {},
          "execution_count": 41
        },
        {
          "output_type": "display_data",
          "data": {
            "image/png": "[encoded data removed]",
            "text/plain": [
              "<Figure size 1584x504 with 2 Axes>"
            ]
          },
          "metadata": {}
        }
      ]
    },
    {
      "cell_type": "markdown",
      "metadata": {
        "id": "5orBJmJ7kpVB"
      },
      "source": [
        "**Maximum sales happen on Thursdays and Wednesdays around 11 AM to 4 PM and so we have to start triggering offers and special incentives on these days**"
      ]
    },
    {
      "cell_type": "code",
      "metadata": {
        "id": "1HJhrR9LY-0X",
        "colab": {
          "base_uri": "https://localhost:8080/"
        },
        "outputId": "1f3c4784-d0fe-4dbc-ce73-e02ec2745a15"
      },
      "source": [
        "df_uk = df_uk[pd.notnull(df_uk['CustomerID'])]\n",
        "df_uk.isnull().sum(axis=0)"
      ],
      "execution_count": 42,
      "outputs": [
        {
          "output_type": "execute_result",
          "data": {
            "text/plain": [
              "InvoiceNo      0\n",
              "StockCode      0\n",
              "Description    0\n",
              "Quantity       0\n",
              "InvoiceDate    0\n",
              "UnitPrice      0\n",
              "CustomerID     0\n",
              "Total_Cost     0\n",
              "dtype: int64"
            ]
          },
          "metadata": {},
          "execution_count": 42
        }
      ]
    },
    {
      "cell_type": "code",
      "metadata": {
        "colab": {
          "base_uri": "https://localhost:8080/"
        },
        "id": "T0bjaWYEmoMt",
        "outputId": "c38d9b14-657c-4c94-bc38-8693c1b8e0dd"
      },
      "source": [
        "df_uk.shape"
      ],
      "execution_count": 43,
      "outputs": [
        {
          "output_type": "execute_result",
          "data": {
            "text/plain": [
              "(356728, 8)"
            ]
          },
          "metadata": {},
          "execution_count": 43
        }
      ]
    },
    {
      "cell_type": "code",
      "metadata": {
        "colab": {
          "base_uri": "https://localhost:8080/"
        },
        "id": "1Nrr8VR-neGO",
        "outputId": "f9621a07-6b18-4b93-f159-fed76424141c"
      },
      "source": [
        "## Percentage Negative values in Quantity column \n",
        "\n",
        "len(df_uk[df_uk.Quantity<0])*100/len(df_uk)"
      ],
      "execution_count": 44,
      "outputs": [
        {
          "output_type": "execute_result",
          "data": {
            "text/plain": [
              "2.1027225224821153"
            ]
          },
          "metadata": {},
          "execution_count": 44
        }
      ]
    },
    {
      "cell_type": "markdown",
      "metadata": {
        "id": "uak6PWn3nlO5"
      },
      "source": [
        "**There are around 2% of negative quantity values that are going to be removed.**"
      ]
    },
    {
      "cell_type": "code",
      "metadata": {
        "colab": {
          "base_uri": "https://localhost:8080/"
        },
        "id": "TZSBkvRLnjSk",
        "outputId": "ef15ee98-c172-4e74-936c-05643e3ce3d5"
      },
      "source": [
        "#Choose only rows of data wherein Quantity is positive\n",
        "\n",
        "df_uk = df_uk[(df_uk['Quantity']>0)]\n",
        "df_uk.Quantity.min()"
      ],
      "execution_count": 45,
      "outputs": [
        {
          "output_type": "execute_result",
          "data": {
            "text/plain": [
              "1"
            ]
          },
          "metadata": {},
          "execution_count": 45
        }
      ]
    },
    {
      "cell_type": "code",
      "metadata": {
        "colab": {
          "base_uri": "https://localhost:8080/"
        },
        "id": "eBPCR72snz9S",
        "outputId": "1a347d71-47d6-46b0-b960-82195759ee7d"
      },
      "source": [
        "df_uk.shape"
      ],
      "execution_count": 46,
      "outputs": [
        {
          "output_type": "execute_result",
          "data": {
            "text/plain": [
              "(349227, 8)"
            ]
          },
          "metadata": {},
          "execution_count": 46
        }
      ]
    },
    {
      "cell_type": "code",
      "metadata": {
        "colab": {
          "base_uri": "https://localhost:8080/",
          "height": 202
        },
        "id": "4xdp4mcJoFUQ",
        "outputId": "eb97af11-81d9-4a03-fa2a-c636447bee19"
      },
      "source": [
        "df_uk.head()"
      ],
      "execution_count": 47,
      "outputs": [
        {
          "output_type": "execute_result",
          "data": {
            "text/html": [
              "<div>\n",
              "<style scoped>\n",
              "    .dataframe tbody tr th:only-of-type {\n",
              "        vertical-align: middle;\n",
              "    }\n",
              "\n",
              "    .dataframe tbody tr th {\n",
              "        vertical-align: top;\n",
              "    }\n",
              "\n",
              "    .dataframe thead th {\n",
              "        text-align: right;\n",
              "    }\n",
              "</style>\n",
              "<table border=\"1\" class=\"dataframe\">\n",
              "  <thead>\n",
              "    <tr style=\"text-align: right;\">\n",
              "      <th></th>\n",
              "      <th>InvoiceNo</th>\n",
              "      <th>StockCode</th>\n",
              "      <th>Description</th>\n",
              "      <th>Quantity</th>\n",
              "      <th>InvoiceDate</th>\n",
              "      <th>UnitPrice</th>\n",
              "      <th>CustomerID</th>\n",
              "      <th>Total_Cost</th>\n",
              "    </tr>\n",
              "  </thead>\n",
              "  <tbody>\n",
              "    <tr>\n",
              "      <th>0</th>\n",
              "      <td>536365</td>\n",
              "      <td>85123A</td>\n",
              "      <td>WHITE HANGING HEART T-LIGHT HOLDER</td>\n",
              "      <td>6</td>\n",
              "      <td>2010-12-01 08:26:00</td>\n",
              "      <td>2.55</td>\n",
              "      <td>17850.0</td>\n",
              "      <td>15.30</td>\n",
              "    </tr>\n",
              "    <tr>\n",
              "      <th>1</th>\n",
              "      <td>536365</td>\n",
              "      <td>71053</td>\n",
              "      <td>WHITE METAL LANTERN</td>\n",
              "      <td>6</td>\n",
              "      <td>2010-12-01 08:26:00</td>\n",
              "      <td>3.39</td>\n",
              "      <td>17850.0</td>\n",
              "      <td>20.34</td>\n",
              "    </tr>\n",
              "    <tr>\n",
              "      <th>2</th>\n",
              "      <td>536365</td>\n",
              "      <td>84406B</td>\n",
              "      <td>CREAM CUPID HEARTS COAT HANGER</td>\n",
              "      <td>8</td>\n",
              "      <td>2010-12-01 08:26:00</td>\n",
              "      <td>2.75</td>\n",
              "      <td>17850.0</td>\n",
              "      <td>22.00</td>\n",
              "    </tr>\n",
              "    <tr>\n",
              "      <th>3</th>\n",
              "      <td>536365</td>\n",
              "      <td>84029G</td>\n",
              "      <td>KNITTED UNION FLAG HOT WATER BOTTLE</td>\n",
              "      <td>6</td>\n",
              "      <td>2010-12-01 08:26:00</td>\n",
              "      <td>3.39</td>\n",
              "      <td>17850.0</td>\n",
              "      <td>20.34</td>\n",
              "    </tr>\n",
              "    <tr>\n",
              "      <th>4</th>\n",
              "      <td>536365</td>\n",
              "      <td>84029E</td>\n",
              "      <td>RED WOOLLY HOTTIE WHITE HEART.</td>\n",
              "      <td>6</td>\n",
              "      <td>2010-12-01 08:26:00</td>\n",
              "      <td>3.39</td>\n",
              "      <td>17850.0</td>\n",
              "      <td>20.34</td>\n",
              "    </tr>\n",
              "  </tbody>\n",
              "</table>\n",
              "</div>"
            ],
            "text/plain": [
              "  InvoiceNo StockCode  ... CustomerID  Total_Cost\n",
              "0    536365    85123A  ...    17850.0       15.30\n",
              "1    536365     71053  ...    17850.0       20.34\n",
              "2    536365    84406B  ...    17850.0       22.00\n",
              "3    536365    84029G  ...    17850.0       20.34\n",
              "4    536365    84029E  ...    17850.0       20.34\n",
              "\n",
              "[5 rows x 8 columns]"
            ]
          },
          "metadata": {},
          "execution_count": 47
        }
      ]
    },
    {
      "cell_type": "markdown",
      "metadata": {
        "id": "43HbtDPWpHRM"
      },
      "source": [
        "### **Proportion of one time and repeat customers**"
      ]
    },
    {
      "cell_type": "code",
      "metadata": {
        "colab": {
          "base_uri": "https://localhost:8080/",
          "height": 356
        },
        "id": "HgO3C4dWoZq5",
        "outputId": "7b9f9055-8cd2-4a9a-9564-080b5ae65949"
      },
      "source": [
        "plt.figure(figsize=(12,6))\n",
        "\n",
        "df_uk_custid=df_uk.CustomerID.value_counts().to_frame()\n",
        "df_uk_custid['Repeat_one_time'] = np.where((df_uk_custid.CustomerID>1), 'repeat', 'one-time')\n",
        "\n",
        "plt.style.use('ggplot')\n",
        "\n",
        "media_df=df_uk_custid\n",
        "media_per_user_group=media_df.groupby(['Repeat_one_time'])['Repeat_one_time'].count().nlargest(2)\n",
        "media_per_user_group.plot(kind='pie', colors = ['teal','gold'], fontsize=12, autopct='%1.1f%%', startangle=90, pctdistance=0.85)\n",
        "plt.show()"
      ],
      "execution_count": 48,
      "outputs": [
        {
          "output_type": "display_data",
          "data": {
            "image/png": "[encoded data removed]",
            "text/plain": [
              "<Figure size 864x432 with 1 Axes>"
            ]
          },
          "metadata": {}
        }
      ]
    },
    {
      "cell_type": "markdown",
      "metadata": {
        "id": "znAr2f6Dpzad"
      },
      "source": [
        "**The percentage of repeat customers are substantially more than the percentage of one-time customers. Mostly customers are happy with the retail store, We have to convert the one-time customers into repeat customers by offering them good incentives and proper service.**"
      ]
    },
    {
      "cell_type": "markdown",
      "metadata": {
        "id": "uXfh2CWXITME"
      },
      "source": [
        "**What are the most popular products that are bought in the UK?**"
      ]
    },
    {
      "cell_type": "code",
      "metadata": {
        "colab": {
          "base_uri": "https://localhost:8080/",
          "height": 355
        },
        "id": "hV8Y-de95wRO",
        "outputId": "0c78355e-128a-42a5-c38a-ef3e2e39e6ae"
      },
      "source": [
        "uk_product = df_uk.groupby(['StockCode','Description'],as_index= False)['Quantity'].sum().sort_values(by='Quantity', ascending=False)[:10]\n",
        "uk_product"
      ],
      "execution_count": 49,
      "outputs": [
        {
          "output_type": "execute_result",
          "data": {
            "text/html": [
              "<div>\n",
              "<style scoped>\n",
              "    .dataframe tbody tr th:only-of-type {\n",
              "        vertical-align: middle;\n",
              "    }\n",
              "\n",
              "    .dataframe tbody tr th {\n",
              "        vertical-align: top;\n",
              "    }\n",
              "\n",
              "    .dataframe thead th {\n",
              "        text-align: right;\n",
              "    }\n",
              "</style>\n",
              "<table border=\"1\" class=\"dataframe\">\n",
              "  <thead>\n",
              "    <tr style=\"text-align: right;\">\n",
              "      <th></th>\n",
              "      <th>StockCode</th>\n",
              "      <th>Description</th>\n",
              "      <th>Quantity</th>\n",
              "    </tr>\n",
              "  </thead>\n",
              "  <tbody>\n",
              "    <tr>\n",
              "      <th>2587</th>\n",
              "      <td>23843</td>\n",
              "      <td>PAPER CRAFT , LITTLE BIRDIE</td>\n",
              "      <td>80995</td>\n",
              "    </tr>\n",
              "    <tr>\n",
              "      <th>2089</th>\n",
              "      <td>23166</td>\n",
              "      <td>MEDIUM CERAMIC TOP STORAGE JAR</td>\n",
              "      <td>76919</td>\n",
              "    </tr>\n",
              "    <tr>\n",
              "      <th>3005</th>\n",
              "      <td>84077</td>\n",
              "      <td>WORLD WAR 2 GLIDERS ASSTD DESIGNS</td>\n",
              "      <td>49086</td>\n",
              "    </tr>\n",
              "    <tr>\n",
              "      <th>3427</th>\n",
              "      <td>85099B</td>\n",
              "      <td>JUMBO BAG RED RETROSPOT</td>\n",
              "      <td>41878</td>\n",
              "    </tr>\n",
              "    <tr>\n",
              "      <th>3442</th>\n",
              "      <td>85123A</td>\n",
              "      <td>WHITE HANGING HEART T-LIGHT HOLDER</td>\n",
              "      <td>34630</td>\n",
              "    </tr>\n",
              "    <tr>\n",
              "      <th>3262</th>\n",
              "      <td>84879</td>\n",
              "      <td>ASSORTED COLOUR BIRD ORNAMENT</td>\n",
              "      <td>32628</td>\n",
              "    </tr>\n",
              "    <tr>\n",
              "      <th>1104</th>\n",
              "      <td>22197</td>\n",
              "      <td>POPCORN HOLDER</td>\n",
              "      <td>28923</td>\n",
              "    </tr>\n",
              "    <tr>\n",
              "      <th>1499</th>\n",
              "      <td>22616</td>\n",
              "      <td>PACK OF 12 LONDON TISSUES</td>\n",
              "      <td>24321</td>\n",
              "    </tr>\n",
              "    <tr>\n",
              "      <th>77</th>\n",
              "      <td>17003</td>\n",
              "      <td>BROCADE RING PURSE</td>\n",
              "      <td>22675</td>\n",
              "    </tr>\n",
              "    <tr>\n",
              "      <th>429</th>\n",
              "      <td>21212</td>\n",
              "      <td>PACK OF 72 RETROSPOT CAKE CASES</td>\n",
              "      <td>22442</td>\n",
              "    </tr>\n",
              "  </tbody>\n",
              "</table>\n",
              "</div>"
            ],
            "text/plain": [
              "     StockCode                         Description  Quantity\n",
              "2587     23843         PAPER CRAFT , LITTLE BIRDIE     80995\n",
              "2089     23166      MEDIUM CERAMIC TOP STORAGE JAR     76919\n",
              "3005     84077   WORLD WAR 2 GLIDERS ASSTD DESIGNS     49086\n",
              "3427    85099B             JUMBO BAG RED RETROSPOT     41878\n",
              "3442    85123A  WHITE HANGING HEART T-LIGHT HOLDER     34630\n",
              "3262     84879       ASSORTED COLOUR BIRD ORNAMENT     32628\n",
              "1104     22197                      POPCORN HOLDER     28923\n",
              "1499     22616          PACK OF 12 LONDON TISSUES      24321\n",
              "77       17003                 BROCADE RING PURSE      22675\n",
              "429      21212     PACK OF 72 RETROSPOT CAKE CASES     22442"
            ]
          },
          "metadata": {},
          "execution_count": 49
        }
      ]
    },
    {
      "cell_type": "code",
      "metadata": {
        "colab": {
          "base_uri": "https://localhost:8080/",
          "height": 658
        },
        "id": "IGtxIjENtPny",
        "outputId": "a939a1d7-4306-4735-e305-7aea671ea3ba"
      },
      "source": [
        "sns.set_style(\"whitegrid\")\n",
        "plt.figure(figsize=(10,7))\n",
        "sns.barplot(x= uk_product.Description[:5],y=uk_product.Quantity[:5], data=uk_product)\n",
        "plt.title(\"Top 5 most popular items\", size=15)\n",
        "plt.xticks(rotation=90)\n",
        "plt.xlabel(\" \")\n",
        "plt.show()"
      ],
      "execution_count": 50,
      "outputs": [
        {
          "output_type": "display_data",
          "data": {
            "image/png": "[encoded data removed]",
            "text/plain": [
              "<Figure size 720x504 with 1 Axes>"
            ]
          },
          "metadata": {}
        }
      ]
    },
    {
      "cell_type": "markdown",
      "metadata": {
        "id": "t311ITgmq5zM"
      },
      "source": [
        "**Which are the least popular products in UK?**"
      ]
    },
    {
      "cell_type": "code",
      "metadata": {
        "colab": {
          "base_uri": "https://localhost:8080/",
          "height": 355
        },
        "id": "Xlw-P3v3p2cC",
        "outputId": "9ac501c3-3337-429b-afb0-56c00cad9e66"
      },
      "source": [
        "uk_product = df_uk.groupby(['StockCode','Description'],as_index= False)['Quantity'].sum().sort_values(by='Quantity', ascending=True)[:10]\n",
        "uk_product"
      ],
      "execution_count": 51,
      "outputs": [
        {
          "output_type": "execute_result",
          "data": {
            "text/html": [
              "<div>\n",
              "<style scoped>\n",
              "    .dataframe tbody tr th:only-of-type {\n",
              "        vertical-align: middle;\n",
              "    }\n",
              "\n",
              "    .dataframe tbody tr th {\n",
              "        vertical-align: top;\n",
              "    }\n",
              "\n",
              "    .dataframe thead th {\n",
              "        text-align: right;\n",
              "    }\n",
              "</style>\n",
              "<table border=\"1\" class=\"dataframe\">\n",
              "  <thead>\n",
              "    <tr style=\"text-align: right;\">\n",
              "      <th></th>\n",
              "      <th>StockCode</th>\n",
              "      <th>Description</th>\n",
              "      <th>Quantity</th>\n",
              "    </tr>\n",
              "  </thead>\n",
              "  <tbody>\n",
              "    <tr>\n",
              "      <th>490</th>\n",
              "      <td>21310</td>\n",
              "      <td>CAPIZ CHANDELIER</td>\n",
              "      <td>1</td>\n",
              "    </tr>\n",
              "    <tr>\n",
              "      <th>3573</th>\n",
              "      <td>90014C</td>\n",
              "      <td>SILVER AND BLACK ORBIT NECKLACE</td>\n",
              "      <td>1</td>\n",
              "    </tr>\n",
              "    <tr>\n",
              "      <th>3674</th>\n",
              "      <td>90100</td>\n",
              "      <td>NECKLACE+BRACELET SET PINK DAISY</td>\n",
              "      <td>1</td>\n",
              "    </tr>\n",
              "    <tr>\n",
              "      <th>2603</th>\n",
              "      <td>35597A</td>\n",
              "      <td>DUSTY PINK CHRISTMAS TREE 30CM</td>\n",
              "      <td>1</td>\n",
              "    </tr>\n",
              "    <tr>\n",
              "      <th>2604</th>\n",
              "      <td>35597B</td>\n",
              "      <td>BLACKCHRISTMAS TREE 30CM</td>\n",
              "      <td>1</td>\n",
              "    </tr>\n",
              "    <tr>\n",
              "      <th>3678</th>\n",
              "      <td>90104</td>\n",
              "      <td>PURPLE FRANGIPANI HAIRCLIP</td>\n",
              "      <td>1</td>\n",
              "    </tr>\n",
              "    <tr>\n",
              "      <th>3815</th>\n",
              "      <td>90202B</td>\n",
              "      <td>WHITE ENAMEL FLOWER HAIR TIE</td>\n",
              "      <td>1</td>\n",
              "    </tr>\n",
              "    <tr>\n",
              "      <th>3104</th>\n",
              "      <td>84569C</td>\n",
              "      <td>PACK 4 FLOWER/BUTTERFLY PATCHES</td>\n",
              "      <td>1</td>\n",
              "    </tr>\n",
              "    <tr>\n",
              "      <th>3632</th>\n",
              "      <td>90055</td>\n",
              "      <td>CRACKED GLAZE EARRINGS BROWN</td>\n",
              "      <td>1</td>\n",
              "    </tr>\n",
              "    <tr>\n",
              "      <th>3648</th>\n",
              "      <td>90065B</td>\n",
              "      <td>BLACK VINT ART DEC CRYSTAL BRACELET</td>\n",
              "      <td>1</td>\n",
              "    </tr>\n",
              "  </tbody>\n",
              "</table>\n",
              "</div>"
            ],
            "text/plain": [
              "     StockCode                          Description  Quantity\n",
              "490      21310                     CAPIZ CHANDELIER         1\n",
              "3573    90014C      SILVER AND BLACK ORBIT NECKLACE         1\n",
              "3674     90100     NECKLACE+BRACELET SET PINK DAISY         1\n",
              "2603    35597A       DUSTY PINK CHRISTMAS TREE 30CM         1\n",
              "2604    35597B             BLACKCHRISTMAS TREE 30CM         1\n",
              "3678     90104           PURPLE FRANGIPANI HAIRCLIP         1\n",
              "3815    90202B         WHITE ENAMEL FLOWER HAIR TIE         1\n",
              "3104    84569C      PACK 4 FLOWER/BUTTERFLY PATCHES         1\n",
              "3632     90055         CRACKED GLAZE EARRINGS BROWN         1\n",
              "3648    90065B  BLACK VINT ART DEC CRYSTAL BRACELET         1"
            ]
          },
          "metadata": {},
          "execution_count": 51
        }
      ]
    },
    {
      "cell_type": "code",
      "metadata": {
        "colab": {
          "base_uri": "https://localhost:8080/",
          "height": 592
        },
        "id": "vAiKLuN9tbpZ",
        "outputId": "a51b91c0-e087-4e2c-a22b-27c361a4565f"
      },
      "source": [
        "sns.set_style(\"whitegrid\")\n",
        "plt.figure(figsize=(8,6))\n",
        "sns.barplot(x= uk_product.Description[:5],y=uk_product.Quantity[:5], data=uk_product)\n",
        "plt.title(\"Top 5 least popular items\", size=15)\n",
        "plt.xticks(rotation=90)\n",
        "plt.xlabel(\" \")\n",
        "plt.show()"
      ],
      "execution_count": 52,
      "outputs": [
        {
          "output_type": "display_data",
          "data": {
            "image/png": "[encoded data removed]",
            "text/plain": [
              "<Figure size 576x432 with 1 Axes>"
            ]
          },
          "metadata": {}
        }
      ]
    },
    {
      "cell_type": "code",
      "metadata": {
        "colab": {
          "base_uri": "https://localhost:8080/"
        },
        "id": "sz79wfrRvQow",
        "outputId": "f74b7c2a-bf9c-427a-8f4e-96c07763cc52"
      },
      "source": [
        "NOW = df_retail_uk['InvoiceDate'].max() + dt.timedelta(1)\n",
        "NOW"
      ],
      "execution_count": 53,
      "outputs": [
        {
          "output_type": "execute_result",
          "data": {
            "text/plain": [
              "Timestamp('2011-12-10 12:49:00')"
            ]
          },
          "metadata": {},
          "execution_count": 53
        }
      ]
    },
    {
      "cell_type": "markdown",
      "metadata": {
        "id": "TuoPgTM7uKjx"
      },
      "source": [
        "### **RFM Analysis**\n",
        "\n",
        "**RFM (Recency, Frequency, Monetary)** analysis is a customer segmentation technique that uses past purchase behavior to divide customers into groups. \n",
        "RFM helps divide customers into various categories or clusters to identify customers who are more likely to respond to promotions and also for future personalization services.\n",
        "\n",
        "- RECENCY (R): Days since last purchase\n",
        "- FREQUENCY (F): Total number of purchases\n",
        "- MONETARY VALUE (M): Total money this customer spent.\n",
        "We will create those 3 customer attributes for each customer."
      ]
    },
    {
      "cell_type": "markdown",
      "metadata": {
        "id": "ij5PoPuLuei7"
      },
      "source": [
        "#### **Calculating recency, frequency and monetary value using past user behaviour**"
      ]
    },
    {
      "cell_type": "code",
      "metadata": {
        "id": "J1wcYVpeub0E"
      },
      "source": [
        "rfmTable = df_uk.groupby('CustomerID').agg({'InvoiceDate': lambda x: (NOW - x.max() ).days, # Recency\n",
        "                                        'InvoiceNo': lambda x: len(x),      # Frequency\n",
        "                                        'Total_Cost': lambda x: x.sum()}) # Monetary Value\n",
        "\n",
        "rfmTable['InvoiceDate'] = rfmTable['InvoiceDate'].astype(int)\n",
        "rfmTable.rename(columns={'InvoiceDate': 'recency', \n",
        "                         'InvoiceNo': 'frequency', \n",
        "                         'Total_Cost': 'monetary_value'}, inplace=True)"
      ],
      "execution_count": 54,
      "outputs": []
    },
    {
      "cell_type": "code",
      "metadata": {
        "colab": {
          "base_uri": "https://localhost:8080/",
          "height": 232
        },
        "id": "gah96BB8ubyU",
        "outputId": "cdda815f-9591-4f9c-9eab-d652b9e9b978"
      },
      "source": [
        "#Display RFM table\n",
        "rfmTable.head()"
      ],
      "execution_count": 55,
      "outputs": [
        {
          "output_type": "execute_result",
          "data": {
            "text/html": [
              "<div>\n",
              "<style scoped>\n",
              "    .dataframe tbody tr th:only-of-type {\n",
              "        vertical-align: middle;\n",
              "    }\n",
              "\n",
              "    .dataframe tbody tr th {\n",
              "        vertical-align: top;\n",
              "    }\n",
              "\n",
              "    .dataframe thead th {\n",
              "        text-align: right;\n",
              "    }\n",
              "</style>\n",
              "<table border=\"1\" class=\"dataframe\">\n",
              "  <thead>\n",
              "    <tr style=\"text-align: right;\">\n",
              "      <th></th>\n",
              "      <th>recency</th>\n",
              "      <th>frequency</th>\n",
              "      <th>monetary_value</th>\n",
              "    </tr>\n",
              "    <tr>\n",
              "      <th>CustomerID</th>\n",
              "      <th></th>\n",
              "      <th></th>\n",
              "      <th></th>\n",
              "    </tr>\n",
              "  </thead>\n",
              "  <tbody>\n",
              "    <tr>\n",
              "      <th>12346.0</th>\n",
              "      <td>326</td>\n",
              "      <td>1</td>\n",
              "      <td>77183.60</td>\n",
              "    </tr>\n",
              "    <tr>\n",
              "      <th>12747.0</th>\n",
              "      <td>2</td>\n",
              "      <td>103</td>\n",
              "      <td>4196.01</td>\n",
              "    </tr>\n",
              "    <tr>\n",
              "      <th>12748.0</th>\n",
              "      <td>1</td>\n",
              "      <td>4413</td>\n",
              "      <td>33053.19</td>\n",
              "    </tr>\n",
              "    <tr>\n",
              "      <th>12749.0</th>\n",
              "      <td>4</td>\n",
              "      <td>199</td>\n",
              "      <td>4090.88</td>\n",
              "    </tr>\n",
              "    <tr>\n",
              "      <th>12820.0</th>\n",
              "      <td>3</td>\n",
              "      <td>59</td>\n",
              "      <td>942.34</td>\n",
              "    </tr>\n",
              "  </tbody>\n",
              "</table>\n",
              "</div>"
            ],
            "text/plain": [
              "            recency  frequency  monetary_value\n",
              "CustomerID                                    \n",
              "12346.0         326          1        77183.60\n",
              "12747.0           2        103         4196.01\n",
              "12748.0           1       4413        33053.19\n",
              "12749.0           4        199         4090.88\n",
              "12820.0           3         59          942.34"
            ]
          },
          "metadata": {},
          "execution_count": 55
        }
      ]
    },
    {
      "cell_type": "markdown",
      "metadata": {
        "id": "e4nakGt3v0E1"
      },
      "source": [
        "*   CustomerID 12346 has frequency: 1, monetary value: $77183.60 and recency: 326 days.\n",
        "\n",
        "*   CustomerID 12747 has frequency: 103, monetary value: $4196.01 and recency: 2 days.\n",
        "\n"
      ]
    },
    {
      "cell_type": "markdown",
      "metadata": {
        "id": "NGD5T5DMwNP-"
      },
      "source": [
        "**Let's check the details of the first customer.**"
      ]
    },
    {
      "cell_type": "code",
      "metadata": {
        "colab": {
          "base_uri": "https://localhost:8080/",
          "height": 78
        },
        "id": "ccLTEaNqvc2O",
        "outputId": "e347fb82-674f-465e-f1ca-be4ea4e6ebbe"
      },
      "source": [
        "first_customer = df_uk[df_uk['CustomerID']== 12346.0]\n",
        "first_customer"
      ],
      "execution_count": 56,
      "outputs": [
        {
          "output_type": "execute_result",
          "data": {
            "text/html": [
              "<div>\n",
              "<style scoped>\n",
              "    .dataframe tbody tr th:only-of-type {\n",
              "        vertical-align: middle;\n",
              "    }\n",
              "\n",
              "    .dataframe tbody tr th {\n",
              "        vertical-align: top;\n",
              "    }\n",
              "\n",
              "    .dataframe thead th {\n",
              "        text-align: right;\n",
              "    }\n",
              "</style>\n",
              "<table border=\"1\" class=\"dataframe\">\n",
              "  <thead>\n",
              "    <tr style=\"text-align: right;\">\n",
              "      <th></th>\n",
              "      <th>InvoiceNo</th>\n",
              "      <th>StockCode</th>\n",
              "      <th>Description</th>\n",
              "      <th>Quantity</th>\n",
              "      <th>InvoiceDate</th>\n",
              "      <th>UnitPrice</th>\n",
              "      <th>CustomerID</th>\n",
              "      <th>Total_Cost</th>\n",
              "    </tr>\n",
              "  </thead>\n",
              "  <tbody>\n",
              "    <tr>\n",
              "      <th>61619</th>\n",
              "      <td>541431</td>\n",
              "      <td>23166</td>\n",
              "      <td>MEDIUM CERAMIC TOP STORAGE JAR</td>\n",
              "      <td>74215</td>\n",
              "      <td>2011-01-18 10:01:00</td>\n",
              "      <td>1.04</td>\n",
              "      <td>12346.0</td>\n",
              "      <td>77183.6</td>\n",
              "    </tr>\n",
              "  </tbody>\n",
              "</table>\n",
              "</div>"
            ],
            "text/plain": [
              "      InvoiceNo StockCode  ... CustomerID  Total_Cost\n",
              "61619    541431     23166  ...    12346.0     77183.6\n",
              "\n",
              "[1 rows x 8 columns]"
            ]
          },
          "metadata": {},
          "execution_count": 56
        }
      ]
    },
    {
      "cell_type": "markdown",
      "metadata": {
        "id": "1vFKCe9cwlYE"
      },
      "source": [
        "**The first customer has shopped only once, bought one item at a huge quantity(74215). The unit price is very low, seems a clearance sale.**"
      ]
    },
    {
      "cell_type": "code",
      "metadata": {
        "id": "5lNj3-JUxfNZ"
      },
      "source": [
        "segmented_rfm = rfmTable"
      ],
      "execution_count": 57,
      "outputs": []
    },
    {
      "cell_type": "markdown",
      "metadata": {
        "id": "dbVnHGcMwqr6"
      },
      "source": [
        "####**Segmented RFM table using quartiles**\n",
        "\n",
        "**The easiest way to split metrics into segments is by using quartile.**\n",
        "\n",
        "\n",
        "*   This gives us a starting point for detailed analysis.\n",
        "*   4 segments are easy to understand and explain."
      ]
    },
    {
      "cell_type": "code",
      "metadata": {
        "colab": {
          "base_uri": "https://localhost:8080/",
          "height": 141
        },
        "id": "-191qzDawqO6",
        "outputId": "c4a64390-2ee0-4217-b75f-e28ccc8e5f62"
      },
      "source": [
        "quantiles = rfmTable.quantile(q=[0.25,0.5,0.75])\n",
        "quantiles"
      ],
      "execution_count": 58,
      "outputs": [
        {
          "output_type": "execute_result",
          "data": {
            "text/html": [
              "<div>\n",
              "<style scoped>\n",
              "    .dataframe tbody tr th:only-of-type {\n",
              "        vertical-align: middle;\n",
              "    }\n",
              "\n",
              "    .dataframe tbody tr th {\n",
              "        vertical-align: top;\n",
              "    }\n",
              "\n",
              "    .dataframe thead th {\n",
              "        text-align: right;\n",
              "    }\n",
              "</style>\n",
              "<table border=\"1\" class=\"dataframe\">\n",
              "  <thead>\n",
              "    <tr style=\"text-align: right;\">\n",
              "      <th></th>\n",
              "      <th>recency</th>\n",
              "      <th>frequency</th>\n",
              "      <th>monetary_value</th>\n",
              "    </tr>\n",
              "  </thead>\n",
              "  <tbody>\n",
              "    <tr>\n",
              "      <th>0.25</th>\n",
              "      <td>18.0</td>\n",
              "      <td>17.0</td>\n",
              "      <td>298.11</td>\n",
              "    </tr>\n",
              "    <tr>\n",
              "      <th>0.50</th>\n",
              "      <td>51.0</td>\n",
              "      <td>40.0</td>\n",
              "      <td>644.30</td>\n",
              "    </tr>\n",
              "    <tr>\n",
              "      <th>0.75</th>\n",
              "      <td>143.0</td>\n",
              "      <td>98.0</td>\n",
              "      <td>1570.81</td>\n",
              "    </tr>\n",
              "  </tbody>\n",
              "</table>\n",
              "</div>"
            ],
            "text/plain": [
              "      recency  frequency  monetary_value\n",
              "0.25     18.0       17.0          298.11\n",
              "0.50     51.0       40.0          644.30\n",
              "0.75    143.0       98.0         1570.81"
            ]
          },
          "metadata": {},
          "execution_count": 58
        }
      ]
    },
    {
      "cell_type": "code",
      "metadata": {
        "colab": {
          "base_uri": "https://localhost:8080/"
        },
        "id": "5vF7GNxowWsO",
        "outputId": "eeaf52ca-4474-42ec-d9d8-5a13cddec5d3"
      },
      "source": [
        "#Convert quantiles to dictionary\n",
        "quantiles = quantiles.to_dict()\n",
        "quantiles"
      ],
      "execution_count": 59,
      "outputs": [
        {
          "output_type": "execute_result",
          "data": {
            "text/plain": [
              "{'frequency': {0.25: 17.0, 0.5: 40.0, 0.75: 98.0},\n",
              " 'monetary_value': {0.25: 298.11, 0.5: 644.3, 0.75: 1570.81},\n",
              " 'recency': {0.25: 18.0, 0.5: 51.0, 0.75: 143.0}}"
            ]
          },
          "metadata": {},
          "execution_count": 59
        }
      ]
    },
    {
      "cell_type": "markdown",
      "metadata": {
        "id": "ID__0IOvxJOE"
      },
      "source": [
        "### **Lowest recency, highest frequency and monetary are our best customers**\n",
        "\n",
        "*   For recency a good customer would be a part of the lowest quartile designated as '1'.\n",
        "*   For frequency and monetary a good customer would be a part of the highest quartile here designated as '1'.\n",
        "\n"
      ]
    },
    {
      "cell_type": "code",
      "metadata": {
        "id": "7KJGbRJPxERQ"
      },
      "source": [
        "# Create functions to separate customers into segments such as 1,2,3,4 based on quantile allocation.\n",
        "\n",
        "def RScore(x,p,d):\n",
        "    if x <= d[p][0.25]:\n",
        "        return 1\n",
        "    elif x <= d[p][0.50]:\n",
        "        return 2\n",
        "    elif x <= d[p][0.75]: \n",
        "        return 3\n",
        "    else:\n",
        "        return 4\n",
        "    \n",
        "def FMScore(x,p,d):\n",
        "    if x <= d[p][0.25]:\n",
        "        return 4\n",
        "    elif x <= d[p][0.50]:\n",
        "        return 3\n",
        "    elif x <= d[p][0.75]: \n",
        "        return 2\n",
        "    else:\n",
        "        return 1"
      ],
      "execution_count": 60,
      "outputs": []
    },
    {
      "cell_type": "code",
      "metadata": {
        "id": "oofdtrklxEPK"
      },
      "source": [
        "# Create functions to separate customers into segments such as 1,2,3,4 based on quantile allocation.\n",
        "\n",
        "def RScore(x,p,d):\n",
        "    if x <= d[p][0.25]:\n",
        "        return 1\n",
        "    elif x <= d[p][0.50]:\n",
        "        return 2\n",
        "    elif x <= d[p][0.75]: \n",
        "        return 3\n",
        "    else:\n",
        "        return 4\n",
        "    \n",
        "def FMScore(x,p,d):\n",
        "    if x <= d[p][0.25]:\n",
        "        return 4\n",
        "    elif x <= d[p][0.50]:\n",
        "        return 3\n",
        "    elif x <= d[p][0.75]: \n",
        "        return 2\n",
        "    else:\n",
        "        return 1"
      ],
      "execution_count": 61,
      "outputs": []
    },
    {
      "cell_type": "code",
      "metadata": {
        "id": "dQ_PWmRkxkU3"
      },
      "source": [
        "# Assign segments to customers\n",
        "\n",
        "segmented_rfm['r_quartile'] = segmented_rfm['recency'].apply(RScore, args=('recency',quantiles,))\n",
        "segmented_rfm['f_quartile'] = segmented_rfm['frequency'].apply(FMScore, args=('frequency',quantiles,))\n",
        "segmented_rfm['m_quartile'] = segmented_rfm['monetary_value'].apply(FMScore, args=('monetary_value',quantiles,))"
      ],
      "execution_count": 62,
      "outputs": []
    },
    {
      "cell_type": "code",
      "metadata": {
        "colab": {
          "base_uri": "https://localhost:8080/",
          "height": 232
        },
        "id": "dbVjrCdxxnB-",
        "outputId": "4e67c171-8cff-4598-efa9-3b98f367fee6"
      },
      "source": [
        "#Explore the resultant segmented RFM table\n",
        "\n",
        "segmented_rfm.head()"
      ],
      "execution_count": 63,
      "outputs": [
        {
          "output_type": "execute_result",
          "data": {
            "text/html": [
              "<div>\n",
              "<style scoped>\n",
              "    .dataframe tbody tr th:only-of-type {\n",
              "        vertical-align: middle;\n",
              "    }\n",
              "\n",
              "    .dataframe tbody tr th {\n",
              "        vertical-align: top;\n",
              "    }\n",
              "\n",
              "    .dataframe thead th {\n",
              "        text-align: right;\n",
              "    }\n",
              "</style>\n",
              "<table border=\"1\" class=\"dataframe\">\n",
              "  <thead>\n",
              "    <tr style=\"text-align: right;\">\n",
              "      <th></th>\n",
              "      <th>recency</th>\n",
              "      <th>frequency</th>\n",
              "      <th>monetary_value</th>\n",
              "      <th>r_quartile</th>\n",
              "      <th>f_quartile</th>\n",
              "      <th>m_quartile</th>\n",
              "    </tr>\n",
              "    <tr>\n",
              "      <th>CustomerID</th>\n",
              "      <th></th>\n",
              "      <th></th>\n",
              "      <th></th>\n",
              "      <th></th>\n",
              "      <th></th>\n",
              "      <th></th>\n",
              "    </tr>\n",
              "  </thead>\n",
              "  <tbody>\n",
              "    <tr>\n",
              "      <th>12346.0</th>\n",
              "      <td>326</td>\n",
              "      <td>1</td>\n",
              "      <td>77183.60</td>\n",
              "      <td>4</td>\n",
              "      <td>4</td>\n",
              "      <td>1</td>\n",
              "    </tr>\n",
              "    <tr>\n",
              "      <th>12747.0</th>\n",
              "      <td>2</td>\n",
              "      <td>103</td>\n",
              "      <td>4196.01</td>\n",
              "      <td>1</td>\n",
              "      <td>1</td>\n",
              "      <td>1</td>\n",
              "    </tr>\n",
              "    <tr>\n",
              "      <th>12748.0</th>\n",
              "      <td>1</td>\n",
              "      <td>4413</td>\n",
              "      <td>33053.19</td>\n",
              "      <td>1</td>\n",
              "      <td>1</td>\n",
              "      <td>1</td>\n",
              "    </tr>\n",
              "    <tr>\n",
              "      <th>12749.0</th>\n",
              "      <td>4</td>\n",
              "      <td>199</td>\n",
              "      <td>4090.88</td>\n",
              "      <td>1</td>\n",
              "      <td>1</td>\n",
              "      <td>1</td>\n",
              "    </tr>\n",
              "    <tr>\n",
              "      <th>12820.0</th>\n",
              "      <td>3</td>\n",
              "      <td>59</td>\n",
              "      <td>942.34</td>\n",
              "      <td>1</td>\n",
              "      <td>2</td>\n",
              "      <td>2</td>\n",
              "    </tr>\n",
              "  </tbody>\n",
              "</table>\n",
              "</div>"
            ],
            "text/plain": [
              "            recency  frequency  ...  f_quartile  m_quartile\n",
              "CustomerID                      ...                        \n",
              "12346.0         326          1  ...           4           1\n",
              "12747.0           2        103  ...           1           1\n",
              "12748.0           1       4413  ...           1           1\n",
              "12749.0           4        199  ...           1           1\n",
              "12820.0           3         59  ...           2           2\n",
              "\n",
              "[5 rows x 6 columns]"
            ]
          },
          "metadata": {},
          "execution_count": 63
        }
      ]
    },
    {
      "cell_type": "code",
      "metadata": {
        "colab": {
          "base_uri": "https://localhost:8080/",
          "height": 232
        },
        "id": "5zKCAPxBxpbY",
        "outputId": "fb02511d-cd4a-471c-9f53-de352806ba9b"
      },
      "source": [
        "#Create a new column with combined RFM Score\n",
        "\n",
        "segmented_rfm['RFMScore'] = segmented_rfm.r_quartile.map(str) \\\n",
        "                            + segmented_rfm.f_quartile.map(str) \\\n",
        "                            + segmented_rfm.m_quartile.map(str)\n",
        "segmented_rfm.head()"
      ],
      "execution_count": 64,
      "outputs": [
        {
          "output_type": "execute_result",
          "data": {
            "text/html": [
              "<div>\n",
              "<style scoped>\n",
              "    .dataframe tbody tr th:only-of-type {\n",
              "        vertical-align: middle;\n",
              "    }\n",
              "\n",
              "    .dataframe tbody tr th {\n",
              "        vertical-align: top;\n",
              "    }\n",
              "\n",
              "    .dataframe thead th {\n",
              "        text-align: right;\n",
              "    }\n",
              "</style>\n",
              "<table border=\"1\" class=\"dataframe\">\n",
              "  <thead>\n",
              "    <tr style=\"text-align: right;\">\n",
              "      <th></th>\n",
              "      <th>recency</th>\n",
              "      <th>frequency</th>\n",
              "      <th>monetary_value</th>\n",
              "      <th>r_quartile</th>\n",
              "      <th>f_quartile</th>\n",
              "      <th>m_quartile</th>\n",
              "      <th>RFMScore</th>\n",
              "    </tr>\n",
              "    <tr>\n",
              "      <th>CustomerID</th>\n",
              "      <th></th>\n",
              "      <th></th>\n",
              "      <th></th>\n",
              "      <th></th>\n",
              "      <th></th>\n",
              "      <th></th>\n",
              "      <th></th>\n",
              "    </tr>\n",
              "  </thead>\n",
              "  <tbody>\n",
              "    <tr>\n",
              "      <th>12346.0</th>\n",
              "      <td>326</td>\n",
              "      <td>1</td>\n",
              "      <td>77183.60</td>\n",
              "      <td>4</td>\n",
              "      <td>4</td>\n",
              "      <td>1</td>\n",
              "      <td>441</td>\n",
              "    </tr>\n",
              "    <tr>\n",
              "      <th>12747.0</th>\n",
              "      <td>2</td>\n",
              "      <td>103</td>\n",
              "      <td>4196.01</td>\n",
              "      <td>1</td>\n",
              "      <td>1</td>\n",
              "      <td>1</td>\n",
              "      <td>111</td>\n",
              "    </tr>\n",
              "    <tr>\n",
              "      <th>12748.0</th>\n",
              "      <td>1</td>\n",
              "      <td>4413</td>\n",
              "      <td>33053.19</td>\n",
              "      <td>1</td>\n",
              "      <td>1</td>\n",
              "      <td>1</td>\n",
              "      <td>111</td>\n",
              "    </tr>\n",
              "    <tr>\n",
              "      <th>12749.0</th>\n",
              "      <td>4</td>\n",
              "      <td>199</td>\n",
              "      <td>4090.88</td>\n",
              "      <td>1</td>\n",
              "      <td>1</td>\n",
              "      <td>1</td>\n",
              "      <td>111</td>\n",
              "    </tr>\n",
              "    <tr>\n",
              "      <th>12820.0</th>\n",
              "      <td>3</td>\n",
              "      <td>59</td>\n",
              "      <td>942.34</td>\n",
              "      <td>1</td>\n",
              "      <td>2</td>\n",
              "      <td>2</td>\n",
              "      <td>122</td>\n",
              "    </tr>\n",
              "  </tbody>\n",
              "</table>\n",
              "</div>"
            ],
            "text/plain": [
              "            recency  frequency  monetary_value  ...  f_quartile  m_quartile  RFMScore\n",
              "CustomerID                                      ...                                  \n",
              "12346.0         326          1        77183.60  ...           4           1       441\n",
              "12747.0           2        103         4196.01  ...           1           1       111\n",
              "12748.0           1       4413        33053.19  ...           1           1       111\n",
              "12749.0           4        199         4090.88  ...           1           1       111\n",
              "12820.0           3         59          942.34  ...           2           2       122\n",
              "\n",
              "[5 rows x 7 columns]"
            ]
          },
          "metadata": {},
          "execution_count": 64
        }
      ]
    },
    {
      "cell_type": "markdown",
      "metadata": {
        "id": "dW5LJ-XpyEGB"
      },
      "source": [
        "### **Data visualization**"
      ]
    },
    {
      "cell_type": "code",
      "metadata": {
        "colab": {
          "base_uri": "https://localhost:8080/",
          "height": 626
        },
        "id": "KBpvu9hnx_hW",
        "outputId": "76204807-2c99-4c2b-e5bd-705178bcd790"
      },
      "source": [
        "# Plot recency, freqiency and moneatry distribution\n",
        "fig,ax=plt.subplots(3,1)\n",
        "fig.set_size_inches(w=10,h=10)\n",
        "sns.boxplot(x='recency',data=rfmTable,ax=fig.axes[0])\n",
        "sns.boxplot(x='frequency',data=rfmTable,ax=fig.axes[1])\n",
        "sns.boxplot(x='monetary_value',data=rfmTable,ax=fig.axes[2])"
      ],
      "execution_count": 65,
      "outputs": [
        {
          "output_type": "execute_result",
          "data": {
            "text/plain": [
              "<matplotlib.axes._subplots.AxesSubplot at 0x7f7909b41210>"
            ]
          },
          "metadata": {},
          "execution_count": 65
        },
        {
          "output_type": "display_data",
          "data": {
            "image/png": "[encoded data removed]",
            "text/plain": [
              "<Figure size 720x720 with 3 Axes>"
            ]
          },
          "metadata": {}
        }
      ]
    },
    {
      "cell_type": "code",
      "metadata": {
        "colab": {
          "base_uri": "https://localhost:8080/",
          "height": 293
        },
        "id": "vRhpko6XyI__",
        "outputId": "b8c10de2-e2cb-40c1-e82a-43b4f079b91b"
      },
      "source": [
        "c= rfmTable[['recency','frequency','monetary_value']].corr()\n",
        "sns.heatmap(data=c,cmap=\"BrBG\",annot=True)\n",
        "plt.show()"
      ],
      "execution_count": 66,
      "outputs": [
        {
          "output_type": "display_data",
          "data": {
            "image/png": "[encoded data removed]",
            "text/plain": [
              "<Figure size 432x288 with 2 Axes>"
            ]
          },
          "metadata": {}
        }
      ]
    },
    {
      "cell_type": "markdown",
      "metadata": {
        "id": "cGzko0fbyO7a"
      },
      "source": [
        "### **Observation**\n",
        "\n",
        "*   Frequency and monetary value are positively correlated with each other implying an increase in frequency implies increase in monetary value.\n",
        "\n",
        "*   Frequency and Recency are negatively correlated with each other implying an increase in frequency implies decrease in monetary value\n",
        "\n",
        "\n"
      ]
    },
    {
      "cell_type": "markdown",
      "metadata": {
        "id": "lC_-FkdpyfSk"
      },
      "source": [
        "### **Target different customer segments**"
      ]
    },
    {
      "cell_type": "markdown",
      "metadata": {
        "id": "dqes5_Ykyy5W"
      },
      "source": [
        "##**1. Best customers**\n",
        "\n",
        "*   These are the customers that bought recently, buy often and spend a lot. It’s likely that they will continue to do so.\n",
        "\n",
        "*   Since they already like you so much, consider marketing to them without price incentives to preserve your profit margin.\n",
        "\n",
        "*   Be sure to tell these customers about new products you carry, how to connect on social networks, and any loyalty programs or social media incentives you run.\n",
        "\n",
        "\n",
        "\n",
        "\n"
      ]
    },
    {
      "cell_type": "code",
      "metadata": {
        "colab": {
          "base_uri": "https://localhost:8080/",
          "height": 232
        },
        "id": "zdTFlucoyMfB",
        "outputId": "01885350-64d4-468f-e89f-d46396cc37f3"
      },
      "source": [
        "segmented_rfm[segmented_rfm['RFMScore']=='111'].sort_values('monetary_value', ascending=False).head()"
      ],
      "execution_count": 67,
      "outputs": [
        {
          "output_type": "execute_result",
          "data": {
            "text/html": [
              "<div>\n",
              "<style scoped>\n",
              "    .dataframe tbody tr th:only-of-type {\n",
              "        vertical-align: middle;\n",
              "    }\n",
              "\n",
              "    .dataframe tbody tr th {\n",
              "        vertical-align: top;\n",
              "    }\n",
              "\n",
              "    .dataframe thead th {\n",
              "        text-align: right;\n",
              "    }\n",
              "</style>\n",
              "<table border=\"1\" class=\"dataframe\">\n",
              "  <thead>\n",
              "    <tr style=\"text-align: right;\">\n",
              "      <th></th>\n",
              "      <th>recency</th>\n",
              "      <th>frequency</th>\n",
              "      <th>monetary_value</th>\n",
              "      <th>r_quartile</th>\n",
              "      <th>f_quartile</th>\n",
              "      <th>m_quartile</th>\n",
              "      <th>RFMScore</th>\n",
              "    </tr>\n",
              "    <tr>\n",
              "      <th>CustomerID</th>\n",
              "      <th></th>\n",
              "      <th></th>\n",
              "      <th></th>\n",
              "      <th></th>\n",
              "      <th></th>\n",
              "      <th></th>\n",
              "      <th></th>\n",
              "    </tr>\n",
              "  </thead>\n",
              "  <tbody>\n",
              "    <tr>\n",
              "      <th>18102.0</th>\n",
              "      <td>1</td>\n",
              "      <td>431</td>\n",
              "      <td>259657.30</td>\n",
              "      <td>1</td>\n",
              "      <td>1</td>\n",
              "      <td>1</td>\n",
              "      <td>111</td>\n",
              "    </tr>\n",
              "    <tr>\n",
              "      <th>17450.0</th>\n",
              "      <td>8</td>\n",
              "      <td>336</td>\n",
              "      <td>194390.79</td>\n",
              "      <td>1</td>\n",
              "      <td>1</td>\n",
              "      <td>1</td>\n",
              "      <td>111</td>\n",
              "    </tr>\n",
              "    <tr>\n",
              "      <th>17511.0</th>\n",
              "      <td>3</td>\n",
              "      <td>963</td>\n",
              "      <td>91062.38</td>\n",
              "      <td>1</td>\n",
              "      <td>1</td>\n",
              "      <td>1</td>\n",
              "      <td>111</td>\n",
              "    </tr>\n",
              "    <tr>\n",
              "      <th>16684.0</th>\n",
              "      <td>4</td>\n",
              "      <td>277</td>\n",
              "      <td>66653.56</td>\n",
              "      <td>1</td>\n",
              "      <td>1</td>\n",
              "      <td>1</td>\n",
              "      <td>111</td>\n",
              "    </tr>\n",
              "    <tr>\n",
              "      <th>14096.0</th>\n",
              "      <td>4</td>\n",
              "      <td>5111</td>\n",
              "      <td>65164.79</td>\n",
              "      <td>1</td>\n",
              "      <td>1</td>\n",
              "      <td>1</td>\n",
              "      <td>111</td>\n",
              "    </tr>\n",
              "  </tbody>\n",
              "</table>\n",
              "</div>"
            ],
            "text/plain": [
              "            recency  frequency  monetary_value  ...  f_quartile  m_quartile  RFMScore\n",
              "CustomerID                                      ...                                  \n",
              "18102.0           1        431       259657.30  ...           1           1       111\n",
              "17450.0           8        336       194390.79  ...           1           1       111\n",
              "17511.0           3        963        91062.38  ...           1           1       111\n",
              "16684.0           4        277        66653.56  ...           1           1       111\n",
              "14096.0           4       5111        65164.79  ...           1           1       111\n",
              "\n",
              "[5 rows x 7 columns]"
            ]
          },
          "metadata": {},
          "execution_count": 67
        }
      ]
    },
    {
      "cell_type": "code",
      "metadata": {
        "id": "3YC9WveozRSt"
      },
      "source": [
        "segmented_rfm['Segment_Type'] = np.where(segmented_rfm['RFMScore']=='111','Best customers','NA')"
      ],
      "execution_count": 68,
      "outputs": []
    },
    {
      "cell_type": "markdown",
      "metadata": {
        "id": "IWlmGbtl5IcM"
      },
      "source": [
        "###**2. Big Spenders**\n",
        "\n",
        "\n",
        "*   Big spenders have spent a lot of money over their lifetime as your customer.\n",
        "\n",
        "*   They trust you enough to invest a lot in your products.\n",
        "\n",
        "*   Considering marketing your most expensive products and top of the line models to this group.\n",
        "\n"
      ]
    },
    {
      "cell_type": "code",
      "metadata": {
        "colab": {
          "base_uri": "https://localhost:8080/",
          "height": 232
        },
        "id": "y2zJLt0PzVQb",
        "outputId": "fc960ae8-cbd7-419c-b174-b63988455dc2"
      },
      "source": [
        "# Another way to extract: segmented_rfm[segmented_rfm['RFMScore'].apply(lambda x: str(x)[-1])=='1'].sort_values('monetary_value', ascending=False)\n",
        "segmented_rfm[segmented_rfm['m_quartile']==1].sort_values('monetary_value', ascending=False).head()"
      ],
      "execution_count": 69,
      "outputs": [
        {
          "output_type": "execute_result",
          "data": {
            "text/html": [
              "<div>\n",
              "<style scoped>\n",
              "    .dataframe tbody tr th:only-of-type {\n",
              "        vertical-align: middle;\n",
              "    }\n",
              "\n",
              "    .dataframe tbody tr th {\n",
              "        vertical-align: top;\n",
              "    }\n",
              "\n",
              "    .dataframe thead th {\n",
              "        text-align: right;\n",
              "    }\n",
              "</style>\n",
              "<table border=\"1\" class=\"dataframe\">\n",
              "  <thead>\n",
              "    <tr style=\"text-align: right;\">\n",
              "      <th></th>\n",
              "      <th>recency</th>\n",
              "      <th>frequency</th>\n",
              "      <th>monetary_value</th>\n",
              "      <th>r_quartile</th>\n",
              "      <th>f_quartile</th>\n",
              "      <th>m_quartile</th>\n",
              "      <th>RFMScore</th>\n",
              "      <th>Segment_Type</th>\n",
              "    </tr>\n",
              "    <tr>\n",
              "      <th>CustomerID</th>\n",
              "      <th></th>\n",
              "      <th></th>\n",
              "      <th></th>\n",
              "      <th></th>\n",
              "      <th></th>\n",
              "      <th></th>\n",
              "      <th></th>\n",
              "      <th></th>\n",
              "    </tr>\n",
              "  </thead>\n",
              "  <tbody>\n",
              "    <tr>\n",
              "      <th>18102.0</th>\n",
              "      <td>1</td>\n",
              "      <td>431</td>\n",
              "      <td>259657.30</td>\n",
              "      <td>1</td>\n",
              "      <td>1</td>\n",
              "      <td>1</td>\n",
              "      <td>111</td>\n",
              "      <td>Best customers</td>\n",
              "    </tr>\n",
              "    <tr>\n",
              "      <th>17450.0</th>\n",
              "      <td>8</td>\n",
              "      <td>336</td>\n",
              "      <td>194390.79</td>\n",
              "      <td>1</td>\n",
              "      <td>1</td>\n",
              "      <td>1</td>\n",
              "      <td>111</td>\n",
              "      <td>Best customers</td>\n",
              "    </tr>\n",
              "    <tr>\n",
              "      <th>16446.0</th>\n",
              "      <td>1</td>\n",
              "      <td>3</td>\n",
              "      <td>168472.50</td>\n",
              "      <td>1</td>\n",
              "      <td>4</td>\n",
              "      <td>1</td>\n",
              "      <td>141</td>\n",
              "      <td>NA</td>\n",
              "    </tr>\n",
              "    <tr>\n",
              "      <th>17511.0</th>\n",
              "      <td>3</td>\n",
              "      <td>963</td>\n",
              "      <td>91062.38</td>\n",
              "      <td>1</td>\n",
              "      <td>1</td>\n",
              "      <td>1</td>\n",
              "      <td>111</td>\n",
              "      <td>Best customers</td>\n",
              "    </tr>\n",
              "    <tr>\n",
              "      <th>16029.0</th>\n",
              "      <td>39</td>\n",
              "      <td>241</td>\n",
              "      <td>80850.84</td>\n",
              "      <td>2</td>\n",
              "      <td>1</td>\n",
              "      <td>1</td>\n",
              "      <td>211</td>\n",
              "      <td>NA</td>\n",
              "    </tr>\n",
              "  </tbody>\n",
              "</table>\n",
              "</div>"
            ],
            "text/plain": [
              "            recency  frequency  ...  RFMScore    Segment_Type\n",
              "CustomerID                      ...                          \n",
              "18102.0           1        431  ...       111  Best customers\n",
              "17450.0           8        336  ...       111  Best customers\n",
              "16446.0           1          3  ...       141              NA\n",
              "17511.0           3        963  ...       111  Best customers\n",
              "16029.0          39        241  ...       211              NA\n",
              "\n",
              "[5 rows x 8 columns]"
            ]
          },
          "metadata": {},
          "execution_count": 69
        }
      ]
    },
    {
      "cell_type": "code",
      "metadata": {
        "colab": {
          "base_uri": "https://localhost:8080/"
        },
        "id": "243rGtDi51zd",
        "outputId": "55cb5e10-83ff-46df-d509-28a4c81244a9"
      },
      "source": [
        "a=segmented_rfm[(segmented_rfm['Segment_Type']=='NA') & (segmented_rfm['RFMScore'].apply(lambda x: str(x)[-1])=='1')]['Segment_Type'].replace('NA','Big Spenders')\n",
        "ind=a.index\n",
        "segmented_rfm['Segment_Type'][ind]='Big Spenders'"
      ],
      "execution_count": 70,
      "outputs": [
        {
          "output_type": "stream",
          "text": [
            "/usr/local/lib/python3.7/dist-packages/ipykernel_launcher.py:3: SettingWithCopyWarning: \n",
            "A value is trying to be set on a copy of a slice from a DataFrame\n",
            "\n",
            "See the caveats in the documentation: https://pandas.pydata.org/pandas-docs/stable/user_guide/indexing.html#returning-a-view-versus-a-copy\n",
            "  This is separate from the ipykernel package so we can avoid doing imports until\n",
            "/usr/local/lib/python3.7/dist-packages/pandas/core/indexing.py:670: SettingWithCopyWarning: \n",
            "A value is trying to be set on a copy of a slice from a DataFrame\n",
            "\n",
            "See the caveats in the documentation: https://pandas.pydata.org/pandas-docs/stable/user_guide/indexing.html#returning-a-view-versus-a-copy\n",
            "  iloc._setitem_with_indexer(indexer, value)\n"
          ],
          "name": "stderr"
        }
      ]
    },
    {
      "cell_type": "markdown",
      "metadata": {
        "id": "1ZO2TJPn574j"
      },
      "source": [
        "### **3. Loyal customers**\n",
        "\n",
        "*   Anyone with a high frequency should be considered loyal. This doesn’t mean they have necessarily bought recently, or that they spent a lot, though you could define that with your R and M factors.\n",
        "\n",
        "\n",
        "\n"
      ]
    },
    {
      "cell_type": "code",
      "metadata": {
        "colab": {
          "base_uri": "https://localhost:8080/",
          "height": 232
        },
        "id": "AHOU7en6540_",
        "outputId": "bfc51fd9-9783-4d43-867d-a8ab7284a6bb"
      },
      "source": [
        "#segmented_rfm[segmented_rfm['RFMScore'].apply(lambda x: str(x)[-2])=='1'].sort_values('frequency', ascending=False)\n",
        "segmented_rfm[segmented_rfm['r_quartile']==1].sort_values('frequency', ascending=False).head()"
      ],
      "execution_count": 71,
      "outputs": [
        {
          "output_type": "execute_result",
          "data": {
            "text/html": [
              "<div>\n",
              "<style scoped>\n",
              "    .dataframe tbody tr th:only-of-type {\n",
              "        vertical-align: middle;\n",
              "    }\n",
              "\n",
              "    .dataframe tbody tr th {\n",
              "        vertical-align: top;\n",
              "    }\n",
              "\n",
              "    .dataframe thead th {\n",
              "        text-align: right;\n",
              "    }\n",
              "</style>\n",
              "<table border=\"1\" class=\"dataframe\">\n",
              "  <thead>\n",
              "    <tr style=\"text-align: right;\">\n",
              "      <th></th>\n",
              "      <th>recency</th>\n",
              "      <th>frequency</th>\n",
              "      <th>monetary_value</th>\n",
              "      <th>r_quartile</th>\n",
              "      <th>f_quartile</th>\n",
              "      <th>m_quartile</th>\n",
              "      <th>RFMScore</th>\n",
              "      <th>Segment_Type</th>\n",
              "    </tr>\n",
              "    <tr>\n",
              "      <th>CustomerID</th>\n",
              "      <th></th>\n",
              "      <th></th>\n",
              "      <th></th>\n",
              "      <th></th>\n",
              "      <th></th>\n",
              "      <th></th>\n",
              "      <th></th>\n",
              "      <th></th>\n",
              "    </tr>\n",
              "  </thead>\n",
              "  <tbody>\n",
              "    <tr>\n",
              "      <th>17841.0</th>\n",
              "      <td>2</td>\n",
              "      <td>7676</td>\n",
              "      <td>40519.84</td>\n",
              "      <td>1</td>\n",
              "      <td>1</td>\n",
              "      <td>1</td>\n",
              "      <td>111</td>\n",
              "      <td>Best customers</td>\n",
              "    </tr>\n",
              "    <tr>\n",
              "      <th>14096.0</th>\n",
              "      <td>4</td>\n",
              "      <td>5111</td>\n",
              "      <td>65164.79</td>\n",
              "      <td>1</td>\n",
              "      <td>1</td>\n",
              "      <td>1</td>\n",
              "      <td>111</td>\n",
              "      <td>Best customers</td>\n",
              "    </tr>\n",
              "    <tr>\n",
              "      <th>12748.0</th>\n",
              "      <td>1</td>\n",
              "      <td>4413</td>\n",
              "      <td>33053.19</td>\n",
              "      <td>1</td>\n",
              "      <td>1</td>\n",
              "      <td>1</td>\n",
              "      <td>111</td>\n",
              "      <td>Best customers</td>\n",
              "    </tr>\n",
              "    <tr>\n",
              "      <th>14606.0</th>\n",
              "      <td>1</td>\n",
              "      <td>2677</td>\n",
              "      <td>12076.15</td>\n",
              "      <td>1</td>\n",
              "      <td>1</td>\n",
              "      <td>1</td>\n",
              "      <td>111</td>\n",
              "      <td>Best customers</td>\n",
              "    </tr>\n",
              "    <tr>\n",
              "      <th>15311.0</th>\n",
              "      <td>1</td>\n",
              "      <td>2366</td>\n",
              "      <td>60632.75</td>\n",
              "      <td>1</td>\n",
              "      <td>1</td>\n",
              "      <td>1</td>\n",
              "      <td>111</td>\n",
              "      <td>Best customers</td>\n",
              "    </tr>\n",
              "  </tbody>\n",
              "</table>\n",
              "</div>"
            ],
            "text/plain": [
              "            recency  frequency  ...  RFMScore    Segment_Type\n",
              "CustomerID                      ...                          \n",
              "17841.0           2       7676  ...       111  Best customers\n",
              "14096.0           4       5111  ...       111  Best customers\n",
              "12748.0           1       4413  ...       111  Best customers\n",
              "14606.0           1       2677  ...       111  Best customers\n",
              "15311.0           1       2366  ...       111  Best customers\n",
              "\n",
              "[5 rows x 8 columns]"
            ]
          },
          "metadata": {},
          "execution_count": 71
        }
      ]
    },
    {
      "cell_type": "code",
      "metadata": {
        "colab": {
          "base_uri": "https://localhost:8080/"
        },
        "id": "lym9KhMw6Rsi",
        "outputId": "3aae25a4-de1c-409d-a40f-fb77578d0677"
      },
      "source": [
        "a=segmented_rfm[(segmented_rfm['Segment_Type']=='NA') & (segmented_rfm['RFMScore'].apply(lambda x: str(x)[-2])=='1')]['Segment_Type'].replace('NA','Loyal Customers')\n",
        "ind=a.index\n",
        "segmented_rfm['Segment_Type'][ind]='Loyal Customers'"
      ],
      "execution_count": 72,
      "outputs": [
        {
          "output_type": "stream",
          "text": [
            "/usr/local/lib/python3.7/dist-packages/ipykernel_launcher.py:3: SettingWithCopyWarning: \n",
            "A value is trying to be set on a copy of a slice from a DataFrame\n",
            "\n",
            "See the caveats in the documentation: https://pandas.pydata.org/pandas-docs/stable/user_guide/indexing.html#returning-a-view-versus-a-copy\n",
            "  This is separate from the ipykernel package so we can avoid doing imports until\n",
            "/usr/local/lib/python3.7/dist-packages/pandas/core/indexing.py:670: SettingWithCopyWarning: \n",
            "A value is trying to be set on a copy of a slice from a DataFrame\n",
            "\n",
            "See the caveats in the documentation: https://pandas.pydata.org/pandas-docs/stable/user_guide/indexing.html#returning-a-view-versus-a-copy\n",
            "  iloc._setitem_with_indexer(indexer, value)\n"
          ],
          "name": "stderr"
        }
      ]
    },
    {
      "cell_type": "markdown",
      "metadata": {
        "id": "jkP-Rmt7-IvN"
      },
      "source": [
        "### **4. Loyal Joes**\n",
        "\n",
        "*   Loyal Joes buy often, but don’t spend very much.\n",
        "\n",
        "*   Goal should be to increase the share of wallet you have from this customer.\n",
        "\n",
        "*   Send offers that require them to “Spend 100 rupees to save 20 rupees” and “Buy 4, Get 1 Free.” These offers create high hurdles that must be cleared to gain the reward, and will increase the amount these loyal customers spend with you.\n",
        "\n"
      ]
    },
    {
      "cell_type": "code",
      "metadata": {
        "colab": {
          "base_uri": "https://localhost:8080/",
          "height": 141
        },
        "id": "2jxPnoGF-E4b",
        "outputId": "552a7878-7524-4b18-fb2c-d14a32412316"
      },
      "source": [
        "segmented_rfm[segmented_rfm['RFMScore'].apply(lambda x: str(x)[-2:])=='14']"
      ],
      "execution_count": 73,
      "outputs": [
        {
          "output_type": "execute_result",
          "data": {
            "text/html": [
              "<div>\n",
              "<style scoped>\n",
              "    .dataframe tbody tr th:only-of-type {\n",
              "        vertical-align: middle;\n",
              "    }\n",
              "\n",
              "    .dataframe tbody tr th {\n",
              "        vertical-align: top;\n",
              "    }\n",
              "\n",
              "    .dataframe thead th {\n",
              "        text-align: right;\n",
              "    }\n",
              "</style>\n",
              "<table border=\"1\" class=\"dataframe\">\n",
              "  <thead>\n",
              "    <tr style=\"text-align: right;\">\n",
              "      <th></th>\n",
              "      <th>recency</th>\n",
              "      <th>frequency</th>\n",
              "      <th>monetary_value</th>\n",
              "      <th>r_quartile</th>\n",
              "      <th>f_quartile</th>\n",
              "      <th>m_quartile</th>\n",
              "      <th>RFMScore</th>\n",
              "      <th>Segment_Type</th>\n",
              "    </tr>\n",
              "    <tr>\n",
              "      <th>CustomerID</th>\n",
              "      <th></th>\n",
              "      <th></th>\n",
              "      <th></th>\n",
              "      <th></th>\n",
              "      <th></th>\n",
              "      <th></th>\n",
              "      <th></th>\n",
              "      <th></th>\n",
              "    </tr>\n",
              "  </thead>\n",
              "  <tbody>\n",
              "    <tr>\n",
              "      <th>15060.0</th>\n",
              "      <td>8</td>\n",
              "      <td>115</td>\n",
              "      <td>294.25</td>\n",
              "      <td>1</td>\n",
              "      <td>1</td>\n",
              "      <td>4</td>\n",
              "      <td>114</td>\n",
              "      <td>Loyal Customers</td>\n",
              "    </tr>\n",
              "    <tr>\n",
              "      <th>17254.0</th>\n",
              "      <td>5</td>\n",
              "      <td>111</td>\n",
              "      <td>271.19</td>\n",
              "      <td>1</td>\n",
              "      <td>1</td>\n",
              "      <td>4</td>\n",
              "      <td>114</td>\n",
              "      <td>Loyal Customers</td>\n",
              "    </tr>\n",
              "  </tbody>\n",
              "</table>\n",
              "</div>"
            ],
            "text/plain": [
              "            recency  frequency  ...  RFMScore     Segment_Type\n",
              "CustomerID                      ...                           \n",
              "15060.0           8        115  ...       114  Loyal Customers\n",
              "17254.0           5        111  ...       114  Loyal Customers\n",
              "\n",
              "[2 rows x 8 columns]"
            ]
          },
          "metadata": {},
          "execution_count": 73
        }
      ]
    },
    {
      "cell_type": "code",
      "metadata": {
        "colab": {
          "base_uri": "https://localhost:8080/"
        },
        "id": "Yxzg2JIj-ZI8",
        "outputId": "62e6f5d3-9d09-46a2-c88e-bd47d62c972e"
      },
      "source": [
        "a=segmented_rfm[(segmented_rfm['Segment_Type']=='Loyal Customers') & (segmented_rfm['RFMScore'].apply(lambda x: str(x)[-2:])=='14')]['Segment_Type'].replace('Loyal Customers','Loyal Joes')\n",
        "ind=a.index\n",
        "segmented_rfm['Segment_Type'][ind]='Loyal Joes'"
      ],
      "execution_count": 74,
      "outputs": [
        {
          "output_type": "stream",
          "text": [
            "/usr/local/lib/python3.7/dist-packages/ipykernel_launcher.py:3: SettingWithCopyWarning: \n",
            "A value is trying to be set on a copy of a slice from a DataFrame\n",
            "\n",
            "See the caveats in the documentation: https://pandas.pydata.org/pandas-docs/stable/user_guide/indexing.html#returning-a-view-versus-a-copy\n",
            "  This is separate from the ipykernel package so we can avoid doing imports until\n",
            "/usr/local/lib/python3.7/dist-packages/pandas/core/indexing.py:670: SettingWithCopyWarning: \n",
            "A value is trying to be set on a copy of a slice from a DataFrame\n",
            "\n",
            "See the caveats in the documentation: https://pandas.pydata.org/pandas-docs/stable/user_guide/indexing.html#returning-a-view-versus-a-copy\n",
            "  iloc._setitem_with_indexer(indexer, value)\n"
          ],
          "name": "stderr"
        }
      ]
    },
    {
      "cell_type": "markdown",
      "metadata": {
        "id": "-q_ynOg9-eHe"
      },
      "source": [
        "### **5. New spenders**\n",
        "\n",
        "\n",
        "\n",
        "\n",
        "\n",
        "\n",
        "\n",
        "*   New Spenders are new customers that spent a lot of money on their first order(s). This is the kind of customer you want to convert into a loyal, regular customer that loves your products and brand. Be sure to welcome them and thank them for making a first purchase, and follow it up with unique incentives to come back again.\n",
        "\n",
        "*   Consider branding the email with a special note from the CEO, and include a survey to ask about their experience.\n",
        "\n",
        "\n",
        "\n",
        "\n"
      ]
    },
    {
      "cell_type": "code",
      "metadata": {
        "colab": {
          "base_uri": "https://localhost:8080/",
          "height": 232
        },
        "id": "kt5j-s99-apR",
        "outputId": "5bb3996e-b5ee-4b79-a945-08d9caa6c1c0"
      },
      "source": [
        "segmented_rfm[segmented_rfm['RFMScore']=='141'].sort_values('monetary_value', ascending=False).head()"
      ],
      "execution_count": 75,
      "outputs": [
        {
          "output_type": "execute_result",
          "data": {
            "text/html": [
              "<div>\n",
              "<style scoped>\n",
              "    .dataframe tbody tr th:only-of-type {\n",
              "        vertical-align: middle;\n",
              "    }\n",
              "\n",
              "    .dataframe tbody tr th {\n",
              "        vertical-align: top;\n",
              "    }\n",
              "\n",
              "    .dataframe thead th {\n",
              "        text-align: right;\n",
              "    }\n",
              "</style>\n",
              "<table border=\"1\" class=\"dataframe\">\n",
              "  <thead>\n",
              "    <tr style=\"text-align: right;\">\n",
              "      <th></th>\n",
              "      <th>recency</th>\n",
              "      <th>frequency</th>\n",
              "      <th>monetary_value</th>\n",
              "      <th>r_quartile</th>\n",
              "      <th>f_quartile</th>\n",
              "      <th>m_quartile</th>\n",
              "      <th>RFMScore</th>\n",
              "      <th>Segment_Type</th>\n",
              "    </tr>\n",
              "    <tr>\n",
              "      <th>CustomerID</th>\n",
              "      <th></th>\n",
              "      <th></th>\n",
              "      <th></th>\n",
              "      <th></th>\n",
              "      <th></th>\n",
              "      <th></th>\n",
              "      <th></th>\n",
              "      <th></th>\n",
              "    </tr>\n",
              "  </thead>\n",
              "  <tbody>\n",
              "    <tr>\n",
              "      <th>16446.0</th>\n",
              "      <td>1</td>\n",
              "      <td>3</td>\n",
              "      <td>168472.5</td>\n",
              "      <td>1</td>\n",
              "      <td>4</td>\n",
              "      <td>1</td>\n",
              "      <td>141</td>\n",
              "      <td>Big Spenders</td>\n",
              "    </tr>\n",
              "    <tr>\n",
              "      <th>16000.0</th>\n",
              "      <td>3</td>\n",
              "      <td>9</td>\n",
              "      <td>12393.7</td>\n",
              "      <td>1</td>\n",
              "      <td>4</td>\n",
              "      <td>1</td>\n",
              "      <td>141</td>\n",
              "      <td>Big Spenders</td>\n",
              "    </tr>\n",
              "    <tr>\n",
              "      <th>16532.0</th>\n",
              "      <td>18</td>\n",
              "      <td>4</td>\n",
              "      <td>6748.8</td>\n",
              "      <td>1</td>\n",
              "      <td>4</td>\n",
              "      <td>1</td>\n",
              "      <td>141</td>\n",
              "      <td>Big Spenders</td>\n",
              "    </tr>\n",
              "    <tr>\n",
              "      <th>15195.0</th>\n",
              "      <td>3</td>\n",
              "      <td>1</td>\n",
              "      <td>3861.0</td>\n",
              "      <td>1</td>\n",
              "      <td>4</td>\n",
              "      <td>1</td>\n",
              "      <td>141</td>\n",
              "      <td>Big Spenders</td>\n",
              "    </tr>\n",
              "    <tr>\n",
              "      <th>15473.0</th>\n",
              "      <td>14</td>\n",
              "      <td>11</td>\n",
              "      <td>1771.2</td>\n",
              "      <td>1</td>\n",
              "      <td>4</td>\n",
              "      <td>1</td>\n",
              "      <td>141</td>\n",
              "      <td>Big Spenders</td>\n",
              "    </tr>\n",
              "  </tbody>\n",
              "</table>\n",
              "</div>"
            ],
            "text/plain": [
              "            recency  frequency  ...  RFMScore  Segment_Type\n",
              "CustomerID                      ...                        \n",
              "16446.0           1          3  ...       141  Big Spenders\n",
              "16000.0           3          9  ...       141  Big Spenders\n",
              "16532.0          18          4  ...       141  Big Spenders\n",
              "15195.0           3          1  ...       141  Big Spenders\n",
              "15473.0          14         11  ...       141  Big Spenders\n",
              "\n",
              "[5 rows x 8 columns]"
            ]
          },
          "metadata": {},
          "execution_count": 75
        }
      ]
    },
    {
      "cell_type": "code",
      "metadata": {
        "colab": {
          "base_uri": "https://localhost:8080/"
        },
        "id": "CBCqsPiwCDP2",
        "outputId": "1399cf27-3543-4110-ee97-33a57ea6f613"
      },
      "source": [
        "a=segmented_rfm[(segmented_rfm['Segment_Type']=='Big Spenders') & (segmented_rfm['RFMScore']=='141')]['Segment_Type'].replace('Big Spenders','New Spenders')\n",
        "ind=a.index\n",
        "segmented_rfm['Segment_Type'][ind]='New Spenders'"
      ],
      "execution_count": 76,
      "outputs": [
        {
          "output_type": "stream",
          "text": [
            "/usr/local/lib/python3.7/dist-packages/ipykernel_launcher.py:3: SettingWithCopyWarning: \n",
            "A value is trying to be set on a copy of a slice from a DataFrame\n",
            "\n",
            "See the caveats in the documentation: https://pandas.pydata.org/pandas-docs/stable/user_guide/indexing.html#returning-a-view-versus-a-copy\n",
            "  This is separate from the ipykernel package so we can avoid doing imports until\n",
            "/usr/local/lib/python3.7/dist-packages/pandas/core/indexing.py:670: SettingWithCopyWarning: \n",
            "A value is trying to be set on a copy of a slice from a DataFrame\n",
            "\n",
            "See the caveats in the documentation: https://pandas.pydata.org/pandas-docs/stable/user_guide/indexing.html#returning-a-view-versus-a-copy\n",
            "  iloc._setitem_with_indexer(indexer, value)\n"
          ],
          "name": "stderr"
        }
      ]
    },
    {
      "cell_type": "markdown",
      "metadata": {
        "id": "L2Vuh3EJCO-_"
      },
      "source": [
        "### **6. Lost Customers**\n",
        "\n",
        "* Lost Customers used to buy frequently from you, and at one point they spent a lot with you, but they’ve stopped. Now it’s time to win them back. \n",
        "* They might be lost to a competitor; they might not have need of your products anymore, or they might have had a bad customer service experience with you."
      ]
    },
    {
      "cell_type": "code",
      "metadata": {
        "colab": {
          "base_uri": "https://localhost:8080/",
          "height": 232
        },
        "id": "RVAyfbRcCIFi",
        "outputId": "d6fc158d-b81e-4ada-f463-ab1c4f4cf19d"
      },
      "source": [
        "segmented_rfm[segmented_rfm['RFMScore']=='411'].sort_values('monetary_value', ascending=False).head()"
      ],
      "execution_count": 77,
      "outputs": [
        {
          "output_type": "execute_result",
          "data": {
            "text/html": [
              "<div>\n",
              "<style scoped>\n",
              "    .dataframe tbody tr th:only-of-type {\n",
              "        vertical-align: middle;\n",
              "    }\n",
              "\n",
              "    .dataframe tbody tr th {\n",
              "        vertical-align: top;\n",
              "    }\n",
              "\n",
              "    .dataframe thead th {\n",
              "        text-align: right;\n",
              "    }\n",
              "</style>\n",
              "<table border=\"1\" class=\"dataframe\">\n",
              "  <thead>\n",
              "    <tr style=\"text-align: right;\">\n",
              "      <th></th>\n",
              "      <th>recency</th>\n",
              "      <th>frequency</th>\n",
              "      <th>monetary_value</th>\n",
              "      <th>r_quartile</th>\n",
              "      <th>f_quartile</th>\n",
              "      <th>m_quartile</th>\n",
              "      <th>RFMScore</th>\n",
              "      <th>Segment_Type</th>\n",
              "    </tr>\n",
              "    <tr>\n",
              "      <th>CustomerID</th>\n",
              "      <th></th>\n",
              "      <th></th>\n",
              "      <th></th>\n",
              "      <th></th>\n",
              "      <th></th>\n",
              "      <th></th>\n",
              "      <th></th>\n",
              "      <th></th>\n",
              "    </tr>\n",
              "  </thead>\n",
              "  <tbody>\n",
              "    <tr>\n",
              "      <th>13093.0</th>\n",
              "      <td>276</td>\n",
              "      <td>159</td>\n",
              "      <td>7832.470</td>\n",
              "      <td>4</td>\n",
              "      <td>1</td>\n",
              "      <td>1</td>\n",
              "      <td>411</td>\n",
              "      <td>Big Spenders</td>\n",
              "    </tr>\n",
              "    <tr>\n",
              "      <th>17850.0</th>\n",
              "      <td>372</td>\n",
              "      <td>297</td>\n",
              "      <td>5391.210</td>\n",
              "      <td>4</td>\n",
              "      <td>1</td>\n",
              "      <td>1</td>\n",
              "      <td>411</td>\n",
              "      <td>Big Spenders</td>\n",
              "    </tr>\n",
              "    <tr>\n",
              "      <th>15379.0</th>\n",
              "      <td>169</td>\n",
              "      <td>194</td>\n",
              "      <td>3703.290</td>\n",
              "      <td>4</td>\n",
              "      <td>1</td>\n",
              "      <td>1</td>\n",
              "      <td>411</td>\n",
              "      <td>Big Spenders</td>\n",
              "    </tr>\n",
              "    <tr>\n",
              "      <th>15808.0</th>\n",
              "      <td>306</td>\n",
              "      <td>195</td>\n",
              "      <td>3651.270</td>\n",
              "      <td>4</td>\n",
              "      <td>1</td>\n",
              "      <td>1</td>\n",
              "      <td>411</td>\n",
              "      <td>Big Spenders</td>\n",
              "    </tr>\n",
              "    <tr>\n",
              "      <th>13952.0</th>\n",
              "      <td>218</td>\n",
              "      <td>137</td>\n",
              "      <td>3251.071</td>\n",
              "      <td>4</td>\n",
              "      <td>1</td>\n",
              "      <td>1</td>\n",
              "      <td>411</td>\n",
              "      <td>Big Spenders</td>\n",
              "    </tr>\n",
              "  </tbody>\n",
              "</table>\n",
              "</div>"
            ],
            "text/plain": [
              "            recency  frequency  ...  RFMScore  Segment_Type\n",
              "CustomerID                      ...                        \n",
              "13093.0         276        159  ...       411  Big Spenders\n",
              "17850.0         372        297  ...       411  Big Spenders\n",
              "15379.0         169        194  ...       411  Big Spenders\n",
              "15808.0         306        195  ...       411  Big Spenders\n",
              "13952.0         218        137  ...       411  Big Spenders\n",
              "\n",
              "[5 rows x 8 columns]"
            ]
          },
          "metadata": {},
          "execution_count": 77
        }
      ]
    },
    {
      "cell_type": "code",
      "metadata": {
        "colab": {
          "base_uri": "https://localhost:8080/"
        },
        "id": "W9KGkft9CVaA",
        "outputId": "87b3743e-d85f-4c2f-8ef9-109b0ea9cf18"
      },
      "source": [
        "a=segmented_rfm[(segmented_rfm['Segment_Type']=='Big Spenders') & (segmented_rfm['RFMScore']=='411')]['Segment_Type'].replace('Big Spenders','Lost Customers')\n",
        "ind=a.index\n",
        "segmented_rfm['Segment_Type'][ind]='Lost Customers'"
      ],
      "execution_count": 78,
      "outputs": [
        {
          "output_type": "stream",
          "text": [
            "/usr/local/lib/python3.7/dist-packages/ipykernel_launcher.py:3: SettingWithCopyWarning: \n",
            "A value is trying to be set on a copy of a slice from a DataFrame\n",
            "\n",
            "See the caveats in the documentation: https://pandas.pydata.org/pandas-docs/stable/user_guide/indexing.html#returning-a-view-versus-a-copy\n",
            "  This is separate from the ipykernel package so we can avoid doing imports until\n",
            "/usr/local/lib/python3.7/dist-packages/pandas/core/indexing.py:670: SettingWithCopyWarning: \n",
            "A value is trying to be set on a copy of a slice from a DataFrame\n",
            "\n",
            "See the caveats in the documentation: https://pandas.pydata.org/pandas-docs/stable/user_guide/indexing.html#returning-a-view-versus-a-copy\n",
            "  iloc._setitem_with_indexer(indexer, value)\n"
          ],
          "name": "stderr"
        }
      ]
    },
    {
      "cell_type": "markdown",
      "metadata": {
        "id": "TqIh5wKMCb4L"
      },
      "source": [
        "### **7. Almost Lost customers**\n",
        "\n",
        "* It has just been less time since they purchased. These customers might warrant more aggressive discounts so that you can win them back before it’s too late.\n",
        "* It is much less expensive it is to keep customers compared to winning new ones"
      ]
    },
    {
      "cell_type": "code",
      "metadata": {
        "colab": {
          "base_uri": "https://localhost:8080/",
          "height": 232
        },
        "id": "nwGlrf9GCYQW",
        "outputId": "b6327b96-b6a5-4028-f8d0-d560fd4431ba"
      },
      "source": [
        "segmented_rfm[segmented_rfm['RFMScore']=='311'].sort_values('monetary_value', ascending=False).head()"
      ],
      "execution_count": 79,
      "outputs": [
        {
          "output_type": "execute_result",
          "data": {
            "text/html": [
              "<div>\n",
              "<style scoped>\n",
              "    .dataframe tbody tr th:only-of-type {\n",
              "        vertical-align: middle;\n",
              "    }\n",
              "\n",
              "    .dataframe tbody tr th {\n",
              "        vertical-align: top;\n",
              "    }\n",
              "\n",
              "    .dataframe thead th {\n",
              "        text-align: right;\n",
              "    }\n",
              "</style>\n",
              "<table border=\"1\" class=\"dataframe\">\n",
              "  <thead>\n",
              "    <tr style=\"text-align: right;\">\n",
              "      <th></th>\n",
              "      <th>recency</th>\n",
              "      <th>frequency</th>\n",
              "      <th>monetary_value</th>\n",
              "      <th>r_quartile</th>\n",
              "      <th>f_quartile</th>\n",
              "      <th>m_quartile</th>\n",
              "      <th>RFMScore</th>\n",
              "      <th>Segment_Type</th>\n",
              "    </tr>\n",
              "    <tr>\n",
              "      <th>CustomerID</th>\n",
              "      <th></th>\n",
              "      <th></th>\n",
              "      <th></th>\n",
              "      <th></th>\n",
              "      <th></th>\n",
              "      <th></th>\n",
              "      <th></th>\n",
              "      <th></th>\n",
              "    </tr>\n",
              "  </thead>\n",
              "  <tbody>\n",
              "    <tr>\n",
              "      <th>16180.0</th>\n",
              "      <td>100</td>\n",
              "      <td>162</td>\n",
              "      <td>10254.18</td>\n",
              "      <td>3</td>\n",
              "      <td>1</td>\n",
              "      <td>1</td>\n",
              "      <td>311</td>\n",
              "      <td>Big Spenders</td>\n",
              "    </tr>\n",
              "    <tr>\n",
              "      <th>14952.0</th>\n",
              "      <td>60</td>\n",
              "      <td>138</td>\n",
              "      <td>8099.49</td>\n",
              "      <td>3</td>\n",
              "      <td>1</td>\n",
              "      <td>1</td>\n",
              "      <td>311</td>\n",
              "      <td>Big Spenders</td>\n",
              "    </tr>\n",
              "    <tr>\n",
              "      <th>16745.0</th>\n",
              "      <td>87</td>\n",
              "      <td>355</td>\n",
              "      <td>7180.70</td>\n",
              "      <td>3</td>\n",
              "      <td>1</td>\n",
              "      <td>1</td>\n",
              "      <td>311</td>\n",
              "      <td>Big Spenders</td>\n",
              "    </tr>\n",
              "    <tr>\n",
              "      <th>16652.0</th>\n",
              "      <td>59</td>\n",
              "      <td>118</td>\n",
              "      <td>6773.97</td>\n",
              "      <td>3</td>\n",
              "      <td>1</td>\n",
              "      <td>1</td>\n",
              "      <td>311</td>\n",
              "      <td>Big Spenders</td>\n",
              "    </tr>\n",
              "    <tr>\n",
              "      <th>17509.0</th>\n",
              "      <td>58</td>\n",
              "      <td>364</td>\n",
              "      <td>6083.64</td>\n",
              "      <td>3</td>\n",
              "      <td>1</td>\n",
              "      <td>1</td>\n",
              "      <td>311</td>\n",
              "      <td>Big Spenders</td>\n",
              "    </tr>\n",
              "  </tbody>\n",
              "</table>\n",
              "</div>"
            ],
            "text/plain": [
              "            recency  frequency  ...  RFMScore  Segment_Type\n",
              "CustomerID                      ...                        \n",
              "16180.0         100        162  ...       311  Big Spenders\n",
              "14952.0          60        138  ...       311  Big Spenders\n",
              "16745.0          87        355  ...       311  Big Spenders\n",
              "16652.0          59        118  ...       311  Big Spenders\n",
              "17509.0          58        364  ...       311  Big Spenders\n",
              "\n",
              "[5 rows x 8 columns]"
            ]
          },
          "metadata": {},
          "execution_count": 79
        }
      ]
    },
    {
      "cell_type": "code",
      "metadata": {
        "colab": {
          "base_uri": "https://localhost:8080/"
        },
        "id": "w6RxvQf-C5X6",
        "outputId": "dd8c50af-ca45-4f6a-87c5-dfc0e1f774c3"
      },
      "source": [
        "a=segmented_rfm[(segmented_rfm['Segment_Type']=='Big Spenders') & (segmented_rfm['RFMScore']=='311')]['Segment_Type'].replace('Big Spenders','Almost Lost Customers')\n",
        "ind=a.index\n",
        "segmented_rfm['Segment_Type'][ind]='Almost Lost Customers'"
      ],
      "execution_count": 80,
      "outputs": [
        {
          "output_type": "stream",
          "text": [
            "/usr/local/lib/python3.7/dist-packages/ipykernel_launcher.py:3: SettingWithCopyWarning: \n",
            "A value is trying to be set on a copy of a slice from a DataFrame\n",
            "\n",
            "See the caveats in the documentation: https://pandas.pydata.org/pandas-docs/stable/user_guide/indexing.html#returning-a-view-versus-a-copy\n",
            "  This is separate from the ipykernel package so we can avoid doing imports until\n",
            "/usr/local/lib/python3.7/dist-packages/pandas/core/indexing.py:670: SettingWithCopyWarning: \n",
            "A value is trying to be set on a copy of a slice from a DataFrame\n",
            "\n",
            "See the caveats in the documentation: https://pandas.pydata.org/pandas-docs/stable/user_guide/indexing.html#returning-a-view-versus-a-copy\n",
            "  iloc._setitem_with_indexer(indexer, value)\n"
          ],
          "name": "stderr"
        }
      ]
    },
    {
      "cell_type": "markdown",
      "metadata": {
        "id": "C8E7C45aDBkc"
      },
      "source": [
        "### **8. Splurgers**\n",
        "* Splurgers combine a high Monetary Value with a low Frequency, which means they’ve spent a lot of money in just a few orders. Because they have the wealth and willingness to spend a lot with you, target high priced products with good margins at this group. \n",
        "\n",
        "* This group might also correspond with seasonal events or even just the typical buying cycle of your product’s wear."
      ]
    },
    {
      "cell_type": "code",
      "metadata": {
        "colab": {
          "base_uri": "https://localhost:8080/",
          "height": 232
        },
        "id": "GM3EwLPtC8Cx",
        "outputId": "5dfec71b-2838-401a-ae7c-82e545a1f442"
      },
      "source": [
        "segmented_rfm[segmented_rfm['RFMScore'].apply(lambda x: str(x)[-2:])=='41'].head()"
      ],
      "execution_count": 81,
      "outputs": [
        {
          "output_type": "execute_result",
          "data": {
            "text/html": [
              "<div>\n",
              "<style scoped>\n",
              "    .dataframe tbody tr th:only-of-type {\n",
              "        vertical-align: middle;\n",
              "    }\n",
              "\n",
              "    .dataframe tbody tr th {\n",
              "        vertical-align: top;\n",
              "    }\n",
              "\n",
              "    .dataframe thead th {\n",
              "        text-align: right;\n",
              "    }\n",
              "</style>\n",
              "<table border=\"1\" class=\"dataframe\">\n",
              "  <thead>\n",
              "    <tr style=\"text-align: right;\">\n",
              "      <th></th>\n",
              "      <th>recency</th>\n",
              "      <th>frequency</th>\n",
              "      <th>monetary_value</th>\n",
              "      <th>r_quartile</th>\n",
              "      <th>f_quartile</th>\n",
              "      <th>m_quartile</th>\n",
              "      <th>RFMScore</th>\n",
              "      <th>Segment_Type</th>\n",
              "    </tr>\n",
              "    <tr>\n",
              "      <th>CustomerID</th>\n",
              "      <th></th>\n",
              "      <th></th>\n",
              "      <th></th>\n",
              "      <th></th>\n",
              "      <th></th>\n",
              "      <th></th>\n",
              "      <th></th>\n",
              "      <th></th>\n",
              "    </tr>\n",
              "  </thead>\n",
              "  <tbody>\n",
              "    <tr>\n",
              "      <th>12346.0</th>\n",
              "      <td>326</td>\n",
              "      <td>1</td>\n",
              "      <td>77183.60</td>\n",
              "      <td>4</td>\n",
              "      <td>4</td>\n",
              "      <td>1</td>\n",
              "      <td>441</td>\n",
              "      <td>Big Spenders</td>\n",
              "    </tr>\n",
              "    <tr>\n",
              "      <th>12823.0</th>\n",
              "      <td>75</td>\n",
              "      <td>5</td>\n",
              "      <td>1759.50</td>\n",
              "      <td>3</td>\n",
              "      <td>4</td>\n",
              "      <td>1</td>\n",
              "      <td>341</td>\n",
              "      <td>Big Spenders</td>\n",
              "    </tr>\n",
              "    <tr>\n",
              "      <th>13135.0</th>\n",
              "      <td>197</td>\n",
              "      <td>1</td>\n",
              "      <td>3096.00</td>\n",
              "      <td>4</td>\n",
              "      <td>4</td>\n",
              "      <td>1</td>\n",
              "      <td>441</td>\n",
              "      <td>Big Spenders</td>\n",
              "    </tr>\n",
              "    <tr>\n",
              "      <th>13631.0</th>\n",
              "      <td>100</td>\n",
              "      <td>11</td>\n",
              "      <td>3070.42</td>\n",
              "      <td>3</td>\n",
              "      <td>4</td>\n",
              "      <td>1</td>\n",
              "      <td>341</td>\n",
              "      <td>Big Spenders</td>\n",
              "    </tr>\n",
              "    <tr>\n",
              "      <th>13763.0</th>\n",
              "      <td>63</td>\n",
              "      <td>15</td>\n",
              "      <td>1714.96</td>\n",
              "      <td>3</td>\n",
              "      <td>4</td>\n",
              "      <td>1</td>\n",
              "      <td>341</td>\n",
              "      <td>Big Spenders</td>\n",
              "    </tr>\n",
              "  </tbody>\n",
              "</table>\n",
              "</div>"
            ],
            "text/plain": [
              "            recency  frequency  ...  RFMScore  Segment_Type\n",
              "CustomerID                      ...                        \n",
              "12346.0         326          1  ...       441  Big Spenders\n",
              "12823.0          75          5  ...       341  Big Spenders\n",
              "13135.0         197          1  ...       441  Big Spenders\n",
              "13631.0         100         11  ...       341  Big Spenders\n",
              "13763.0          63         15  ...       341  Big Spenders\n",
              "\n",
              "[5 rows x 8 columns]"
            ]
          },
          "metadata": {},
          "execution_count": 81
        }
      ]
    },
    {
      "cell_type": "code",
      "metadata": {
        "colab": {
          "base_uri": "https://localhost:8080/"
        },
        "id": "8qISp9bcDFxl",
        "outputId": "e4af7900-d495-4d6c-a627-26ed43eb1bf8"
      },
      "source": [
        "a=segmented_rfm[(segmented_rfm['Segment_Type']=='Big Spenders') & (segmented_rfm['RFMScore'].apply(lambda x: str(x)[-2:])=='41')]['Segment_Type'].replace('Big Spenders','Splurgers')\n",
        "ind=a.index\n",
        "segmented_rfm['Segment_Type'][ind]='Splurgers'"
      ],
      "execution_count": 82,
      "outputs": [
        {
          "output_type": "stream",
          "text": [
            "/usr/local/lib/python3.7/dist-packages/ipykernel_launcher.py:3: SettingWithCopyWarning: \n",
            "A value is trying to be set on a copy of a slice from a DataFrame\n",
            "\n",
            "See the caveats in the documentation: https://pandas.pydata.org/pandas-docs/stable/user_guide/indexing.html#returning-a-view-versus-a-copy\n",
            "  This is separate from the ipykernel package so we can avoid doing imports until\n",
            "/usr/local/lib/python3.7/dist-packages/pandas/core/indexing.py:670: SettingWithCopyWarning: \n",
            "A value is trying to be set on a copy of a slice from a DataFrame\n",
            "\n",
            "See the caveats in the documentation: https://pandas.pydata.org/pandas-docs/stable/user_guide/indexing.html#returning-a-view-versus-a-copy\n",
            "  iloc._setitem_with_indexer(indexer, value)\n"
          ],
          "name": "stderr"
        }
      ]
    },
    {
      "cell_type": "markdown",
      "metadata": {
        "id": "KtwCq-L4FcAy"
      },
      "source": [
        "### **9. Deadbeats**\n",
        "\n",
        "*   These customers spent very little, bought very few times, and\n",
        "last ordered quite a while ago. They are unlikely to be worth\n",
        "much time, so put them in your general house list and\n",
        "consider a re-opt-in campaign.\n",
        "\n"
      ]
    },
    {
      "cell_type": "code",
      "metadata": {
        "colab": {
          "base_uri": "https://localhost:8080/",
          "height": 232
        },
        "id": "IhK9DcsFDIWh",
        "outputId": "bea74a61-8725-4e50-e41e-a69142477b5f"
      },
      "source": [
        "segmented_rfm[segmented_rfm['RFMScore']=='444'].sort_values('monetary_value', ascending=False).head()"
      ],
      "execution_count": 83,
      "outputs": [
        {
          "output_type": "execute_result",
          "data": {
            "text/html": [
              "<div>\n",
              "<style scoped>\n",
              "    .dataframe tbody tr th:only-of-type {\n",
              "        vertical-align: middle;\n",
              "    }\n",
              "\n",
              "    .dataframe tbody tr th {\n",
              "        vertical-align: top;\n",
              "    }\n",
              "\n",
              "    .dataframe thead th {\n",
              "        text-align: right;\n",
              "    }\n",
              "</style>\n",
              "<table border=\"1\" class=\"dataframe\">\n",
              "  <thead>\n",
              "    <tr style=\"text-align: right;\">\n",
              "      <th></th>\n",
              "      <th>recency</th>\n",
              "      <th>frequency</th>\n",
              "      <th>monetary_value</th>\n",
              "      <th>r_quartile</th>\n",
              "      <th>f_quartile</th>\n",
              "      <th>m_quartile</th>\n",
              "      <th>RFMScore</th>\n",
              "      <th>Segment_Type</th>\n",
              "    </tr>\n",
              "    <tr>\n",
              "      <th>CustomerID</th>\n",
              "      <th></th>\n",
              "      <th></th>\n",
              "      <th></th>\n",
              "      <th></th>\n",
              "      <th></th>\n",
              "      <th></th>\n",
              "      <th></th>\n",
              "      <th></th>\n",
              "    </tr>\n",
              "  </thead>\n",
              "  <tbody>\n",
              "    <tr>\n",
              "      <th>17678.0</th>\n",
              "      <td>264</td>\n",
              "      <td>16</td>\n",
              "      <td>298.11</td>\n",
              "      <td>4</td>\n",
              "      <td>4</td>\n",
              "      <td>4</td>\n",
              "      <td>444</td>\n",
              "      <td>NA</td>\n",
              "    </tr>\n",
              "    <tr>\n",
              "      <th>12881.0</th>\n",
              "      <td>276</td>\n",
              "      <td>7</td>\n",
              "      <td>298.00</td>\n",
              "      <td>4</td>\n",
              "      <td>4</td>\n",
              "      <td>4</td>\n",
              "      <td>444</td>\n",
              "      <td>NA</td>\n",
              "    </tr>\n",
              "    <tr>\n",
              "      <th>17531.0</th>\n",
              "      <td>190</td>\n",
              "      <td>14</td>\n",
              "      <td>296.70</td>\n",
              "      <td>4</td>\n",
              "      <td>4</td>\n",
              "      <td>4</td>\n",
              "      <td>444</td>\n",
              "      <td>NA</td>\n",
              "    </tr>\n",
              "    <tr>\n",
              "      <th>13751.0</th>\n",
              "      <td>288</td>\n",
              "      <td>9</td>\n",
              "      <td>296.25</td>\n",
              "      <td>4</td>\n",
              "      <td>4</td>\n",
              "      <td>4</td>\n",
              "      <td>444</td>\n",
              "      <td>NA</td>\n",
              "    </tr>\n",
              "    <tr>\n",
              "      <th>16998.0</th>\n",
              "      <td>150</td>\n",
              "      <td>4</td>\n",
              "      <td>295.00</td>\n",
              "      <td>4</td>\n",
              "      <td>4</td>\n",
              "      <td>4</td>\n",
              "      <td>444</td>\n",
              "      <td>NA</td>\n",
              "    </tr>\n",
              "  </tbody>\n",
              "</table>\n",
              "</div>"
            ],
            "text/plain": [
              "            recency  frequency  ...  RFMScore  Segment_Type\n",
              "CustomerID                      ...                        \n",
              "17678.0         264         16  ...       444            NA\n",
              "12881.0         276          7  ...       444            NA\n",
              "17531.0         190         14  ...       444            NA\n",
              "13751.0         288          9  ...       444            NA\n",
              "16998.0         150          4  ...       444            NA\n",
              "\n",
              "[5 rows x 8 columns]"
            ]
          },
          "metadata": {},
          "execution_count": 83
        }
      ]
    },
    {
      "cell_type": "code",
      "metadata": {
        "colab": {
          "base_uri": "https://localhost:8080/"
        },
        "id": "gMfMjomdFltG",
        "outputId": "7e7f73a4-4ec0-4e5e-807d-a4b6fca744ad"
      },
      "source": [
        "a=segmented_rfm[(segmented_rfm['Segment_Type']=='NA') & (segmented_rfm['RFMScore']=='444')]['Segment_Type'].replace('NA','Deadbeats')\n",
        "ind=a.index\n",
        "segmented_rfm['Segment_Type'][ind]='Deadbeats'"
      ],
      "execution_count": 84,
      "outputs": [
        {
          "output_type": "stream",
          "text": [
            "/usr/local/lib/python3.7/dist-packages/ipykernel_launcher.py:3: SettingWithCopyWarning: \n",
            "A value is trying to be set on a copy of a slice from a DataFrame\n",
            "\n",
            "See the caveats in the documentation: https://pandas.pydata.org/pandas-docs/stable/user_guide/indexing.html#returning-a-view-versus-a-copy\n",
            "  This is separate from the ipykernel package so we can avoid doing imports until\n",
            "/usr/local/lib/python3.7/dist-packages/pandas/core/indexing.py:670: SettingWithCopyWarning: \n",
            "A value is trying to be set on a copy of a slice from a DataFrame\n",
            "\n",
            "See the caveats in the documentation: https://pandas.pydata.org/pandas-docs/stable/user_guide/indexing.html#returning-a-view-versus-a-copy\n",
            "  iloc._setitem_with_indexer(indexer, value)\n"
          ],
          "name": "stderr"
        }
      ]
    },
    {
      "cell_type": "markdown",
      "metadata": {
        "id": "-oT0RHYSFsfr"
      },
      "source": [
        "### **Treemap for different RFM segments**"
      ]
    },
    {
      "cell_type": "code",
      "metadata": {
        "colab": {
          "base_uri": "https://localhost:8080/",
          "height": 887
        },
        "id": "FuO86JQfFoCB",
        "outputId": "b1baf5b9-f70a-49b1-97e2-670a25824ef9"
      },
      "source": [
        "segmented_rfm['Segment_Type']=segmented_rfm['Segment_Type'].str.replace('NA','Other')\n",
        "\n",
        "fig = plt.figure(figsize = (10,30))\n",
        "regions = segmented_rfm.Segment_Type.value_counts().to_frame()\n",
        "regions['count_val']=regions.values\n",
        "regions['percent']=regions['count_val']/(regions.values.sum())*100\n",
        "ax = fig.add_subplot(111, aspect = \"equal\")\n",
        "ax = squarify.plot(sizes = regions[\"Segment_Type\"].values, label = (regions.index+'-'+regions.count_val.astype(str)+'\\n'+regions.percent.round(3).astype(str))+'%',\n",
        "              color = sns.color_palette(\"pastel\", 20), alpha = 0.8)\n",
        "ax.set_xticks([])\n",
        "ax.set_yticks([])\n",
        "fig = plt.gcf()\n",
        "fig.set_size_inches(15, 30)\n",
        "plt.title(\"Treemap of Main Category\", fontsize = 18)\n",
        "plt.show()"
      ],
      "execution_count": 85,
      "outputs": [
        {
          "output_type": "display_data",
          "data": {
            "image/png": "[encoded data removed]",
            "text/plain": [
              "<Figure size 1080x2160 with 1 Axes>"
            ]
          },
          "metadata": {}
        }
      ]
    },
    {
      "cell_type": "markdown",
      "metadata": {
        "id": "ZKOLdWunGoMR"
      },
      "source": [
        "## **Building Prediction models for customer segmentation using Kmeans Clustering**"
      ]
    },
    {
      "cell_type": "markdown",
      "metadata": {
        "id": "fCQql_3GGsn2"
      },
      "source": [
        "### **Data preparation**"
      ]
    },
    {
      "cell_type": "code",
      "metadata": {
        "colab": {
          "base_uri": "https://localhost:8080/",
          "height": 110
        },
        "id": "f8BeHhqvFw7-",
        "outputId": "f1e708b9-8a0b-4577-8c41-1740d1f96402"
      },
      "source": [
        "# Let's remove customer with zero monetary value\n",
        "rfmTable[rfmTable.monetary_value == 0]"
      ],
      "execution_count": 86,
      "outputs": [
        {
          "output_type": "execute_result",
          "data": {
            "text/html": [
              "<div>\n",
              "<style scoped>\n",
              "    .dataframe tbody tr th:only-of-type {\n",
              "        vertical-align: middle;\n",
              "    }\n",
              "\n",
              "    .dataframe tbody tr th {\n",
              "        vertical-align: top;\n",
              "    }\n",
              "\n",
              "    .dataframe thead th {\n",
              "        text-align: right;\n",
              "    }\n",
              "</style>\n",
              "<table border=\"1\" class=\"dataframe\">\n",
              "  <thead>\n",
              "    <tr style=\"text-align: right;\">\n",
              "      <th></th>\n",
              "      <th>recency</th>\n",
              "      <th>frequency</th>\n",
              "      <th>monetary_value</th>\n",
              "      <th>r_quartile</th>\n",
              "      <th>f_quartile</th>\n",
              "      <th>m_quartile</th>\n",
              "      <th>RFMScore</th>\n",
              "      <th>Segment_Type</th>\n",
              "    </tr>\n",
              "    <tr>\n",
              "      <th>CustomerID</th>\n",
              "      <th></th>\n",
              "      <th></th>\n",
              "      <th></th>\n",
              "      <th></th>\n",
              "      <th></th>\n",
              "      <th></th>\n",
              "      <th></th>\n",
              "      <th></th>\n",
              "    </tr>\n",
              "  </thead>\n",
              "  <tbody>\n",
              "    <tr>\n",
              "      <th>13256.0</th>\n",
              "      <td>14</td>\n",
              "      <td>1</td>\n",
              "      <td>0.0</td>\n",
              "      <td>1</td>\n",
              "      <td>4</td>\n",
              "      <td>4</td>\n",
              "      <td>144</td>\n",
              "      <td>Other</td>\n",
              "    </tr>\n",
              "  </tbody>\n",
              "</table>\n",
              "</div>"
            ],
            "text/plain": [
              "            recency  frequency  ...  RFMScore  Segment_Type\n",
              "CustomerID                      ...                        \n",
              "13256.0          14          1  ...       144         Other\n",
              "\n",
              "[1 rows x 8 columns]"
            ]
          },
          "metadata": {},
          "execution_count": 86
        }
      ]
    },
    {
      "cell_type": "code",
      "metadata": {
        "id": "KTm-vuP9Gv5g"
      },
      "source": [
        "rfmTable = rfmTable.drop(rfmTable.index[314])"
      ],
      "execution_count": 87,
      "outputs": []
    },
    {
      "cell_type": "markdown",
      "metadata": {
        "id": "en7t0p09G247"
      },
      "source": [
        "### **Let's explore the distribution of recency, frequency and monetary value**"
      ]
    },
    {
      "cell_type": "code",
      "metadata": {
        "colab": {
          "base_uri": "https://localhost:8080/",
          "height": 337
        },
        "id": "W-c0lbPlGyfq",
        "outputId": "1a58d647-dd8e-439c-b7cc-b6a06a6cb60d"
      },
      "source": [
        "sns.distplot(rfmTable['recency'])\n",
        "plt.show()"
      ],
      "execution_count": 88,
      "outputs": [
        {
          "output_type": "stream",
          "text": [
            "/usr/local/lib/python3.7/dist-packages/seaborn/distributions.py:2557: FutureWarning: `distplot` is a deprecated function and will be removed in a future version. Please adapt your code to use either `displot` (a figure-level function with similar flexibility) or `histplot` (an axes-level function for histograms).\n",
            "  warnings.warn(msg, FutureWarning)\n"
          ],
          "name": "stderr"
        },
        {
          "output_type": "display_data",
          "data": {
            "image/png": "[encoded data removed]",
            "text/plain": [
              "<Figure size 432x288 with 1 Axes>"
            ]
          },
          "metadata": {}
        }
      ]
    },
    {
      "cell_type": "code",
      "metadata": {
        "colab": {
          "base_uri": "https://localhost:8080/",
          "height": 337
        },
        "id": "TBlcbuIkG67h",
        "outputId": "a4e37b66-5f11-4e9b-c8f0-189fa43ab069"
      },
      "source": [
        "sns.distplot(rfmTable['frequency'])\n",
        "plt.show()"
      ],
      "execution_count": 89,
      "outputs": [
        {
          "output_type": "stream",
          "text": [
            "/usr/local/lib/python3.7/dist-packages/seaborn/distributions.py:2557: FutureWarning: `distplot` is a deprecated function and will be removed in a future version. Please adapt your code to use either `displot` (a figure-level function with similar flexibility) or `histplot` (an axes-level function for histograms).\n",
            "  warnings.warn(msg, FutureWarning)\n"
          ],
          "name": "stderr"
        },
        {
          "output_type": "display_data",
          "data": {
            "image/png": "[encoded data removed]",
            "text/plain": [
              "<Figure size 432x288 with 1 Axes>"
            ]
          },
          "metadata": {}
        }
      ]
    },
    {
      "cell_type": "code",
      "metadata": {
        "colab": {
          "base_uri": "https://localhost:8080/",
          "height": 337
        },
        "id": "jlueoB4tG9k6",
        "outputId": "fa5e82a0-cce6-48cf-bf3f-9743c1b48994"
      },
      "source": [
        "sns.distplot(rfmTable['monetary_value'])\n",
        "plt.show()"
      ],
      "execution_count": 90,
      "outputs": [
        {
          "output_type": "stream",
          "text": [
            "/usr/local/lib/python3.7/dist-packages/seaborn/distributions.py:2557: FutureWarning: `distplot` is a deprecated function and will be removed in a future version. Please adapt your code to use either `displot` (a figure-level function with similar flexibility) or `histplot` (an axes-level function for histograms).\n",
            "  warnings.warn(msg, FutureWarning)\n"
          ],
          "name": "stderr"
        },
        {
          "output_type": "display_data",
          "data": {
            "image/png": "[encoded data removed]",
            "text/plain": [
              "<Figure size 432x288 with 1 Axes>"
            ]
          },
          "metadata": {}
        }
      ]
    },
    {
      "cell_type": "markdown",
      "metadata": {
        "id": "kVDNvtoZHYPb"
      },
      "source": [
        "**All distributions are highly right skewed. We have make these distriabutions normal in order to create meaningful clusters**"
      ]
    },
    {
      "cell_type": "code",
      "metadata": {
        "id": "DgyY688oHLFI"
      },
      "source": [
        "#Perform log transformation\n",
        "\n",
        "rfmTable_log = np.log(rfmTable[['recency','frequency','monetary_value']]+1)"
      ],
      "execution_count": 91,
      "outputs": []
    },
    {
      "cell_type": "code",
      "metadata": {
        "colab": {
          "base_uri": "https://localhost:8080/",
          "height": 232
        },
        "id": "zyocjBSDHe4n",
        "outputId": "45e7c80f-e461-4578-a193-c957a9379beb"
      },
      "source": [
        "rfmTable_log.head()"
      ],
      "execution_count": 92,
      "outputs": [
        {
          "output_type": "execute_result",
          "data": {
            "text/html": [
              "<div>\n",
              "<style scoped>\n",
              "    .dataframe tbody tr th:only-of-type {\n",
              "        vertical-align: middle;\n",
              "    }\n",
              "\n",
              "    .dataframe tbody tr th {\n",
              "        vertical-align: top;\n",
              "    }\n",
              "\n",
              "    .dataframe thead th {\n",
              "        text-align: right;\n",
              "    }\n",
              "</style>\n",
              "<table border=\"1\" class=\"dataframe\">\n",
              "  <thead>\n",
              "    <tr style=\"text-align: right;\">\n",
              "      <th></th>\n",
              "      <th>recency</th>\n",
              "      <th>frequency</th>\n",
              "      <th>monetary_value</th>\n",
              "    </tr>\n",
              "    <tr>\n",
              "      <th>CustomerID</th>\n",
              "      <th></th>\n",
              "      <th></th>\n",
              "      <th></th>\n",
              "    </tr>\n",
              "  </thead>\n",
              "  <tbody>\n",
              "    <tr>\n",
              "      <th>12346.0</th>\n",
              "      <td>5.789960</td>\n",
              "      <td>0.693147</td>\n",
              "      <td>11.253955</td>\n",
              "    </tr>\n",
              "    <tr>\n",
              "      <th>12747.0</th>\n",
              "      <td>1.098612</td>\n",
              "      <td>4.644391</td>\n",
              "      <td>8.342128</td>\n",
              "    </tr>\n",
              "    <tr>\n",
              "      <th>12748.0</th>\n",
              "      <td>0.693147</td>\n",
              "      <td>8.392537</td>\n",
              "      <td>10.405904</td>\n",
              "    </tr>\n",
              "    <tr>\n",
              "      <th>12749.0</th>\n",
              "      <td>1.609438</td>\n",
              "      <td>5.298317</td>\n",
              "      <td>8.316760</td>\n",
              "    </tr>\n",
              "    <tr>\n",
              "      <th>12820.0</th>\n",
              "      <td>1.386294</td>\n",
              "      <td>4.094345</td>\n",
              "      <td>6.849427</td>\n",
              "    </tr>\n",
              "  </tbody>\n",
              "</table>\n",
              "</div>"
            ],
            "text/plain": [
              "             recency  frequency  monetary_value\n",
              "CustomerID                                     \n",
              "12346.0     5.789960   0.693147       11.253955\n",
              "12747.0     1.098612   4.644391        8.342128\n",
              "12748.0     0.693147   8.392537       10.405904\n",
              "12749.0     1.609438   5.298317        8.316760\n",
              "12820.0     1.386294   4.094345        6.849427"
            ]
          },
          "metadata": {},
          "execution_count": 92
        }
      ]
    },
    {
      "cell_type": "code",
      "metadata": {
        "id": "k5TMRuiPHhF8"
      },
      "source": [
        "# Standardize the recency, frequency, monetary values\n",
        "\n",
        "from sklearn.preprocessing import StandardScaler\n",
        "scaler = StandardScaler()\n",
        "scaler.fit(rfmTable_log)\n",
        "\n",
        "# Scale and center the data\n",
        "rfmTable_log_normalized = scaler.transform(rfmTable_log)\n",
        "\n",
        "# Create a pandas DataFrame\n",
        "rfmTable_log_normalized = pd.DataFrame(data=rfmTable_log_normalized, index=rfmTable_log.index, columns=rfmTable_log.columns)"
      ],
      "execution_count": 93,
      "outputs": []
    },
    {
      "cell_type": "code",
      "metadata": {
        "colab": {
          "base_uri": "https://localhost:8080/",
          "height": 426
        },
        "id": "UAepiXqSHsnW",
        "outputId": "fde5af7c-f7ad-433b-e940-9d137c5dbc0e"
      },
      "source": [
        "# Plot distributions after log normalization\n",
        "plt.subplot(3,1,1)\n",
        "sns.distplot(rfmTable_log_normalized['recency'])\n",
        "plt.subplot(3,1,2)\n",
        "sns.distplot(rfmTable_log_normalized['frequency'])\n",
        "plt.subplot(3,1,3)\n",
        "sns.distplot(rfmTable_log_normalized['monetary_value'])"
      ],
      "execution_count": 94,
      "outputs": [
        {
          "output_type": "stream",
          "text": [
            "/usr/local/lib/python3.7/dist-packages/seaborn/distributions.py:2557: FutureWarning: `distplot` is a deprecated function and will be removed in a future version. Please adapt your code to use either `displot` (a figure-level function with similar flexibility) or `histplot` (an axes-level function for histograms).\n",
            "  warnings.warn(msg, FutureWarning)\n",
            "/usr/local/lib/python3.7/dist-packages/seaborn/distributions.py:2557: FutureWarning: `distplot` is a deprecated function and will be removed in a future version. Please adapt your code to use either `displot` (a figure-level function with similar flexibility) or `histplot` (an axes-level function for histograms).\n",
            "  warnings.warn(msg, FutureWarning)\n",
            "/usr/local/lib/python3.7/dist-packages/seaborn/distributions.py:2557: FutureWarning: `distplot` is a deprecated function and will be removed in a future version. Please adapt your code to use either `displot` (a figure-level function with similar flexibility) or `histplot` (an axes-level function for histograms).\n",
            "  warnings.warn(msg, FutureWarning)\n"
          ],
          "name": "stderr"
        },
        {
          "output_type": "execute_result",
          "data": {
            "text/plain": [
              "<matplotlib.axes._subplots.AxesSubplot at 0x7f7909b4e250>"
            ]
          },
          "metadata": {},
          "execution_count": 94
        },
        {
          "output_type": "display_data",
          "data": {
            "image/png": "[encoded data removed]",
            "text/plain": [
              "<Figure size 432x288 with 3 Axes>"
            ]
          },
          "metadata": {}
        }
      ]
    },
    {
      "cell_type": "markdown",
      "metadata": {
        "id": "lZIxXJ3EH1Q_"
      },
      "source": [
        "**Once log transformation and standardization are performed all three distributions become symmetric.**"
      ]
    },
    {
      "cell_type": "markdown",
      "metadata": {
        "id": "Fc9pf7rNH5Ch"
      },
      "source": [
        "### **Model Building**"
      ]
    },
    {
      "cell_type": "markdown",
      "metadata": {
        "id": "NWl3xld2H_Pg"
      },
      "source": [
        "### **Step 1: Perform Elbow method to find optimum number of clusters**"
      ]
    },
    {
      "cell_type": "code",
      "metadata": {
        "id": "tDYvoFmnHxvg"
      },
      "source": [
        "sse={}\n",
        "# Fit KMeans and calculate SSE for each k\n",
        "for k in range(1, 21):\n",
        "  \n",
        "    # Initialize KMeans with k clusters\n",
        "    kmeans = KMeans(n_clusters=k, random_state=1)\n",
        "    \n",
        "    # Fit KMeans on the normalized dataset\n",
        "    kmeans.fit(rfmTable_log_normalized)\n",
        "    \n",
        "    # Assign sum of squared distances to k element of dictionary\n",
        "    sse[k] = kmeans.inertia_"
      ],
      "execution_count": 95,
      "outputs": []
    },
    {
      "cell_type": "code",
      "metadata": {
        "colab": {
          "base_uri": "https://localhost:8080/",
          "height": 425
        },
        "id": "E0dFFUhSIGPM",
        "outputId": "594f82f1-62cf-4cc9-b813-253fb0f81bd1"
      },
      "source": [
        "plt.figure(figsize=(10,6))\n",
        "\n",
        "# Add the plot title \"The Elbow Method\"\n",
        "plt.title('The Elbow Method')\n",
        "\n",
        "# Add X-axis label \"k\"\n",
        "plt.xlabel('k')\n",
        "\n",
        "# Add Y-axis label \"SSE\"\n",
        "plt.ylabel('SSE')\n",
        "\n",
        "# Plot SSE values for each key in the dictionary\n",
        "sns.pointplot(x=list(sse.keys()), y=list(sse.values()))"
      ],
      "execution_count": 96,
      "outputs": [
        {
          "output_type": "execute_result",
          "data": {
            "text/plain": [
              "<matplotlib.axes._subplots.AxesSubplot at 0x7f790968ad10>"
            ]
          },
          "metadata": {},
          "execution_count": 96
        },
        {
          "output_type": "display_data",
          "data": {
            "image/png": "[encoded data removed]",
            "text/plain": [
              "<Figure size 720x432 with 1 Axes>"
            ]
          },
          "metadata": {}
        }
      ]
    },
    {
      "cell_type": "markdown",
      "metadata": {
        "id": "JzztG-GEIx1c"
      },
      "source": [
        "**The optimium number of clusters seems to be 4.**"
      ]
    },
    {
      "cell_type": "markdown",
      "metadata": {
        "id": "_UBpUKCNI3zA"
      },
      "source": [
        "### **Step 2: Perform kmeans clustering**"
      ]
    },
    {
      "cell_type": "code",
      "metadata": {
        "id": "nHnKw1v7IVXX"
      },
      "source": [
        "# Initialize KMeans\n",
        "kmeans = KMeans(n_clusters=4,init='k-means++', max_iter=300, n_init=10, random_state=1) \n",
        "\n",
        "# Fit k-means clustering on the normalized data set\n",
        "kmeans.fit(rfmTable_log_normalized)\n",
        "\n",
        "# Extract cluster labels\n",
        "cluster_labels = kmeans.labels_"
      ],
      "execution_count": 97,
      "outputs": []
    },
    {
      "cell_type": "markdown",
      "metadata": {
        "id": "vWM1w3zxJEa_"
      },
      "source": [
        "### **Step 3: Let's explore cluster properties**"
      ]
    },
    {
      "cell_type": "code",
      "metadata": {
        "colab": {
          "base_uri": "https://localhost:8080/",
          "height": 232
        },
        "id": "8rU304xJI_qD",
        "outputId": "118f889b-176c-492e-daf9-1c737c242297"
      },
      "source": [
        "#Create a DataFrame by adding a new cluster label column\n",
        "rfm_k4 = rfmTable.assign(Cluster=cluster_labels)\n",
        "\n",
        "# Group the data by cluster\n",
        "grouped = rfm_k4.groupby(['Cluster'])\n",
        "\n",
        "# Calculate average RFM values and segment sizes per cluster value\n",
        "grouped.agg({\n",
        "    'recency': 'mean',\n",
        "    'frequency': 'mean',\n",
        "    'monetary_value': ['mean', 'count']\n",
        "  }).round(1)"
      ],
      "execution_count": 98,
      "outputs": [
        {
          "output_type": "execute_result",
          "data": {
            "text/html": [
              "<div>\n",
              "<style scoped>\n",
              "    .dataframe tbody tr th:only-of-type {\n",
              "        vertical-align: middle;\n",
              "    }\n",
              "\n",
              "    .dataframe tbody tr th {\n",
              "        vertical-align: top;\n",
              "    }\n",
              "\n",
              "    .dataframe thead tr th {\n",
              "        text-align: left;\n",
              "    }\n",
              "\n",
              "    .dataframe thead tr:last-of-type th {\n",
              "        text-align: right;\n",
              "    }\n",
              "</style>\n",
              "<table border=\"1\" class=\"dataframe\">\n",
              "  <thead>\n",
              "    <tr>\n",
              "      <th></th>\n",
              "      <th>recency</th>\n",
              "      <th>frequency</th>\n",
              "      <th colspan=\"2\" halign=\"left\">monetary_value</th>\n",
              "    </tr>\n",
              "    <tr>\n",
              "      <th></th>\n",
              "      <th>mean</th>\n",
              "      <th>mean</th>\n",
              "      <th>mean</th>\n",
              "      <th>count</th>\n",
              "    </tr>\n",
              "    <tr>\n",
              "      <th>Cluster</th>\n",
              "      <th></th>\n",
              "      <th></th>\n",
              "      <th></th>\n",
              "      <th></th>\n",
              "    </tr>\n",
              "  </thead>\n",
              "  <tbody>\n",
              "    <tr>\n",
              "      <th>0</th>\n",
              "      <td>186.1</td>\n",
              "      <td>15.0</td>\n",
              "      <td>290.7</td>\n",
              "      <td>1254</td>\n",
              "    </tr>\n",
              "    <tr>\n",
              "      <th>1</th>\n",
              "      <td>12.2</td>\n",
              "      <td>276.2</td>\n",
              "      <td>6300.8</td>\n",
              "      <td>767</td>\n",
              "    </tr>\n",
              "    <tr>\n",
              "      <th>2</th>\n",
              "      <td>20.7</td>\n",
              "      <td>36.6</td>\n",
              "      <td>564.8</td>\n",
              "      <td>788</td>\n",
              "    </tr>\n",
              "    <tr>\n",
              "      <th>3</th>\n",
              "      <td>92.2</td>\n",
              "      <td>80.8</td>\n",
              "      <td>1478.6</td>\n",
              "      <td>1111</td>\n",
              "    </tr>\n",
              "  </tbody>\n",
              "</table>\n",
              "</div>"
            ],
            "text/plain": [
              "        recency frequency monetary_value      \n",
              "           mean      mean           mean count\n",
              "Cluster                                       \n",
              "0         186.1      15.0          290.7  1254\n",
              "1          12.2     276.2         6300.8   767\n",
              "2          20.7      36.6          564.8   788\n",
              "3          92.2      80.8         1478.6  1111"
            ]
          },
          "metadata": {},
          "execution_count": 98
        }
      ]
    },
    {
      "cell_type": "markdown",
      "metadata": {
        "id": "XERWWbSUKFql"
      },
      "source": [
        "### **Step 4: Which cluster do we have to focus on to improve revenue?**"
      ]
    },
    {
      "cell_type": "code",
      "metadata": {
        "id": "oxQy0StAJTN4"
      },
      "source": [
        "# Melt the normalized dataset and reset the index\n",
        "rfm_melt = pd.melt(rfm_k4.reset_index(), \n",
        "                        \n",
        "# Assign CustomerID and Cluster as ID variables                  \n",
        "                    id_vars=['CustomerID', 'Cluster'],\n",
        "\n",
        "# Assign RFM values as value variables\n",
        "                    value_vars=['recency', 'frequency', 'monetary_value'], \n",
        "                        \n",
        "# Name the variable and value\n",
        "                    var_name='Metric', value_name='Value')"
      ],
      "execution_count": 99,
      "outputs": []
    },
    {
      "cell_type": "code",
      "metadata": {
        "colab": {
          "base_uri": "https://localhost:8080/",
          "height": 202
        },
        "id": "7z-RPJhTKpnt",
        "outputId": "9b82ec4c-5491-4fcd-a6cb-1b56c46117ba"
      },
      "source": [
        "rfm_melt.head()"
      ],
      "execution_count": 100,
      "outputs": [
        {
          "output_type": "execute_result",
          "data": {
            "text/html": [
              "<div>\n",
              "<style scoped>\n",
              "    .dataframe tbody tr th:only-of-type {\n",
              "        vertical-align: middle;\n",
              "    }\n",
              "\n",
              "    .dataframe tbody tr th {\n",
              "        vertical-align: top;\n",
              "    }\n",
              "\n",
              "    .dataframe thead th {\n",
              "        text-align: right;\n",
              "    }\n",
              "</style>\n",
              "<table border=\"1\" class=\"dataframe\">\n",
              "  <thead>\n",
              "    <tr style=\"text-align: right;\">\n",
              "      <th></th>\n",
              "      <th>CustomerID</th>\n",
              "      <th>Cluster</th>\n",
              "      <th>Metric</th>\n",
              "      <th>Value</th>\n",
              "    </tr>\n",
              "  </thead>\n",
              "  <tbody>\n",
              "    <tr>\n",
              "      <th>0</th>\n",
              "      <td>12346.0</td>\n",
              "      <td>3</td>\n",
              "      <td>recency</td>\n",
              "      <td>326.0</td>\n",
              "    </tr>\n",
              "    <tr>\n",
              "      <th>1</th>\n",
              "      <td>12747.0</td>\n",
              "      <td>1</td>\n",
              "      <td>recency</td>\n",
              "      <td>2.0</td>\n",
              "    </tr>\n",
              "    <tr>\n",
              "      <th>2</th>\n",
              "      <td>12748.0</td>\n",
              "      <td>1</td>\n",
              "      <td>recency</td>\n",
              "      <td>1.0</td>\n",
              "    </tr>\n",
              "    <tr>\n",
              "      <th>3</th>\n",
              "      <td>12749.0</td>\n",
              "      <td>1</td>\n",
              "      <td>recency</td>\n",
              "      <td>4.0</td>\n",
              "    </tr>\n",
              "    <tr>\n",
              "      <th>4</th>\n",
              "      <td>12820.0</td>\n",
              "      <td>2</td>\n",
              "      <td>recency</td>\n",
              "      <td>3.0</td>\n",
              "    </tr>\n",
              "  </tbody>\n",
              "</table>\n",
              "</div>"
            ],
            "text/plain": [
              "   CustomerID  Cluster   Metric  Value\n",
              "0     12346.0        3  recency  326.0\n",
              "1     12747.0        1  recency    2.0\n",
              "2     12748.0        1  recency    1.0\n",
              "3     12749.0        1  recency    4.0\n",
              "4     12820.0        2  recency    3.0"
            ]
          },
          "metadata": {},
          "execution_count": 100
        }
      ]
    },
    {
      "cell_type": "code",
      "metadata": {
        "colab": {
          "base_uri": "https://localhost:8080/",
          "height": 426
        },
        "id": "6SBN5lNDKue5",
        "outputId": "23b33f15-9039-4ea8-8c1e-98ef973988b3"
      },
      "source": [
        "plt.figure(figsize=(10,6))\n",
        "\n",
        "# Add the plot title\n",
        "plt.title('Snake plot of normalized variables')\n",
        "\n",
        "# Add the x axis label\n",
        "plt.xlabel('Metric')\n",
        "\n",
        "# Add the y axis label\n",
        "plt.ylabel('Value')\n",
        "\n",
        "# Plot a line for each value of the cluster variable\n",
        "sns.pointplot(data=rfm_melt, x='Metric', y='Value', hue='Cluster')"
      ],
      "execution_count": 101,
      "outputs": [
        {
          "output_type": "execute_result",
          "data": {
            "text/plain": [
              "<matplotlib.axes._subplots.AxesSubplot at 0x7f79093e02d0>"
            ]
          },
          "metadata": {},
          "execution_count": 101
        },
        {
          "output_type": "display_data",
          "data": {
            "image/png": "[encoded data removed]",
            "text/plain": [
              "<Figure size 720x432 with 1 Axes>"
            ]
          },
          "metadata": {}
        }
      ]
    },
    {
      "cell_type": "markdown",
      "metadata": {
        "id": "vNsgCQUAK2nn"
      },
      "source": [
        "**We have to focus on Cluster 3 to improve revenue**"
      ]
    },
    {
      "cell_type": "code",
      "metadata": {
        "colab": {
          "base_uri": "https://localhost:8080/",
          "height": 232
        },
        "id": "3BJS600HKxQj",
        "outputId": "2ea1a3ac-801c-40e4-f448-5e92c229716e"
      },
      "source": [
        "rfm_k4[rfm_k4['Cluster']==3].head()"
      ],
      "execution_count": 102,
      "outputs": [
        {
          "output_type": "execute_result",
          "data": {
            "text/html": [
              "<div>\n",
              "<style scoped>\n",
              "    .dataframe tbody tr th:only-of-type {\n",
              "        vertical-align: middle;\n",
              "    }\n",
              "\n",
              "    .dataframe tbody tr th {\n",
              "        vertical-align: top;\n",
              "    }\n",
              "\n",
              "    .dataframe thead th {\n",
              "        text-align: right;\n",
              "    }\n",
              "</style>\n",
              "<table border=\"1\" class=\"dataframe\">\n",
              "  <thead>\n",
              "    <tr style=\"text-align: right;\">\n",
              "      <th></th>\n",
              "      <th>recency</th>\n",
              "      <th>frequency</th>\n",
              "      <th>monetary_value</th>\n",
              "      <th>r_quartile</th>\n",
              "      <th>f_quartile</th>\n",
              "      <th>m_quartile</th>\n",
              "      <th>RFMScore</th>\n",
              "      <th>Segment_Type</th>\n",
              "      <th>Cluster</th>\n",
              "    </tr>\n",
              "    <tr>\n",
              "      <th>CustomerID</th>\n",
              "      <th></th>\n",
              "      <th></th>\n",
              "      <th></th>\n",
              "      <th></th>\n",
              "      <th></th>\n",
              "      <th></th>\n",
              "      <th></th>\n",
              "      <th></th>\n",
              "      <th></th>\n",
              "    </tr>\n",
              "  </thead>\n",
              "  <tbody>\n",
              "    <tr>\n",
              "      <th>12346.0</th>\n",
              "      <td>326</td>\n",
              "      <td>1</td>\n",
              "      <td>77183.60</td>\n",
              "      <td>4</td>\n",
              "      <td>4</td>\n",
              "      <td>1</td>\n",
              "      <td>441</td>\n",
              "      <td>Splurgers</td>\n",
              "      <td>3</td>\n",
              "    </tr>\n",
              "    <tr>\n",
              "      <th>12822.0</th>\n",
              "      <td>71</td>\n",
              "      <td>46</td>\n",
              "      <td>948.88</td>\n",
              "      <td>3</td>\n",
              "      <td>2</td>\n",
              "      <td>2</td>\n",
              "      <td>322</td>\n",
              "      <td>Other</td>\n",
              "      <td>3</td>\n",
              "    </tr>\n",
              "    <tr>\n",
              "      <th>12830.0</th>\n",
              "      <td>38</td>\n",
              "      <td>38</td>\n",
              "      <td>6814.64</td>\n",
              "      <td>2</td>\n",
              "      <td>3</td>\n",
              "      <td>1</td>\n",
              "      <td>231</td>\n",
              "      <td>Big Spenders</td>\n",
              "      <td>3</td>\n",
              "    </tr>\n",
              "    <tr>\n",
              "      <th>12836.0</th>\n",
              "      <td>59</td>\n",
              "      <td>174</td>\n",
              "      <td>2610.36</td>\n",
              "      <td>3</td>\n",
              "      <td>1</td>\n",
              "      <td>1</td>\n",
              "      <td>311</td>\n",
              "      <td>Almost Lost Customers</td>\n",
              "      <td>3</td>\n",
              "    </tr>\n",
              "    <tr>\n",
              "      <th>12838.0</th>\n",
              "      <td>34</td>\n",
              "      <td>120</td>\n",
              "      <td>671.95</td>\n",
              "      <td>2</td>\n",
              "      <td>1</td>\n",
              "      <td>2</td>\n",
              "      <td>212</td>\n",
              "      <td>Loyal Customers</td>\n",
              "      <td>3</td>\n",
              "    </tr>\n",
              "  </tbody>\n",
              "</table>\n",
              "</div>"
            ],
            "text/plain": [
              "            recency  frequency  ...           Segment_Type  Cluster\n",
              "CustomerID                      ...                                \n",
              "12346.0         326          1  ...              Splurgers        3\n",
              "12822.0          71         46  ...                  Other        3\n",
              "12830.0          38         38  ...           Big Spenders        3\n",
              "12836.0          59        174  ...  Almost Lost Customers        3\n",
              "12838.0          34        120  ...        Loyal Customers        3\n",
              "\n",
              "[5 rows x 9 columns]"
            ]
          },
          "metadata": {},
          "execution_count": 102
        }
      ]
    },
    {
      "cell_type": "markdown",
      "metadata": {
        "id": "wPRlltvWud1h"
      },
      "source": [
        "#***Conclusion-***\n",
        "1. **United Kingdom is the highest revenue generating country in the dataset. It has highest number of customers** \n",
        "\n",
        "2. **Month of November has highest sale. Similarly in weekdays Thursday have highest sale.**\n",
        "\n",
        "3. ****Maximum sales happen on Thursdays and Wednesdays around 11 AM to 4 PM and so we have to start triggering offers and special incentives on these days****\n",
        "\n",
        "4. **Most frequently used item is PAPER CRAFT,LITTLE BIRDIE\tand least frequently used item is CAPIZ CHANDELIER.**\n",
        "\n",
        "5. **The percentage of repeat customers are substantially more than the percentage of one-time customers. Mostly customers are happy with the retail store, We have to convert the one-time customers into repeat customers by offering them good incentives and proper service.**\n",
        "\n",
        "6. **Performed k-means clustering and segmented dataset into different clusters like Best customers, Loyal Customers, Best spender customer, Lost customers etc.**"
      ]
    },
    {
      "cell_type": "code",
      "metadata": {
        "id": "jUwxfSV5u-hA"
      },
      "source": [
        ""
      ],
      "execution_count": null,
      "outputs": []
    }
  ]
}